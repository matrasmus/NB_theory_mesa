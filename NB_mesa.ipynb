{
 "cells": [
  {
   "cell_type": "code",
   "execution_count": 2,
   "id": "b50c9e62-afc8-44af-8298-e2c420346043",
   "metadata": {},
   "outputs": [],
   "source": [
    "from mesa import Model, Agent\n",
    "from mesa.time import RandomActivation\n",
    "from mesa.datacollection import DataCollector\n",
    "\n",
    "\n",
    "import pandas as pd\n",
    "import networkx as nx\n",
    "import matplotlib.pyplot as plt\n",
    "\n",
    "#import statsmodels.api as sm\n",
    "import statsmodels.formula.api as smf\n",
    "from numpy.random import default_rng\n",
    "\n",
    "\n",
    "import seaborn as sns\n",
    "import numpy as np\n",
    "import random\n",
    "import logging\n",
    "import time\n",
    "\n",
    "\n",
    "\n",
    "\n",
    "import os\n",
    "import re\n",
    "\n",
    "from multiprocess import Pool\n",
    "\n",
    "from tqdm import tqdm\n"
   ]
  },
  {
   "cell_type": "code",
   "execution_count": 3,
   "id": "5bd01c07-fa19-48ef-9451-34809cad5d36",
   "metadata": {},
   "outputs": [],
   "source": [
    "# displaying options\n",
    "pd.set_option('display.float_format', '{:.4f}'.format)\n",
    "pd.set_option('display.max_columns', None)\n",
    "pd.set_option('display.max_colwidth', None)\n",
    "# deprecation warning set off\n",
    "pd.options.mode.chained_assignment = None\n",
    "np.set_printoptions(linewidth=np.inf)"
   ]
  },
  {
   "cell_type": "code",
   "execution_count": 3,
   "id": "550b6e96-ff2b-4bd0-85c2-89e228ff1bee",
   "metadata": {},
   "outputs": [],
   "source": [
    "logging.basicConfig(level=logging.INFO, filename='logs/NB_theory.log', format='%(asctime)s - %(levelname)s - %(message)s')\n"
   ]
  },
  {
   "cell_type": "code",
   "execution_count": 4,
   "id": "2ddcbe86-5614-4d1f-9ddd-6cd298f1ce37",
   "metadata": {},
   "outputs": [],
   "source": [
    "class SocialAgent(Agent):\n",
    "    \"\"\"Agent with personal network and state.\"\"\"    \n",
    "    def __init__(self, unique_id, model, n_nodes_int_belief, connected_agents, beta_values, beta_soc, rep, extNet, weight_ext):\n",
    "\n",
    "        super().__init__(unique_id, model)\n",
    "        \n",
    "        self.unique_id = unique_id\n",
    "        #self.runs = runs\n",
    "        self.n_nodes = n_nodes_int_belief\n",
    "        self.connected_agents = connected_agents\n",
    "        self.beta_intPers = beta_values['intPers']\n",
    "        self.beta_intSoc = beta_values['intSoc']\n",
    "        self.beta_intSoc_dynamic = beta_soc\n",
    "        self.beta_ext = beta_values['ext']\n",
    "        self.extNet = extNet\n",
    "        self.weight_ext = weight_ext\n",
    "        self.fullConnNet = 0 #here, a full network will be stored\n",
    "        self.pers_belief_network = self.create_belief_network(self.unique_id ,self.n_nodes, self.connected_agents, weight_int_pers = 0.4, weight_int_soc = 1.0)\n",
    "        self.rep = rep\n",
    "        \n",
    "        \n",
    "\n",
    "    def create_belief_network(self, unique_id, n_nodes, connected_agents, weight_int_pers, weight_int_soc):\n",
    "\n",
    "        \n",
    "        seed = os.getpid() + random.randint(1, 100)\n",
    "        rng = default_rng(seed)\n",
    "\n",
    "        G = nx.DiGraph()\n",
    "\n",
    "        for i in range(n_nodes):\n",
    "            if i == 0: \n",
    "                G.add_node(f'agent{unique_id}_focal_belief', value=rng.choice(np.linspace(-1, 1, 7))) \n",
    "            else:\n",
    "                G.add_node(f'agent{unique_id}_belief_{i}', value=rng.choice(np.linspace(-1, 1, 7)))\n",
    "\n",
    "        for c in connected_agents:\n",
    "            G.add_node(f'agent{unique_id}_soc_belief_{c}', value=rng.choice(np.linspace(-1, 1, 7)))\n",
    "\n",
    "            #print(f'agent{unique_id}_soc_belief_{c}')\n",
    "\n",
    "\n",
    "        focal_node = f'agent{unique_id}_focal_belief'\n",
    "\n",
    "        for i in range(1, n_nodes):\n",
    "            G.add_edge(focal_node, f'agent{unique_id}_belief_{i}', weight=weight_int_pers)  \n",
    "            G.add_edge(f'agent{unique_id}_belief_{i}', focal_node, weight=weight_int_pers)\n",
    "            for j in range(1, n_nodes):\n",
    "                if i != j:\n",
    "                    G.add_edge(f'agent{unique_id}_belief_{j}', f'agent{unique_id}_belief_{i}', weight=weight_int_pers)  \n",
    "                    G.add_edge(f'agent{unique_id}_belief_{i}', f'agent{unique_id}_belief_{j}', weight=weight_int_pers) \n",
    "\n",
    "        for c in connected_agents:\n",
    "            G.add_edge(focal_node, f'agent{unique_id}_soc_belief_{c}', weight = weight_int_soc)\n",
    "            G.add_edge(f'agent{unique_id}_soc_belief_{c}', focal_node, weight = weight_int_soc)\n",
    "\n",
    "\n",
    "        return G\n",
    "    \n",
    "\n",
    "    \n",
    "\n",
    "    def step(self):\n",
    "        #print(connected_agents)\n",
    "        self.create_full_connected_network(self.pers_belief_network, self.connected_agents)\n",
    "        self.update_state()\n",
    "        \n",
    "    def get_value_dict(self):\n",
    "        \n",
    "        \n",
    "        G = self.pers_belief_network\n",
    "        beta_dict = self.beta_intSoc_dynamic\n",
    "        \n",
    "        upper_limit = self.beta_intSoc*2\n",
    "        \n",
    "    \n",
    "        focal_node = list(G.nodes(data=True))[0][1]['value']\n",
    "\n",
    "        soc_beliefs = {int(index.split('_')[3]): belief['value']  for index, belief in G.nodes(data=True) if 'soc_belief' in index}\n",
    "\n",
    "        for key, value in soc_beliefs.items():\n",
    "\n",
    "            diff = focal_node - value\n",
    "            norm = self.get_y_value(diff)\n",
    "            \n",
    "            \n",
    "            current_value = beta_dict[key][-1]\n",
    "            increment = (norm - 1)  * current_value * (1 - current_value / upper_limit)\n",
    "            current_value += increment\n",
    "            current_value = min(current_value, upper_limit)\n",
    "            \n",
    "            beta_dict[key].append(current_value)\n",
    "\n",
    "        self.beta_intSoc_dynamic = beta_dict\n",
    "        \n",
    "\n",
    "    def dynamic_betas(self, adj_matrix):\n",
    "        \n",
    "        G = self.pers_belief_network\n",
    "        beta_dict = self.beta_intSoc_dynamic\n",
    "        adj = adj_matrix\n",
    "    \n",
    "        soc_belief_coords = {int(belief.split('_')[3]): index for index, belief in enumerate(G.nodes()) if 'soc_belief' in belief}\n",
    "\n",
    "        for key, value in soc_belief_coords.items():\n",
    "            #print(key, value, beta_dict)\n",
    "            adj[value][0] = beta_dict[key][-1]\n",
    "            adj[0][value] = beta_dict[key][-1]\n",
    "\n",
    "\n",
    "        return adj\n",
    "    \n",
    "    \n",
    "    \n",
    "    def scaled_logistic(self, x, L, k, x0, ymin, ymax):\n",
    "\n",
    "        y = L / (1 + np.exp(-k * (x - x0)))\n",
    "        # Scale y to be in the range [ymin, ymax]\n",
    "        # Since x is a single value, scaling directly without min/max functions\n",
    "        scaled_y = (ymax - ymin) * (y - 0) / (1 - 0) + ymin  # simplified scaling for single x\n",
    "        # Invert y around the midpoint of ymin and ymax to start and end high\n",
    "        return ymax + ymin - scaled_y\n",
    "\n",
    "    \n",
    "\n",
    "    def get_y_value(self, x):\n",
    "\n",
    "        L = 1        # Max value of the unscaled logistic function\n",
    "        k = 3      # Adjusted steepness of the curve, reduced for a wider transition\n",
    "        x0 = 0.5       # Midpoint of the sigmoid, where the lowest point is expected\n",
    "        ymin = 0.1   # Minimum y value in the desired output\n",
    "        ymax = 1.5     \n",
    "        \n",
    "        y = self.scaled_logistic(x, L, k, x0, ymin, ymax)\n",
    "        \n",
    "        return y\n",
    "    \n",
    "    \n",
    "    def create_full_connected_network(self, focal_network, connected_agents):\n",
    "        \n",
    "\n",
    "        soc_beliefs_networks = [(connected_agent.unique_id, connected_agent.pers_belief_network) for connected_agent in self.model.schedule.agents if connected_agent.unique_id in connected_agents]\n",
    "\n",
    "        fullNet = focal_network.copy()\n",
    "\n",
    "        for id, net in soc_beliefs_networks:\n",
    "\n",
    "\n",
    "            fullNet = nx.compose(fullNet, net)\n",
    "            fullNet.add_edge(f'agent{id}_focal_belief', f'agent{self.unique_id}_soc_belief_{id}', weight = self.weight_ext)\n",
    "            fullNet.add_edge(f'agent{self.unique_id}_focal_belief', f'agent{id}_soc_belief_{self.unique_id}', weight = self.weight_ext)\n",
    "\n",
    "\n",
    "\n",
    "        self.fullConnNet = fullNet\n",
    "\n",
    "\n",
    "\n",
    "\n",
    "\n",
    "    def update_state(self):\n",
    "\n",
    "        fullNet = self.fullConnNet\n",
    "        pers_net_nodes = self.pers_belief_network.nodes()\n",
    "\n",
    "        fullNet_adj = nx.adjacency_matrix(fullNet).toarray()\n",
    "        fullNetSim = fullNet_adj.copy()\n",
    "     \n",
    "        fullNetSim = self.dynamic_betas(fullNetSim)\n",
    "        \n",
    "        fullNetSim[fullNet_adj == 0.4] = fullNet_adj[fullNet_adj == 0.4] * self.beta_intPers\n",
    "        #fullNetSim[fullNet_adj == 1.0] = fullNet_adj[fullNet_adj == 1.0] * self.beta_intSoc\n",
    "        fullNetSim[fullNet_adj == 1.4] = fullNet_adj[fullNet_adj == 1.4] * self.beta_ext\n",
    "        \n",
    "        self.get_value_dict()\n",
    "        \n",
    "        \n",
    "        for index, node in enumerate(pers_net_nodes):\n",
    "\n",
    "            probUnstPerValue = []\n",
    "            for k in range(7):\n",
    "                connections = np.delete(fullNetSim[index], index)\n",
    "\n",
    "                currentState = fullNet.nodes[node]['value']\n",
    "                flippedState = np.linspace(-1, 1, 7)[k]\n",
    "                connectedStates = [data['value'] for _, data in fullNet.nodes(data=True)]\n",
    "                connectedStates = np.delete(np.array(connectedStates), index)\n",
    "\n",
    "                probUnstPerValue.append(1/(1+ np.exp((-np.sum(connections * flippedState * connectedStates) + np.sum(connections * currentState * connectedStates)))))\n",
    "\n",
    "            probPerValue = [k / sum(probUnstPerValue) for k in probUnstPerValue]\n",
    "            \n",
    "            a = np.random.choice(np.linspace(-1, 1, 7), 1,  p=probPerValue)[0]\n",
    "            ###########################BUG fullNet.nodes[f'agent{self.unique_id}_belief_0']['value'] = a\n",
    "            fullNet.nodes[node]['value'] = a\n",
    "            \n",
    "        updated_pers__network = fullNet.subgraph(pers_net_nodes).copy()\n",
    "        self.pers_belief_network = updated_pers__network\n",
    "        \n",
    "        \n",
    "\n",
    "        \n",
    "        \n",
    "    def get_focal_node_states(self):\n",
    "        \n",
    "        focal_node = self.pers_belief_network.nodes()[f'agent{self.unique_id}_focal_belief']['value']\n",
    "\n",
    "        return focal_node\n",
    "    \n",
    "    \n",
    "    def get_mean_node_states(self):\n",
    "\n",
    "        pattern = r'agent(\\d+)_belief_(\\d+)'\n",
    "        \n",
    "        nodes = [data['value'] for i, data in self.pers_belief_network.nodes(data=True) if re.match(pattern, i)]\n",
    "\n",
    "        mean_node_states = (sum(nodes)/len(nodes))\n",
    "\n",
    "        return mean_node_states\n",
    "    \n",
    "    def get_node_states(self):\n",
    "        \n",
    "        #nodes = [(i, data['value']) for i, data in self.pers_belief_network.nodes(data=True)]\n",
    "        nodes = self.pers_belief_network\n",
    "        \n",
    "        return nodes\n",
    "    \n",
    "    def get_extNet(self):\n",
    "        \n",
    "        return self.extNet\n",
    "    \n",
    "    \n",
    "    def get_dynamic_beta(self):\n",
    "\n",
    "        soc_beliefs = {int(index.split('_')[3]): belief['value']  for index, belief in self.pers_belief_network.nodes(data=True) if 'soc_belief' in index}\n",
    "        \n",
    "        latest_beta = {key : (soc_beliefs[key], value[-1]) for key, value in self.beta_intSoc_dynamic.items()}\n",
    "            \n",
    "        return latest_beta\n",
    "            \n",
    "        \n",
    "    \n",
    "    def get_test(self):\n",
    "        \n",
    "        return self.test\n",
    "   \n",
    "        \n"
   ]
  },
  {
   "cell_type": "code",
   "execution_count": 5,
   "id": "1a02b5f0-e7aa-4aaa-86ca-f3bbd3a64de7",
   "metadata": {},
   "outputs": [],
   "source": [
    "class NetworkModel(Model):   \n",
    "    \n",
    "    def __init__(self, n_nodes_int_pers, n_nodes_soc, beta_variations, ext_net, rep):\n",
    "\n",
    "        super().__init__()\n",
    "\n",
    "        self.schedule = RandomActivation(self)\n",
    "        self.n_nodes_soc = n_nodes_soc\n",
    "        self.n_nodes_int_pers = n_nodes_int_pers\n",
    "        self.beta_variations = beta_variations\n",
    "        self.ext_net = ext_net\n",
    "        self.rep = rep       \n",
    "        \n",
    "\n",
    "\n",
    "        beta_soc = {}\n",
    "\n",
    "        # Initialize agents and assign to external network nodes\n",
    "        for i, node in enumerate(self.ext_net.nodes()):\n",
    "            connected_agents = list(self.ext_net.neighbors(i))\n",
    "            beta = self.beta_variations\n",
    "            #for c in connected_agents:\n",
    "            #beta_soc = {c:[self.beta_variations['intSoc']] for c in connected_agents}\n",
    "            beta_soc = {c:[1] for c in connected_agents}\n",
    "            #network = create_belief_network(i, self.n_nodes_int_pers, connected_agents, weight_int_pers=0.4, weight_int_soc=1.0)\n",
    "            agent = SocialAgent(i, self, self.n_nodes_int_pers, connected_agents, self.beta_variations, beta_soc, self.rep, self.ext_net, weight_ext=1.4)\n",
    "            self.schedule.add(agent)\n",
    "\n",
    "        self.datacollector = DataCollector(\n",
    "            agent_reporters={\"betaIntPers\" : \"beta_intPers\"\n",
    "                             , \"betaIntSoc\" : \"beta_intSoc\"\n",
    "                             , \"betaExt\" : \"beta_ext\"\n",
    "                             , \"rep\" : \"rep\"\n",
    "                             , \"focalNodeStates\" : SocialAgent.get_focal_node_states\n",
    "                             , \"meanNodeStates\" : SocialAgent.get_mean_node_states\n",
    "                             , \"NodeStates\" : SocialAgent.get_node_states\n",
    "                             , \"extNet\" : SocialAgent.get_extNet\n",
    "                             , \"dynamic_betas\" : SocialAgent.get_dynamic_beta\n",
    "                            })\n",
    "            #model_reporters={\"focalNodeStates\" : self.get_focal_node_states,\n",
    "            #                 \"meanNodeStates\" : self.get_mean_node_states}\n",
    "                             \n",
    "                \n",
    "\n",
    "    def step(self):\n",
    "        #if self.schedule.steps > 38:\n",
    "        self.datacollector.collect(self)\n",
    "        #print(self.schedule.steps)\n",
    "            \n",
    "        self.schedule.step()\n",
    "\n",
    "    "
   ]
  },
  {
   "cell_type": "code",
   "execution_count": 7,
   "id": "e2fd2e75-205c-445e-8314-24c257530e41",
   "metadata": {},
   "outputs": [],
   "source": [
    "def run_simulation(params):\n",
    "\n",
    "    model = NetworkModel(params['n_nodes_int_pers'], params['n_nodes_soc'], params['beta_variations'], params['ext_net'], params['n_reps'])\n",
    "    #while model.schedule.steps < params['n_steps']:\n",
    "    for _ in range(params['n_steps']):\n",
    "        model.step()\n",
    "\n",
    "    # Extract and return simulation data\n",
    "    agent_data = model.datacollector.get_agent_vars_dataframe()\n",
    "    #model_data = model.datacollector.get_model_vars_dataframe()\n",
    "\n",
    "    #data = pd.concat([agent_data, model_data], axis = 1)\n",
    "    return agent_data\n",
    "\n",
    "\n",
    "\n",
    "\n",
    "\n",
    "def define_param_list(n_reps, n_nodes_int_pers, n_nodes_soc, n_steps, beta_values):\n",
    "    \n",
    "    sizes = [n_nodes_soc // 2, n_nodes_soc // 2]\n",
    "    p_matrix = [[0.4, 0.01], [0.01, 0.4]]\n",
    "    ext_net = nx.stochastic_block_model(sizes, p_matrix)\n",
    "    ext_net_adj = nx.adjacency_matrix(ext_net).toarray()\n",
    "    #np.save(f\"data/extNet{n_nodes_soc}_{n_steps}.npy\", ext_net_adj)\n",
    "        \n",
    "    #with reps:\n",
    "    params = [{'ext_net': ext_net,'n_nodes_int_pers' : n_nodes_int_pers, 'n_nodes_soc' : n_nodes_soc, 'n_steps' : n_steps, 'n_reps' : i, 'beta_variations' : {'intPers': p, 'intSoc': s, 'ext': e}} for i in range(n_reps) for p in beta_values for s in beta_values for e in beta_values]\n",
    "    \n",
    "    #without reps\n",
    "    #params = [{'ext_net': ext_net,'n_nodes_int_pers' : n_nodes_int_pers, 'n_nodes_soc' : n_nodes_soc, 'n_steps' : n_steps, 'beta_variations' : {'intPers': p, 'intSoc': s, 'ext': e}} for p in beta_values for s in beta_values for e in beta_values]\n",
    "\n",
    "    return params\n",
    "\n",
    "\n",
    "\n",
    "def pool_simulation(n_cores, params):\n",
    "    sim_results= []\n",
    "\n",
    "    pool = Pool(n_cores)\n",
    "\n",
    "    for result in tqdm(\n",
    "        pool.imap_unordered(func=run_simulation, iterable=params),\n",
    "        total=len(params)\n",
    "        ):\n",
    "            #result['durchgang'] = params['n_reps']\n",
    "            sim_results.append(result)\n",
    "\n",
    "        \n",
    "    pool.close()\n",
    "\n",
    "    return pd.concat(sim_results)\n",
    "\n",
    "    "
   ]
  },
  {
   "cell_type": "code",
   "execution_count": null,
   "id": "897aab55-d08c-4fe2-a0ad-8845112deb50",
   "metadata": {},
   "outputs": [],
   "source": [
    "sizes = [n_nodes_soc // 2, n_nodes_soc // 2]\n",
    "p_matrix = [[0.4, 0.01], [0.01, 0.4]]\n",
    "ext_net = nx.stochastic_block_model(sizes, p_matrix)\n",
    "ext_net_adj = nx.adjacency_matrix(ext_net).toarray()"
   ]
  },
  {
   "cell_type": "code",
   "execution_count": null,
   "id": "ac8df065-23c8-4dd0-8f21-3731af947d1c",
   "metadata": {},
   "outputs": [],
   "source": []
  },
  {
   "cell_type": "code",
   "execution_count": null,
   "id": "ddf3fa71-35f1-4f4b-922b-96a8e2d800e6",
   "metadata": {},
   "outputs": [
    {
     "name": "stderr",
     "output_type": "stream",
     "text": [
      "  0%|                                                   | 0/160 [00:00<?, ?it/s]"
     ]
    }
   ],
   "source": [
    "sim_results = pool_simulation(80, define_param_list(n_reps = 20, n_nodes_int_pers=10, n_nodes_soc=100, n_steps=50, beta_values=[0.5, 2]))"
   ]
  },
  {
   "cell_type": "code",
   "execution_count": 292,
   "id": "54e1ee93-71b6-41e1-9d47-ccc98c2eec37",
   "metadata": {},
   "outputs": [],
   "source": [
    "def set_identifier(df_s):\n",
    "    \n",
    "    df_s = df_s.reset_index()\n",
    "    df_s['identifier'] = df_s.apply(lambda x: f\"{x['betaIntPers']}-{x['betaIntSoc']}-{x['betaExt']}-{x['rep']}\", axis=1)\n",
    "\n",
    "    # Step 2: Convert the identifier to a categorical type and assign codes\n",
    "    df_s['id'] = df_s['identifier'].astype('category').cat.codes\n",
    "    df_s = df_s.drop(columns = ['identifier'])\n",
    "    df_s = df_s[['betaIntPers', 'betaIntSoc', 'betaExt', 'AgentID', 'Step', 'id', 'focalNodeStates', 'meanNodeStates', \"NodeStates\", \"rep\"]]#, \"Test\"]]\n",
    "    #df_s = df_s.rename(columns = {'durchgang' : 'rep'})\n",
    "    \n",
    "    return df_s"
   ]
  },
  {
   "cell_type": "code",
   "execution_count": 293,
   "id": "f2c13773-d8a4-4f3e-b0f9-b664fb936e2e",
   "metadata": {},
   "outputs": [],
   "source": [
    "sim = set_identifier(sim_a_results)"
   ]
  },
  {
   "cell_type": "code",
   "execution_count": 299,
   "id": "20d5f3d0-e092-4403-9dd7-16143b1a0d24",
   "metadata": {},
   "outputs": [],
   "source": [
    "sim.to_csv(\"data/prod_static_50steps.csv\")"
   ]
  },
  {
   "cell_type": "code",
   "execution_count": 12,
   "id": "bd98faed-3cbe-45d9-830b-ac5f74b443b9",
   "metadata": {},
   "outputs": [],
   "source": [
    "#sim[sim.AgentID == 1]"
   ]
  },
  {
   "cell_type": "code",
   "execution_count": 38,
   "id": "66d3003e-0fae-488f-b60f-45d06441eb75",
   "metadata": {},
   "outputs": [],
   "source": [
    "#a[a.AgentID == 2].head(10)"
   ]
  },
  {
   "cell_type": "code",
   "execution_count": 44,
   "id": "a3381843-5898-48c2-b8dd-a7c1cde595c6",
   "metadata": {},
   "outputs": [],
   "source": [
    "def scaled_logistic(x, L, k, x0, ymin, ymax):\n",
    "\n",
    "    y = L / (1 + np.exp(-k * (x - x0)))\n",
    "    # Scale y to be in the range [ymin, ymax]\n",
    "    # Since x is a single value, scaling directly without min/max functions\n",
    "    scaled_y = (ymax - ymin) * (y - 0) / (1 - 0) + ymin  # simplified scaling for single x\n",
    "    # Invert y around the midpoint of ymin and ymax to start and end high\n",
    "    return ymax + ymin - scaled_y\n",
    "\n",
    "\n",
    "\n",
    "def get_y_value( x):\n",
    "\n",
    "    L = 1        # Max value of the unscaled logistic function\n",
    "    k = 3        \n",
    "    x0 = 1       \n",
    "    ymin = 0.2   \n",
    "    ymax = 1.5     \n",
    "\n",
    "    y = scaled_logistic(x, L, k, x0, ymin, ymax)\n",
    "\n",
    "    return y\n",
    "    "
   ]
  },
  {
   "cell_type": "code",
   "execution_count": 13,
   "id": "4abf9941-1713-4328-a30a-8a5802323196",
   "metadata": {},
   "outputs": [
    {
     "data": {
      "image/png": "[encoded data removed]",
      "text/plain": [
       "<Figure size 576x432 with 1 Axes>"
      ]
     },
     "metadata": {
      "needs_background": "light"
     },
     "output_type": "display_data"
    }
   ],
   "source": [
    "def scaled_logistic(x, L, k, x0, ymin, ymax):\n",
    "    # Logistic function\n",
    "    y = L / (1 + np.exp(-k * (x - x0)))\n",
    "    # Scale y to be in the range [ymin, ymax]\n",
    "    scaled_y = (y - np.min(y)) / (np.max(y) - np.min(y)) * (ymax - ymin) + ymin\n",
    "    # Invert y around the midpoint of ymin and ymax to start and end high\n",
    "    return ymax + ymin - scaled_y\n",
    "\n",
    "# Create a sequence of x values from 0 to 2\n",
    "x = np.linspace(0, 2, 20)\n",
    "\n",
    "# Define parameters for the logistic function\n",
    "L = 1        # Max value of the unscaled logistic function\n",
    "k = 3      # Adjusted steepness of the curve, reduced for a wider transition\n",
    "x0 = 0.5       # Midpoint of the sigmoid, where the lowest point is expected\n",
    "ymin = 0.1   # Minimum y value in the desired output\n",
    "ymax = 1.5     # Maximum y value in the desired output\n",
    "\n",
    "# Calculate y values using the scaled logistic function\n",
    "y = scaled_logistic(x, L, k, x0, ymin, ymax)\n",
    "\n",
    "# Plotting\n",
    "plt.figure(figsize=(8, 6))\n",
    "plt.plot(x, y, marker='o')  # Line plot with points\n",
    "plt.title(\"Adjusted Scaled and Inverted Logistic Function\")\n",
    "plt.xlabel(\"x\")\n",
    "plt.ylabel(\"y\")\n",
    "plt.grid(True)\n",
    "plt.show()"
   ]
  },
  {
   "cell_type": "code",
   "execution_count": null,
   "id": "3a7b28dd-8849-4d04-aa52-c1e65f2e7b22",
   "metadata": {},
   "outputs": [],
   "source": []
  },
  {
   "cell_type": "code",
   "execution_count": 15,
   "id": "76336c44-d877-41bf-bee1-ed3009549185",
   "metadata": {},
   "outputs": [
    {
     "name": "stdout",
     "output_type": "stream",
     "text": [
      "Final value: 3.992869193430423\n",
      "All values: [2, 2.5, 2.96875, 3.3514404296875, 3.623141525313258, 3.7938179739137268, 3.8915951084717335, 3.94432860167246, 3.971776887762262, 3.9857888758730833, 3.992869193430423]\n"
     ]
    },
    {
     "data": {
      "image/png": "[encoded data removed]",
      "text/plain": [
       "<Figure size 576x288 with 1 Axes>"
      ]
     },
     "metadata": {
      "needs_background": "light"
     },
     "output_type": "display_data"
    }
   ],
   "source": [
    "# Parameters\n",
    "start_value = 2\n",
    "upper_limit = 4\n",
    "current_value = start_value\n",
    "increment_factor = 1.5\n",
    "values = [start_value]  # List to store the values for visualization\n",
    "\n",
    "# Increment until the values are close to the upper limit\n",
    "for _ in range(10):\n",
    "    # Calculate the increment, reduced as currentValue approaches upperLimit\n",
    "    increment = (increment_factor - 1) * current_value * (1 - current_value / upper_limit)\n",
    "    current_value += increment\n",
    "    current_value = min(current_value, upper_limit)  # Ensure it does not exceed upperLimit\n",
    "    values.append(current_value)  # Store the value for visualization\n",
    "\n",
    "# Print final result\n",
    "print(\"Final value:\", current_value)\n",
    "print(\"All values:\", values)\n",
    "\n",
    "# Plotting\n",
    "plt.figure(figsize=(8, 4))\n",
    "plt.plot(values, marker='o', linestyle='-')\n",
    "plt.title('Value Increase Towards Upper Limit')\n",
    "plt.xlabel('Step')\n",
    "plt.ylabel('Value')\n",
    "plt.grid(True)\n",
    "plt.show()"
   ]
  },
  {
   "cell_type": "code",
   "execution_count": null,
   "id": "5546a543-3e85-4536-9b1a-50c04e6cf014",
   "metadata": {},
   "outputs": [],
   "source": []
  },
  {
   "cell_type": "code",
   "execution_count": 7,
   "id": "029428e7-6866-4fd6-a64b-7d6340120ff8",
   "metadata": {},
   "outputs": [],
   "source": [
    "sim = sim_results.reset_index()"
   ]
  },
  {
   "cell_type": "code",
   "execution_count": 87,
   "id": "960b995a-0604-4afe-99e1-02cfd2cbfcd8",
   "metadata": {},
   "outputs": [],
   "source": [
    "sim = sim[sim.Step == 1].copy()\n",
    "sim.NodeStates[100]\n",
    "adj = nx.adjacency_matrix(sim.NodeStates[103]).toarray()"
   ]
  },
  {
   "cell_type": "code",
   "execution_count": 153,
   "id": "d0f84a56-2273-4285-8a65-9b32eabb2f33",
   "metadata": {},
   "outputs": [],
   "source": [
    "g = sim[sim.AgentID == 0].extNet[0]"
   ]
  },
  {
   "cell_type": "code",
   "execution_count": 294,
   "id": "3421b76b-0d18-43af-b45d-21d5550d9d93",
   "metadata": {},
   "outputs": [],
   "source": [
    "sim_a = sim[(sim.Step == 4) & (sim.betaIntPers == 2) & (sim.betaIntSoc == .5) & (sim.betaExt == .5) & (sim.rep == 3)]"
   ]
  },
  {
   "cell_type": "code",
   "execution_count": 295,
   "id": "14fe936c-4e90-43cc-8109-5c159c49e273",
   "metadata": {},
   "outputs": [
    {
     "data": {
      "text/html": [
       "<div>\n",
       "<style scoped>\n",
       "    .dataframe tbody tr th:only-of-type {\n",
       "        vertical-align: middle;\n",
       "    }\n",
       "\n",
       "    .dataframe tbody tr th {\n",
       "        vertical-align: top;\n",
       "    }\n",
       "\n",
       "    .dataframe thead th {\n",
       "        text-align: right;\n",
       "    }\n",
       "</style>\n",
       "<table border=\"1\" class=\"dataframe\">\n",
       "  <thead>\n",
       "    <tr style=\"text-align: right;\">\n",
       "      <th></th>\n",
       "      <th>betaIntPers</th>\n",
       "      <th>betaIntSoc</th>\n",
       "      <th>betaExt</th>\n",
       "      <th>AgentID</th>\n",
       "      <th>Step</th>\n",
       "      <th>id</th>\n",
       "      <th>focalNodeStates</th>\n",
       "      <th>meanNodeStates</th>\n",
       "      <th>NodeStates</th>\n",
       "      <th>rep</th>\n",
       "    </tr>\n",
       "  </thead>\n",
       "  <tbody>\n",
       "    <tr>\n",
       "      <th>350400</th>\n",
       "      <td>2.0000</td>\n",
       "      <td>0.5000</td>\n",
       "      <td>0.5000</td>\n",
       "      <td>0</td>\n",
       "      <td>4</td>\n",
       "      <td>93</td>\n",
       "      <td>1.0000</td>\n",
       "      <td>0.4074</td>\n",
       "      <td>(agent0_soc_belief_47, agent0_belief_6, agent0_soc_belief_49, agent0_soc_belief_5, agent0_soc_belief_1, agent0_soc_belief_18, agent0_soc_belief_46, agent0_soc_belief_19, agent0_soc_belief_34, agent0_soc_belief_35, agent0_belief_1, agent0_belief_5, agent0_belief_8, agent0_soc_belief_14, agent0_belief_3, agent0_soc_belief_23, agent0_soc_belief_41, agent0_soc_belief_31, agent0_soc_belief_13, agent0_soc_belief_42, agent0_belief_9, agent0_soc_belief_33, agent0_soc_belief_3, agent0_soc_belief_2, agent0_belief_4, agent0_belief_2, agent0_soc_belief_29, agent0_soc_belief_37, agent0_soc_belief_7, agent0_soc_belief_30, agent0_belief_7, agent0_focal_belief)</td>\n",
       "      <td>3</td>\n",
       "    </tr>\n",
       "    <tr>\n",
       "      <th>350401</th>\n",
       "      <td>2.0000</td>\n",
       "      <td>0.5000</td>\n",
       "      <td>0.5000</td>\n",
       "      <td>1</td>\n",
       "      <td>4</td>\n",
       "      <td>93</td>\n",
       "      <td>-1.0000</td>\n",
       "      <td>-0.7778</td>\n",
       "      <td>(agent1_soc_belief_15, agent1_soc_belief_17, agent1_soc_belief_30, agent1_soc_belief_42, agent1_soc_belief_32, agent1_soc_belief_40, agent1_soc_belief_25, agent1_soc_belief_27, agent1_soc_belief_51, agent1_belief_3, agent1_soc_belief_5, agent1_belief_2, agent1_soc_belief_9, agent1_soc_belief_49, agent1_belief_9, agent1_belief_6, agent1_soc_belief_24, agent1_belief_8, agent1_focal_belief, agent1_soc_belief_22, agent1_belief_4, agent1_soc_belief_4, agent1_soc_belief_0, agent1_belief_1, agent1_belief_7, agent1_soc_belief_13, agent1_belief_5, agent1_soc_belief_20, agent1_soc_belief_33)</td>\n",
       "      <td>3</td>\n",
       "    </tr>\n",
       "  </tbody>\n",
       "</table>\n",
       "</div>"
      ],
      "text/plain": [
       "        betaIntPers  betaIntSoc  betaExt  AgentID  Step  id  focalNodeStates  \\\n",
       "350400       2.0000      0.5000   0.5000        0     4  93           1.0000   \n",
       "350401       2.0000      0.5000   0.5000        1     4  93          -1.0000   \n",
       "\n",
       "        meanNodeStates  \\\n",
       "350400          0.4074   \n",
       "350401         -0.7778   \n",
       "\n",
       "                                                                                                                                                                                                                                                                                                                                                                                                                                                                                                                                                                                                                                                                           NodeStates  \\\n",
       "350400  (agent0_soc_belief_47, agent0_belief_6, agent0_soc_belief_49, agent0_soc_belief_5, agent0_soc_belief_1, agent0_soc_belief_18, agent0_soc_belief_46, agent0_soc_belief_19, agent0_soc_belief_34, agent0_soc_belief_35, agent0_belief_1, agent0_belief_5, agent0_belief_8, agent0_soc_belief_14, agent0_belief_3, agent0_soc_belief_23, agent0_soc_belief_41, agent0_soc_belief_31, agent0_soc_belief_13, agent0_soc_belief_42, agent0_belief_9, agent0_soc_belief_33, agent0_soc_belief_3, agent0_soc_belief_2, agent0_belief_4, agent0_belief_2, agent0_soc_belief_29, agent0_soc_belief_37, agent0_soc_belief_7, agent0_soc_belief_30, agent0_belief_7, agent0_focal_belief)   \n",
       "350401                                                                   (agent1_soc_belief_15, agent1_soc_belief_17, agent1_soc_belief_30, agent1_soc_belief_42, agent1_soc_belief_32, agent1_soc_belief_40, agent1_soc_belief_25, agent1_soc_belief_27, agent1_soc_belief_51, agent1_belief_3, agent1_soc_belief_5, agent1_belief_2, agent1_soc_belief_9, agent1_soc_belief_49, agent1_belief_9, agent1_belief_6, agent1_soc_belief_24, agent1_belief_8, agent1_focal_belief, agent1_soc_belief_22, agent1_belief_4, agent1_soc_belief_4, agent1_soc_belief_0, agent1_belief_1, agent1_belief_7, agent1_soc_belief_13, agent1_belief_5, agent1_soc_belief_20, agent1_soc_belief_33)   \n",
       "\n",
       "        rep  \n",
       "350400    3  \n",
       "350401    3  "
      ]
     },
     "execution_count": 295,
     "metadata": {},
     "output_type": "execute_result"
    }
   ],
   "source": [
    "sim_a.head(2)"
   ]
  },
  {
   "cell_type": "code",
   "execution_count": 296,
   "id": "566a1b7c-a6df-4c01-97f9-e7de99d82b4f",
   "metadata": {},
   "outputs": [],
   "source": [
    "df = pd.DataFrame(sim_a.groupby([\"AgentID\"])[\"focalNodeStates\"].mean()).reset_index()"
   ]
  },
  {
   "cell_type": "code",
   "execution_count": 297,
   "id": "15c75af9-c561-4bd7-a3ba-c25282a093f1",
   "metadata": {},
   "outputs": [
    {
     "data": {
      "text/html": [
       "<div>\n",
       "<style scoped>\n",
       "    .dataframe tbody tr th:only-of-type {\n",
       "        vertical-align: middle;\n",
       "    }\n",
       "\n",
       "    .dataframe tbody tr th {\n",
       "        vertical-align: top;\n",
       "    }\n",
       "\n",
       "    .dataframe thead th {\n",
       "        text-align: right;\n",
       "    }\n",
       "</style>\n",
       "<table border=\"1\" class=\"dataframe\">\n",
       "  <thead>\n",
       "    <tr style=\"text-align: right;\">\n",
       "      <th></th>\n",
       "      <th>AgentID</th>\n",
       "      <th>focalNodeStates</th>\n",
       "    </tr>\n",
       "  </thead>\n",
       "  <tbody>\n",
       "    <tr>\n",
       "      <th>0</th>\n",
       "      <td>0</td>\n",
       "      <td>1.0000</td>\n",
       "    </tr>\n",
       "    <tr>\n",
       "      <th>1</th>\n",
       "      <td>1</td>\n",
       "      <td>-1.0000</td>\n",
       "    </tr>\n",
       "    <tr>\n",
       "      <th>2</th>\n",
       "      <td>2</td>\n",
       "      <td>1.0000</td>\n",
       "    </tr>\n",
       "    <tr>\n",
       "      <th>3</th>\n",
       "      <td>3</td>\n",
       "      <td>-1.0000</td>\n",
       "    </tr>\n",
       "    <tr>\n",
       "      <th>4</th>\n",
       "      <td>4</td>\n",
       "      <td>1.0000</td>\n",
       "    </tr>\n",
       "  </tbody>\n",
       "</table>\n",
       "</div>"
      ],
      "text/plain": [
       "   AgentID  focalNodeStates\n",
       "0        0           1.0000\n",
       "1        1          -1.0000\n",
       "2        2           1.0000\n",
       "3        3          -1.0000\n",
       "4        4           1.0000"
      ]
     },
     "execution_count": 297,
     "metadata": {},
     "output_type": "execute_result"
    }
   ],
   "source": [
    "df.head(5)"
   ]
  },
  {
   "cell_type": "markdown",
   "id": "5d0b63c6-4c60-4011-97d3-15c6e65c895f",
   "metadata": {},
   "source": [
    "Graphic representation"
   ]
  },
  {
   "cell_type": "code",
   "execution_count": null,
   "id": "dbdd2b19-d1b9-42ac-96fb-0a4915246010",
   "metadata": {},
   "outputs": [],
   "source": [
    "edges_in_graph = []\n",
    "for index, row in sim_a.iterrows():\n",
    "    d = row['dynamic_betas']\n",
    "    #edges_per_agent = []\n",
    "    for key, value in d.items():\n",
    "        edges_in_graph.append((row.AgentID, key, value[1]))\n",
    "    #edges_in_graph.append(edges_per_agent)\n",
    "    "
   ]
  },
  {
   "cell_type": "code",
   "execution_count": null,
   "id": "c441c514-5017-4c32-8d3a-175629ae3387",
   "metadata": {},
   "outputs": [],
   "source": []
  },
  {
   "cell_type": "code",
   "execution_count": 261,
   "id": "25ccc2dc-de18-4653-857b-e7c42d867de9",
   "metadata": {},
   "outputs": [],
   "source": [
    "def get_color(value):\n",
    "    # Define RGB for sea-blue and blood-red\n",
    "    sea_blue = (39, 100, 123)  # RGB for #27647B\n",
    "    blood_red = (202, 53, 66)  # RGB for #CA3542\n",
    "    \n",
    "    # Interpolate between sea-blue and blood-red based on value\n",
    "    r = int(sea_blue[0] + (blood_red[0] - sea_blue[0]) * (value + 1) / 2)\n",
    "    g = int(sea_blue[1] + (blood_red[1] - sea_blue[1]) * (value + 1) / 2)\n",
    "    b = int(sea_blue[2] + (blood_red[2] - sea_blue[2]) * (value + 1) / 2)\n",
    "    \n",
    "    return f\"#{r:02x}{g:02x}{b:02x}\""
   ]
  },
  {
   "cell_type": "code",
   "execution_count": null,
   "id": "99288983-51fb-489f-a683-1b5457906f68",
   "metadata": {},
   "outputs": [],
   "source": []
  },
  {
   "cell_type": "code",
   "execution_count": 285,
   "id": "3cda6f94-641f-494a-8624-491382f4a15f",
   "metadata": {},
   "outputs": [
    {
     "name": "stdout",
     "output_type": "stream",
     "text": [
      "Local cdn resources have problems on chrome/safari when used in jupyter-notebook. \n"
     ]
    },
    {
     "data": {
      "text/html": [
       "\n",
       "        <iframe\n",
       "            width=\"100%\"\n",
       "            height=\"750px\"\n",
       "            src=\"example.html\"\n",
       "            frameborder=\"0\"\n",
       "            allowfullscreen\n",
       "        ></iframe>\n",
       "        "
      ],
      "text/plain": [
       "<IPython.lib.display.IFrame at 0x7f37f82dee80>"
      ]
     },
     "execution_count": 285,
     "metadata": {},
     "output_type": "execute_result"
    }
   ],
   "source": [
    "from pyvis.network import Network\n",
    "\n",
    "net = Network(notebook=True, height=\"750px\", width=\"100%\")\n",
    "\n",
    "# Add nodes with color defined by DataFrame\n",
    "for index, row in df.iterrows():\n",
    "    node_color = get_color(row['focalNodeStates'])\n",
    "    if row['AgentID'] < 25:\n",
    "        node_shape = 'square'\n",
    "        node_size = 20\n",
    "    else:\n",
    "        node_shape = 'ellipse'\n",
    "        node_size = 40\n",
    "    net.add_node(int(row['AgentID']), color=node_color, shape = node_shape, size = node_size)\n",
    "\n",
    "# Add edges from NetworkX graph\n",
    "for start, end, weight in edges_in_graph:\n",
    "    intensity = 255 - int(weight * 20)  # Calculate intensity, more weight => darker\n",
    "    color = f\"#{intensity:02x}{intensity:02x}{intensity:02x}\"  # Convert to hex\n",
    "    net.add_edge(start, end, value=weight*0.001, color=color)\n",
    "\n",
    "# Show the network\n",
    "net.show(\"example.html\")"
   ]
  },
  {
   "cell_type": "markdown",
   "id": "0deba36d-6052-431f-a785-4b4c24a11241",
   "metadata": {},
   "source": [
    "Link updating mechanism\n"
   ]
  },
  {
   "cell_type": "code",
   "execution_count": null,
   "id": "2c8af230-a33a-4fb9-9643-54805aca1f03",
   "metadata": {},
   "outputs": [],
   "source": []
  },
  {
   "cell_type": "code",
   "execution_count": null,
   "id": "c4921ac5-e1bb-4b7b-88ce-0af95d8582cc",
   "metadata": {},
   "outputs": [],
   "source": [
    "\n",
    "    \n",
    "    "
   ]
  },
  {
   "cell_type": "code",
   "execution_count": null,
   "id": "31d57ccc-a1f6-430a-9cca-a90ad036a99e",
   "metadata": {},
   "outputs": [],
   "source": []
  },
  {
   "cell_type": "code",
   "execution_count": null,
   "id": "07d19223-00ee-4ae0-8e8c-fd04701fe7c9",
   "metadata": {},
   "outputs": [],
   "source": []
  },
  {
   "cell_type": "code",
   "execution_count": null,
   "id": "b2620c89-6039-47ff-8bce-5c886f7553a7",
   "metadata": {},
   "outputs": [],
   "source": []
  },
  {
   "cell_type": "code",
   "execution_count": null,
   "id": "9171b3d7-072f-4292-aada-c2cbf6fc6621",
   "metadata": {},
   "outputs": [],
   "source": []
  },
  {
   "cell_type": "code",
   "execution_count": null,
   "id": "408f5adc-ab59-41c1-854f-e715834fbaa7",
   "metadata": {},
   "outputs": [],
   "source": []
  },
  {
   "cell_type": "markdown",
   "id": "00c1a097-b985-46e2-8ba9-db93d6e280ec",
   "metadata": {},
   "source": [
    "*Testing link update*"
   ]
  },
  {
   "cell_type": "code",
   "execution_count": 17,
   "id": "28fc0e2b-4a97-4fab-a9a0-ab3d1a808a06",
   "metadata": {},
   "outputs": [],
   "source": [
    "def create_belief_network(unique_id, n_nodes, connected_agents, weight_int_pers, weight_int_soc):\n",
    "\n",
    "    seed = os.getpid() + unique_id\n",
    "    #np.random.seed(seed)\n",
    "    rng = default_rng(seed)\n",
    "\n",
    "    G = nx.DiGraph()\n",
    "\n",
    "    for i in range(n_nodes):\n",
    "        if i == 0: \n",
    "            G.add_node(f'agent{unique_id}_focal_belief', value=rng.choice(np.linspace(-1, 1, 7))) \n",
    "        else:\n",
    "            G.add_node(f'agent{unique_id}_belief_{i}', value=rng.choice(np.linspace(-1, 1, 7)))\n",
    "\n",
    "    for c in connected_agents:\n",
    "        G.add_node(f'agent{unique_id}_soc_belief_{c}', value=rng.choice(np.linspace(-1, 1, 7)))\n",
    "\n",
    "        #print(f'agent{unique_id}_soc_belief_{c}')\n",
    "\n",
    "\n",
    "    focal_node = f'agent{unique_id}_focal_belief'\n",
    "\n",
    "    for i in range(1, n_nodes):\n",
    "        G.add_edge(focal_node, f'agent{unique_id}_belief_{i}', weight=weight_int_pers)  \n",
    "        G.add_edge(f'agent{unique_id}_belief_{i}', focal_node, weight=weight_int_pers)\n",
    "        for j in range(1, n_nodes):\n",
    "            if i != j:\n",
    "                G.add_edge(f'agent{unique_id}_belief_{j}', f'agent{unique_id}_belief_{i}', weight=weight_int_pers)  \n",
    "                G.add_edge(f'agent{unique_id}_belief_{i}', f'agent{unique_id}_belief_{j}', weight=weight_int_pers) \n",
    "\n",
    "    for c in connected_agents:\n",
    "        G.add_edge(focal_node, f'agent{unique_id}_soc_belief_{c}', weight = weight_int_soc)\n",
    "        G.add_edge(f'agent{unique_id}_soc_belief_{c}', focal_node, weight = weight_int_soc)\n",
    "\n",
    "\n",
    "    return G"
   ]
  },
  {
   "cell_type": "code",
   "execution_count": 18,
   "id": "45e59f0b-ae3d-4864-b513-d7875dd1ed8a",
   "metadata": {},
   "outputs": [],
   "source": [
    "G = create_belief_network(1, 5, [2,4,7], 0.4, 1.0)"
   ]
  },
  {
   "cell_type": "code",
   "execution_count": 19,
   "id": "c85d777c-414e-45ab-958e-957bb53695e7",
   "metadata": {},
   "outputs": [],
   "source": [
    "def create_full_connected_network(unique_id, focal_network, soc_belief_networks):\n",
    "\n",
    "\n",
    "    fullNet = focal_network.copy()\n",
    "\n",
    "    for id, net in soc_belief_networks:\n",
    "\n",
    "        fullNet = nx.compose(fullNet, net)\n",
    "        fullNet.add_edge(f'agent{id}_focal_belief', f'agent{unique_id}_soc_belief_{id}', weight = 1.4)\n",
    "        fullNet.add_edge(f'agent{unique_id}_focal_belief', f'agent{id}_soc_belief_{unique_id}', weight = 1.4)\n",
    "\n",
    "\n",
    "    return fullNet"
   ]
  },
  {
   "cell_type": "code",
   "execution_count": 20,
   "id": "118a302c-8563-4dc0-8484-23ba8c7bffba",
   "metadata": {},
   "outputs": [],
   "source": [
    "G2 = create_belief_network(2, 5, [1,4,7], 0.4, 1.0)\n",
    "G4 = create_belief_network(4, 5, [1,2,7], 0.4, 1.0)\n",
    "G7 = create_belief_network(7, 5, [1,2,4], 0.4, 1.0)"
   ]
  },
  {
   "cell_type": "code",
   "execution_count": 21,
   "id": "521b857c-734f-43c5-91e4-fa36022d4c8b",
   "metadata": {},
   "outputs": [],
   "source": [
    "soc_bel_nets = [(2,G2)]#, (4,G4), (7,G7)]"
   ]
  },
  {
   "cell_type": "code",
   "execution_count": 22,
   "id": "5f602335-7068-4a9a-a1e9-9644f6ce3672",
   "metadata": {},
   "outputs": [],
   "source": [
    "f_net = create_full_connected_network(1, G, soc_bel_nets)"
   ]
  },
  {
   "cell_type": "code",
   "execution_count": 23,
   "id": "17e5b29d-2217-428d-947c-dee92d3e6774",
   "metadata": {},
   "outputs": [],
   "source": [
    "fullNet = f_net\n",
    "pers_net_nodes = G.nodes()\n",
    "\n",
    "fullNet_adj = nx.adjacency_matrix(fullNet).toarray()\n",
    "fullNetSim = fullNet_adj.copy()\n",
    "\n",
    "\n",
    "#fullNetSim[fullNet_adj == 0.4] = fullNet_adj[fullNet_adj == 0.4] * self.beta_intPers\n",
    "#fullNetSim[fullNet_adj == 1.0] = fullNet_adj[fullNet_adj == 1.0] * self.beta_intSoc\n",
    "#fullNetSim[fullNet_adj == 1.4] = fullNet_adj[fullNet_adj == 1.4] * self.beta_ext\n"
   ]
  },
  {
   "cell_type": "code",
   "execution_count": null,
   "id": "8c39f5e1-7fe0-4e2c-9013-716b7e79b0cb",
   "metadata": {},
   "outputs": [],
   "source": []
  },
  {
   "cell_type": "code",
   "execution_count": 338,
   "id": "80902222-bea3-4ced-bb28-35f20578bcca",
   "metadata": {},
   "outputs": [
    {
     "name": "stdout",
     "output_type": "stream",
     "text": [
      "5 agent1_soc_belief_2\n",
      "6 agent1_soc_belief_4\n",
      "7 agent1_soc_belief_7\n",
      "13 agent2_soc_belief_1\n",
      "14 agent2_soc_belief_4\n",
      "15 agent2_soc_belief_7\n"
     ]
    }
   ],
   "source": [
    "for index, node in enumerate(fullNet.nodes()) if 'soc_belief' in node\n",
    "    if 'soc_belief' in node:\n",
    "        print(index, node)"
   ]
  },
  {
   "cell_type": "code",
   "execution_count": 339,
   "id": "1e13d5dd-f786-403a-9343-28005a310072",
   "metadata": {},
   "outputs": [
    {
     "data": {
      "text/plain": [
       "NodeView(('agent1_focal_belief', 'agent1_belief_1', 'agent1_belief_2', 'agent1_belief_3', 'agent1_belief_4', 'agent1_soc_belief_2', 'agent1_soc_belief_4', 'agent1_soc_belief_7', 'agent2_focal_belief', 'agent2_belief_1', 'agent2_belief_2', 'agent2_belief_3', 'agent2_belief_4', 'agent2_soc_belief_1', 'agent2_soc_belief_4', 'agent2_soc_belief_7'))"
      ]
     },
     "execution_count": 339,
     "metadata": {},
     "output_type": "execute_result"
    }
   ],
   "source": [
    "fullNet.nodes()"
   ]
  },
  {
   "cell_type": "code",
   "execution_count": 80,
   "id": "6355ebf4-6248-4d7f-8593-bbbfe1473a2f",
   "metadata": {},
   "outputs": [],
   "source": [
    "adj = nx.adjacency_matrix(fullNet).toarray()#"
   ]
  },
  {
   "cell_type": "code",
   "execution_count": 81,
   "id": "04775f85-0e70-449f-a21b-7c65f80c3b97",
   "metadata": {},
   "outputs": [
    {
     "data": {
      "text/plain": [
       "array([[0. , 0.4, 0.4, 0.4, 0.4, 1. , 1. , 1. , 0. , 0. , 0. , 0. , 0. , 1.4, 0. , 0. ],\n",
       "       [0.4, 0. , 0.4, 0.4, 0.4, 0. , 0. , 0. , 0. , 0. , 0. , 0. , 0. , 0. , 0. , 0. ],\n",
       "       [0.4, 0.4, 0. , 0.4, 0.4, 0. , 0. , 0. , 0. , 0. , 0. , 0. , 0. , 0. , 0. , 0. ],\n",
       "       [0.4, 0.4, 0.4, 0. , 0.4, 0. , 0. , 0. , 0. , 0. , 0. , 0. , 0. , 0. , 0. , 0. ],\n",
       "       [0.4, 0.4, 0.4, 0.4, 0. , 0. , 0. , 0. , 0. , 0. , 0. , 0. , 0. , 0. , 0. , 0. ],\n",
       "       [1. , 0. , 0. , 0. , 0. , 0. , 0. , 0. , 0. , 0. , 0. , 0. , 0. , 0. , 0. , 0. ],\n",
       "       [1. , 0. , 0. , 0. , 0. , 0. , 0. , 0. , 0. , 0. , 0. , 0. , 0. , 0. , 0. , 0. ],\n",
       "       [1. , 0. , 0. , 0. , 0. , 0. , 0. , 0. , 0. , 0. , 0. , 0. , 0. , 0. , 0. , 0. ],\n",
       "       [0. , 0. , 0. , 0. , 0. , 1.4, 0. , 0. , 0. , 0.4, 0.4, 0.4, 0.4, 1. , 1. , 1. ],\n",
       "       [0. , 0. , 0. , 0. , 0. , 0. , 0. , 0. , 0.4, 0. , 0.4, 0.4, 0.4, 0. , 0. , 0. ],\n",
       "       [0. , 0. , 0. , 0. , 0. , 0. , 0. , 0. , 0.4, 0.4, 0. , 0.4, 0.4, 0. , 0. , 0. ],\n",
       "       [0. , 0. , 0. , 0. , 0. , 0. , 0. , 0. , 0.4, 0.4, 0.4, 0. , 0.4, 0. , 0. , 0. ],\n",
       "       [0. , 0. , 0. , 0. , 0. , 0. , 0. , 0. , 0.4, 0.4, 0.4, 0.4, 0. , 0. , 0. , 0. ],\n",
       "       [0. , 0. , 0. , 0. , 0. , 0. , 0. , 0. , 1. , 0. , 0. , 0. , 0. , 0. , 0. , 0. ],\n",
       "       [0. , 0. , 0. , 0. , 0. , 0. , 0. , 0. , 1. , 0. , 0. , 0. , 0. , 0. , 0. , 0. ],\n",
       "       [0. , 0. , 0. , 0. , 0. , 0. , 0. , 0. , 1. , 0. , 0. , 0. , 0. , 0. , 0. , 0. ]])"
      ]
     },
     "execution_count": 81,
     "metadata": {},
     "output_type": "execute_result"
    }
   ],
   "source": [
    "adj"
   ]
  },
  {
   "cell_type": "code",
   "execution_count": 130,
   "id": "eec1a461-fb89-401e-95a5-1ffece9b4808",
   "metadata": {},
   "outputs": [],
   "source": [
    "beta_dict = {c:[1] for c in [2,4,7]}"
   ]
  },
  {
   "cell_type": "code",
   "execution_count": 118,
   "id": "b9702737-386e-40b9-8298-6eaa4ff64d7c",
   "metadata": {},
   "outputs": [],
   "source": [
    "def get_dynamic_weights(G, adj, beta_dict):\n",
    "    \n",
    "    soc_belief_coords = {int(belief.split('_')[3]): index for index, belief in enumerate(G.nodes()) if 'soc_belief' in belief}\n",
    "    \n",
    "    for key, value in soc_belief_coords.items():\n",
    "        adj[value][0] = round(beta_dict[key][-1], 4)\n",
    "        adj[0][value] = round(beta_dict[key][-1], 4)\n",
    "        \n",
    "        \n",
    "    return adj"
   ]
  },
  {
   "cell_type": "code",
   "execution_count": 119,
   "id": "9cdad83c-b7bf-4282-a037-e44dc52ca0d7",
   "metadata": {},
   "outputs": [],
   "source": [
    "def get_value_dict(G, d):\n",
    "        \n",
    "    upper_limit = 2\n",
    "\n",
    "\n",
    "    focal_node = list(G.nodes(data=True))[0][1]['value']\n",
    "\n",
    "    soc_beliefs = {int(index.split('_')[3]): belief['value']  for index, belief in G.nodes(data=True) if 'soc_belief' in index}\n",
    "\n",
    "    for key, value in soc_beliefs.items():\n",
    "\n",
    "        diff = focal_node - value\n",
    "        norm = get_y_value(diff)\n",
    "\n",
    "\n",
    "        current_value = d[key][-1]\n",
    "        increment = (norm - 1)  * current_value * (1 - current_value / upper_limit)\n",
    "        current_value += increment\n",
    "        current_value = min(current_value, upper_limit)\n",
    "\n",
    "        d[key].append(current_value)\n",
    "\n",
    "    return d"
   ]
  },
  {
   "cell_type": "code",
   "execution_count": 138,
   "id": "d3c8dc19-3600-43da-a370-7a33a249a2e0",
   "metadata": {},
   "outputs": [
    {
     "data": {
      "text/plain": [
       "{2: [1,\n",
       "  1.2191731824345815,\n",
       "  1.4278179681508878,\n",
       "  1.6068762744756606,\n",
       "  1.745328234083037,\n",
       "  1.8427476065619108,\n",
       "  1.9062588380446364],\n",
       " 4: [1,\n",
       "  0.7748119238904968,\n",
       "  0.5610430607232977,\n",
       "  0.3792449424907034,\n",
       "  0.24083012835544162,\n",
       "  0.14542669897576316,\n",
       "  0.08469246754301121],\n",
       " 7: [1,\n",
       "  0.6774818993143765,\n",
       "  0.38851146232404804,\n",
       "  0.18658875954096202,\n",
       "  0.07746084032288576,\n",
       "  0.029430961358578617,\n",
       "  0.010726285049008962]}"
      ]
     },
     "execution_count": 138,
     "metadata": {},
     "output_type": "execute_result"
    }
   ],
   "source": [
    "get_value_dict(G, beta_dict)"
   ]
  },
  {
   "cell_type": "code",
   "execution_count": null,
   "id": "2c4df30f-09ea-4f55-a643-e666516c5d07",
   "metadata": {},
   "outputs": [],
   "source": []
  },
  {
   "cell_type": "code",
   "execution_count": 139,
   "id": "00c2830b-3d83-4e95-b0fd-1c10447c915e",
   "metadata": {},
   "outputs": [
    {
     "data": {
      "text/plain": [
       "array([[0.    , 0.4   , 0.4   , 0.4   , 0.4   , 1.9063, 0.0847, 0.0107, 0.    , 0.    , 0.    , 0.    , 0.    , 1.4   , 0.    , 0.    ],\n",
       "       [0.4   , 0.    , 0.4   , 0.4   , 0.4   , 0.    , 0.    , 0.    , 0.    , 0.    , 0.    , 0.    , 0.    , 0.    , 0.    , 0.    ],\n",
       "       [0.4   , 0.4   , 0.    , 0.4   , 0.4   , 0.    , 0.    , 0.    , 0.    , 0.    , 0.    , 0.    , 0.    , 0.    , 0.    , 0.    ],\n",
       "       [0.4   , 0.4   , 0.4   , 0.    , 0.4   , 0.    , 0.    , 0.    , 0.    , 0.    , 0.    , 0.    , 0.    , 0.    , 0.    , 0.    ],\n",
       "       [0.4   , 0.4   , 0.4   , 0.4   , 0.    , 0.    , 0.    , 0.    , 0.    , 0.    , 0.    , 0.    , 0.    , 0.    , 0.    , 0.    ],\n",
       "       [1.9063, 0.    , 0.    , 0.    , 0.    , 0.    , 0.    , 0.    , 0.    , 0.    , 0.    , 0.    , 0.    , 0.    , 0.    , 0.    ],\n",
       "       [0.0847, 0.    , 0.    , 0.    , 0.    , 0.    , 0.    , 0.    , 0.    , 0.    , 0.    , 0.    , 0.    , 0.    , 0.    , 0.    ],\n",
       "       [0.0107, 0.    , 0.    , 0.    , 0.    , 0.    , 0.    , 0.    , 0.    , 0.    , 0.    , 0.    , 0.    , 0.    , 0.    , 0.    ],\n",
       "       [0.    , 0.    , 0.    , 0.    , 0.    , 1.4   , 0.    , 0.    , 0.    , 0.4   , 0.4   , 0.4   , 0.4   , 1.    , 1.    , 1.    ],\n",
       "       [0.    , 0.    , 0.    , 0.    , 0.    , 0.    , 0.    , 0.    , 0.4   , 0.    , 0.4   , 0.4   , 0.4   , 0.    , 0.    , 0.    ],\n",
       "       [0.    , 0.    , 0.    , 0.    , 0.    , 0.    , 0.    , 0.    , 0.4   , 0.4   , 0.    , 0.4   , 0.4   , 0.    , 0.    , 0.    ],\n",
       "       [0.    , 0.    , 0.    , 0.    , 0.    , 0.    , 0.    , 0.    , 0.4   , 0.4   , 0.4   , 0.    , 0.4   , 0.    , 0.    , 0.    ],\n",
       "       [0.    , 0.    , 0.    , 0.    , 0.    , 0.    , 0.    , 0.    , 0.4   , 0.4   , 0.4   , 0.4   , 0.    , 0.    , 0.    , 0.    ],\n",
       "       [0.    , 0.    , 0.    , 0.    , 0.    , 0.    , 0.    , 0.    , 1.    , 0.    , 0.    , 0.    , 0.    , 0.    , 0.    , 0.    ],\n",
       "       [0.    , 0.    , 0.    , 0.    , 0.    , 0.    , 0.    , 0.    , 1.    , 0.    , 0.    , 0.    , 0.    , 0.    , 0.    , 0.    ],\n",
       "       [0.    , 0.    , 0.    , 0.    , 0.    , 0.    , 0.    , 0.    , 1.    , 0.    , 0.    , 0.    , 0.    , 0.    , 0.    , 0.    ]])"
      ]
     },
     "execution_count": 139,
     "metadata": {},
     "output_type": "execute_result"
    }
   ],
   "source": [
    "get_dynamic_weights(G, adj, beta_dict)"
   ]
  },
  {
   "cell_type": "code",
   "execution_count": null,
   "id": "55ebd8cd-366b-4553-ba59-ebe7204f9888",
   "metadata": {},
   "outputs": [],
   "source": []
  },
  {
   "cell_type": "code",
   "execution_count": null,
   "id": "a4029a0f-b812-4540-af72-2b5877c13ae3",
   "metadata": {},
   "outputs": [],
   "source": []
  },
  {
   "cell_type": "code",
   "execution_count": null,
   "id": "7fb114f1-fd6b-47fa-8d38-921e03060eed",
   "metadata": {},
   "outputs": [],
   "source": []
  },
  {
   "cell_type": "code",
   "execution_count": null,
   "id": "296f8096-f8f5-4410-807a-ca33fe2b696d",
   "metadata": {},
   "outputs": [],
   "source": [
    "beta_dict"
   ]
  },
  {
   "cell_type": "code",
   "execution_count": null,
   "id": "3a0baa02-98e5-4310-ac9d-47c7b029579e",
   "metadata": {},
   "outputs": [],
   "source": []
  },
  {
   "cell_type": "code",
   "execution_count": null,
   "id": "c37b5c32-77a6-41ba-912f-6d85bd6b8b01",
   "metadata": {},
   "outputs": [],
   "source": []
  },
  {
   "cell_type": "code",
   "execution_count": null,
   "id": "86aaffd4-8566-43bf-a5f2-4fcbd4557941",
   "metadata": {},
   "outputs": [],
   "source": []
  },
  {
   "cell_type": "code",
   "execution_count": 619,
   "id": "e81a0556-3118-4b5f-8ded-f2a9e412dbbf",
   "metadata": {},
   "outputs": [],
   "source": [
    "def get_dynamic_weights(G, adj):\n",
    "    \n",
    "    soc_belief_coords = {int(belief.split('_')[3]): index for index, belief in enumerate(G.nodes()) if 'soc_belief' in belief}\n",
    "    \n",
    "    for key, value in soc_belief_coords.items():\n",
    "        adj[value][0] = beta_dict[key][-1]\n",
    "        adj[0][value] = beta_dict[key][-1]\n",
    "        \n",
    "        \n",
    "    return adj\n",
    "    "
   ]
  },
  {
   "cell_type": "code",
   "execution_count": 594,
   "id": "12732707-1bba-45a9-af99-46e3a097ab94",
   "metadata": {},
   "outputs": [],
   "source": [
    "soc_belief_coords = {int(belief.split('_')[3]): index for index, belief in enumerate(G.nodes()) if 'soc_belief' in belief}\n"
   ]
  },
  {
   "cell_type": "code",
   "execution_count": 611,
   "id": "8ef15fd1-29e7-4c70-bdc1-9fb73fd65efe",
   "metadata": {},
   "outputs": [
    {
     "name": "stdout",
     "output_type": "stream",
     "text": [
      "2 5\n",
      "4 6\n",
      "7 7\n"
     ]
    }
   ],
   "source": [
    "for key, value in soc_belief_coords.items():\n",
    "    adj[value][0] = beta_dict[key][-1]"
   ]
  },
  {
   "cell_type": "code",
   "execution_count": null,
   "id": "8f1506ea-7a94-418d-a3df-d281ccac6cca",
   "metadata": {},
   "outputs": [],
   "source": []
  },
  {
   "cell_type": "code",
   "execution_count": 596,
   "id": "3a4fd27d-97e8-436d-9c8b-5475394cd58c",
   "metadata": {},
   "outputs": [
    {
     "data": {
      "text/plain": [
       "{2: 5, 4: 6, 7: 7}"
      ]
     },
     "execution_count": 596,
     "metadata": {},
     "output_type": "execute_result"
    }
   ],
   "source": [
    "soc_belief_coords"
   ]
  },
  {
   "cell_type": "code",
   "execution_count": null,
   "id": "7e88721b-1b10-4bc9-a51e-6a4300d674de",
   "metadata": {},
   "outputs": [],
   "source": []
  },
  {
   "cell_type": "code",
   "execution_count": 621,
   "id": "0005cf87-487b-47c3-82cd-c0d7481f3639",
   "metadata": {},
   "outputs": [],
   "source": [
    "def get_value_dict(G, d):\n",
    "    \n",
    "    focal_node = list(G.nodes(data=True))[0][1]['value']\n",
    "         \n",
    "    soc_beliefs = {int(index.split('_')[3]): belief['value']  for index, belief in G.nodes(data=True) if 'soc_belief' in index}\n",
    "    \n",
    "    for key, value in soc_beliefs.items():\n",
    "        \n",
    "        diff = focal_node - value\n",
    "        \n",
    "        norm = get_y_value(diff)\n",
    "        tmp = d[key][-1] * norm\n",
    "        d[key].append(tmp)\n",
    "        \n",
    "    return d\n",
    "\n",
    "    "
   ]
  },
  {
   "cell_type": "code",
   "execution_count": null,
   "id": "4241e65d-7fde-4602-884a-b7a74144372f",
   "metadata": {},
   "outputs": [],
   "source": []
  },
  {
   "cell_type": "code",
   "execution_count": 416,
   "id": "5ee69a97-6151-4ed2-a1fd-2332415f9211",
   "metadata": {},
   "outputs": [],
   "source": [
    "beta_soc = {}\n",
    "\n",
    "#focal_nodes = [(index, int(belief.split('_')[0][5])) for index, belief in enumerate(fullNet.nodes()) if 'focal_belief' in belief]\n",
    "\n",
    "#for k in focal_nodes:\n",
    "\n",
    "\n",
    "    \n",
    "connected_agents = {int(belief.split('_')[3]):index_belief for index_belief, belief in enumerate(G.nodes()) if 'soc_belief' in belief}\n",
    "\n",
    "\n",
    "    \n",
    "    #for index_belief, belief in enumerate(fullNet.nodes()):\n",
    "    #    if 'soc_belief' in belief:\n",
    "    #        tmp = {}\n",
    "    #        beta_soc[k[1]] = \n",
    "    \n",
    "    \n",
    "    #values = {c[0]:[+3.9] for c in connected_agents}\n",
    "    \n",
    "\n",
    "#beta_soc[k[1]] = values\n",
    "    \n",
    "    \n",
    "    \n",
    "    #fullNet[k[0]]"
   ]
  },
  {
   "cell_type": "code",
   "execution_count": null,
   "id": "d6250d19-6bf2-459a-a6bb-e95ace213145",
   "metadata": {},
   "outputs": [],
   "source": [
    "\n",
    "\n",
    "for index, row in t.iterrows():\n",
    "     \n",
    "    soc_beliefs = [belief.split('_')[3]  for belief in row['NodeStates'] if 'soc_belief' in belief]\n",
    "    \n",
    "    \n",
    "    \n",
    "    for i in soc_beliefs:\n",
    "        diff = row.focalNodeStates - t.loc[t.AgentID == int(i)].focalNodeStates\n",
    "        norm = get_y_value(diff)\n",
    "        #new_betas[]\n",
    "        #beta_soc[i.AgentID][4].append(1.45)\n",
    "        print(norm)"
   ]
  },
  {
   "cell_type": "code",
   "execution_count": 421,
   "id": "fa0854ca-df4a-4aed-a903-36f7da8d4b90",
   "metadata": {},
   "outputs": [
    {
     "data": {
      "text/plain": [
       "5"
      ]
     },
     "execution_count": 421,
     "metadata": {},
     "output_type": "execute_result"
    }
   ],
   "source": [
    "connected_agents[2]"
   ]
  },
  {
   "cell_type": "code",
   "execution_count": 402,
   "id": "93a27de1-e69d-458f-b4da-5ccc0c619797",
   "metadata": {},
   "outputs": [
    {
     "data": {
      "text/plain": [
       "NodeView(('agent1_focal_belief', 'agent1_belief_1', 'agent1_belief_2', 'agent1_belief_3', 'agent1_belief_4', 'agent1_soc_belief_2', 'agent1_soc_belief_4', 'agent1_soc_belief_7', 'agent2_focal_belief', 'agent2_belief_1', 'agent2_belief_2', 'agent2_belief_3', 'agent2_belief_4', 'agent2_soc_belief_1', 'agent2_soc_belief_4', 'agent2_soc_belief_7'))"
      ]
     },
     "execution_count": 402,
     "metadata": {},
     "output_type": "execute_result"
    }
   ],
   "source": [
    "fullNet.nodes()"
   ]
  },
  {
   "cell_type": "code",
   "execution_count": 403,
   "id": "1ec02de8-1b0b-4d9b-b71a-21bd672164f2",
   "metadata": {},
   "outputs": [
    {
     "data": {
      "text/plain": [
       "{(5, 2), (6, 4), (7, 7), (13, 1), (14, 4), (15, 7)}"
      ]
     },
     "execution_count": 403,
     "metadata": {},
     "output_type": "execute_result"
    }
   ],
   "source": [
    "{c for c in connected_agents}"
   ]
  },
  {
   "cell_type": "code",
   "execution_count": 404,
   "id": "2ea28e49-9a0a-4c36-b318-22d65507f977",
   "metadata": {},
   "outputs": [
    {
     "data": {
      "text/plain": [
       "{1: {5: [3.9], 6: [3.9], 7: [3.9], 13: [3.9], 14: [3.9], 15: [3.9]},\n",
       " 2: {5: [3.9], 6: [3.9], 7: [3.9], 13: [3.9], 14: [3.9], 15: [3.9]}}"
      ]
     },
     "execution_count": 404,
     "metadata": {},
     "output_type": "execute_result"
    }
   ],
   "source": [
    "beta_soc"
   ]
  },
  {
   "cell_type": "code",
   "execution_count": 293,
   "id": "a9f72723-3b24-4ab5-981f-af57449f5db0",
   "metadata": {},
   "outputs": [
    {
     "data": {
      "text/plain": [
       "NodeView(('agent1_belief_0', 'agent1_belief_1', 'agent1_belief_2', 'agent1_belief_3', 'agent1_belief_4', 'agent1_soc_belief_2', 'agent1_soc_belief_4', 'agent1_soc_belief_7'))"
      ]
     },
     "execution_count": 293,
     "metadata": {},
     "output_type": "execute_result"
    }
   ],
   "source": [
    "G.nodes()"
   ]
  },
  {
   "cell_type": "code",
   "execution_count": 287,
   "id": "c7cc1802-a535-411f-8b01-284a1287b4d6",
   "metadata": {},
   "outputs": [
    {
     "data": {
      "text/plain": [
       "array([1])"
      ]
     },
     "execution_count": 287,
     "metadata": {},
     "output_type": "execute_result"
    }
   ],
   "source": [
    "outgoing_edges"
   ]
  },
  {
   "cell_type": "code",
   "execution_count": 288,
   "id": "8664ce6b-d08d-4347-ba7d-0781aa29968a",
   "metadata": {},
   "outputs": [
    {
     "data": {
      "image/png": "[encoded data removed]",
      "text/plain": [
       "<Figure size 1440x1152 with 1 Axes>"
      ]
     },
     "metadata": {},
     "output_type": "display_data"
    }
   ],
   "source": [
    "plt.figure(figsize=(20, 16))  # Width and height in inches\n",
    "\n",
    "# Draw the graph\n",
    "nx.draw_networkx(fullNet)\n",
    "\n",
    "# Show plot\n",
    "plt.show()"
   ]
  },
  {
   "cell_type": "code",
   "execution_count": null,
   "id": "1c8f33d0-233d-4132-930e-a6e662010458",
   "metadata": {},
   "outputs": [],
   "source": []
  },
  {
   "cell_type": "code",
   "execution_count": null,
   "id": "9cf5cda9-0f12-48c1-9bd2-2187584b2182",
   "metadata": {},
   "outputs": [],
   "source": []
  },
  {
   "cell_type": "code",
   "execution_count": null,
   "id": "ab713828-b3ba-4ee3-9102-5c4c7a38dc8b",
   "metadata": {},
   "outputs": [],
   "source": [
    "t = test[:10]\n",
    "\n",
    "new_betas = {}\n",
    "\n",
    "for i in t.AgentID:\n",
    "    new_betas[i] = []\n",
    "    \n",
    "\n",
    "for index, row in t.iterrows():\n",
    "    \n",
    "    soc_beliefs = [belief.split('_')[3]  for belief in row['NodeStates'] if 'soc_belief' in belief]\n",
    "    \n",
    "    for i in soc_beliefs:\n",
    "        print(row.AgentID, i)\n",
    "        #diff = row.focalNodeStates - \n",
    "        diff = row.focalNodeStates - t.loc[t.AgentID == int(i)].focalNodeStates\n",
    "        #diff = t[int(i)].focalNodeStates\n",
    "        print(diff)"
   ]
  },
  {
   "cell_type": "code",
   "execution_count": 179,
   "id": "5c20c1fb-9999-43fc-b0f4-e5187cf5ca8b",
   "metadata": {},
   "outputs": [
    {
     "data": {
      "text/plain": [
       "1   -0.666667\n",
       "Name: focalNodeStates, dtype: float64"
      ]
     },
     "execution_count": 179,
     "metadata": {},
     "output_type": "execute_result"
    }
   ],
   "source": [
    "t.loc[t.AgentID == 1]['focalNodeStates']"
   ]
  },
  {
   "cell_type": "code",
   "execution_count": null,
   "id": "bfc108ab-947d-4194-bc22-6068ea0af35b",
   "metadata": {},
   "outputs": [],
   "source": []
  },
  {
   "cell_type": "code",
   "execution_count": null,
   "id": "d7a836e0-784c-47ce-a5ad-f7a96189ffec",
   "metadata": {},
   "outputs": [],
   "source": [
    "soc_beliefs = [belief for belief, value in agent_nodes if 'soc_belief' in belief]"
   ]
  },
  {
   "cell_type": "code",
   "execution_count": 143,
   "id": "d8c1eed5-c934-4473-9d5a-2c6cc950b437",
   "metadata": {},
   "outputs": [],
   "source": [
    "new_betas = {}\n",
    "\n"
   ]
  },
  {
   "cell_type": "code",
   "execution_count": 144,
   "id": "cfd1530f-eda5-4f2f-840d-aa40712bc228",
   "metadata": {},
   "outputs": [],
   "source": [
    "t = test[:10]\n",
    "\n",
    "for i in t.AgentID:\n",
    "    new_betas[i] = []"
   ]
  },
  {
   "cell_type": "code",
   "execution_count": 145,
   "id": "6a3a6d35-dcb6-4499-91db-85c00e71d6fc",
   "metadata": {},
   "outputs": [
    {
     "data": {
      "text/plain": [
       "{0: [], 1: [], 2: [], 3: [], 4: [], 5: [], 6: [], 7: [], 8: [], 9: []}"
      ]
     },
     "execution_count": 145,
     "metadata": {},
     "output_type": "execute_result"
    }
   ],
   "source": [
    "new_betas"
   ]
  },
  {
   "cell_type": "code",
   "execution_count": 155,
   "id": "079f296b-ed84-4d53-837f-35c10e0df4f5",
   "metadata": {},
   "outputs": [
    {
     "name": "stdout",
     "output_type": "stream",
     "text": [
      "The y value for x = 2 is 0.510039276386427\n"
     ]
    }
   ],
   "source": [
    "def scaled_logistic(x, L, k, x0, ymin, ymax):\n",
    "    # Logistic function\n",
    "    y = L / (1 + np.exp(-k * (x - x0)))\n",
    "    # Scale y to be in the range [ymin, ymax]\n",
    "    # Since x is a single value, scaling directly without min/max functions\n",
    "    scaled_y = (ymax - ymin) * (y - 0) / (1 - 0) + ymin  # simplified scaling for single x\n",
    "    # Invert y around the midpoint of ymin and ymax to start and end high\n",
    "    return ymax + ymin - scaled_y\n",
    "\n",
    "# Function to get a y value for a given x\n",
    "def get_y_value(x):\n",
    "    # Define parameters for the logistic function\n",
    "    L = 1        # Max value of the unscaled logistic function\n",
    "    k = 5        # Adjusted steepness of the curve, reduced for a wider transition\n",
    "    x0 = 1       # Midpoint of the sigmoid, where the lowest point is expected\n",
    "    ymin = 0.5   # Minimum y value in the desired output\n",
    "    ymax = 2     # Maximum y value in the desired output\n",
    "\n",
    "    # Calculate y value using the scaled logistic function\n",
    "    y = scaled_logistic(x, L, k, x0, ymin, ymax)\n",
    "    return y\n",
    "\n",
    "x_value = 2  # You can change this value to test different inputs\n",
    "y_value = get_y_value(x_value)\n",
    "print(f\"The y value for x = {x_value} is {y_value}\")\n",
    "\n",
    "\n",
    "# Plotting\n",
    "#plt.figure(figsize=(8, 6))\n",
    "#plt.plot(x, y, marker='o')  # Line plot with points\n",
    "#plt.title(\"Adjusted Scaled and Inverted Logistic Function\")\n",
    "#plt.xlabel(\"x\")\n",
    "#plt.ylabel(\"y\")\n",
    "#plt.grid(True)\n",
    "#plt.show()"
   ]
  },
  {
   "cell_type": "code",
   "execution_count": 193,
   "id": "a449e670-219e-4a3c-934a-2f94c76f5268",
   "metadata": {},
   "outputs": [
    {
     "data": {
      "image/png": "[encoded data removed]",
      "text/plain": [
       "<Figure size 576x432 with 1 Axes>"
      ]
     },
     "metadata": {
      "needs_background": "light"
     },
     "output_type": "display_data"
    }
   ],
   "source": [
    "def scaled_logistic(x, L, k, x0, ymin, ymax):\n",
    "    # Logistic function\n",
    "    y = L / (1 + np.exp(-k * (x - x0)))\n",
    "    # Scale y to be in the range [ymin, ymax]\n",
    "    scaled_y = (y - np.min(y)) / (np.max(y) - np.min(y)) * (ymax - ymin) + ymin\n",
    "    # Invert y around the midpoint of ymin and ymax to start and end high\n",
    "    return ymax + ymin - scaled_y\n",
    "\n",
    "# Create a sequence of x values from 0 to 2\n",
    "x = np.linspace(0, 2, 20)\n",
    "\n",
    "# Define parameters for the logistic function\n",
    "L = 1        # Max value of the unscaled logistic function\n",
    "k = 3      # Adjusted steepness of the curve, reduced for a wider transition\n",
    "x0 = 0.5       # Midpoint of the sigmoid, where the lowest point is expected\n",
    "ymin = 0.1   # Minimum y value in the desired output\n",
    "ymax = 1.5     # Maximum y value in the desired output\n",
    "\n",
    "# Calculate y values using the scaled logistic function\n",
    "y = scaled_logistic(x, L, k, x0, ymin, ymax)\n",
    "\n",
    "# Plotting\n",
    "plt.figure(figsize=(8, 6))\n",
    "plt.plot(x, y, marker='o')  # Line plot with points\n",
    "plt.title(\"Adjusted Scaled and Inverted Logistic Function\")\n",
    "plt.xlabel(\"x\")\n",
    "plt.ylabel(\"y\")\n",
    "plt.grid(True)\n",
    "plt.show()\n"
   ]
  },
  {
   "cell_type": "code",
   "execution_count": null,
   "id": "0df59691-bb31-49aa-b199-2f238001b7bc",
   "metadata": {},
   "outputs": [],
   "source": []
  },
  {
   "cell_type": "code",
   "execution_count": 1224,
   "id": "dfc915c2-a1f9-4be4-b436-1ad33d0ce1dc",
   "metadata": {},
   "outputs": [],
   "source": [
    "def create_belief_network(unique_id, n_nodes, connected_agents, weight_int_pers = 0.4, weight_int_soc = 1.0):\n",
    "\n",
    "    seed = os.getpid() + unique_id\n",
    "    #np.random.seed(seed)\n",
    "    rng = default_rng(seed)\n",
    "\n",
    "    G = nx.DiGraph()\n",
    "\n",
    "    for i in range(n_nodes):\n",
    "        G.add_node(f'agent{unique_id}_belief_{i}', value=rng.choice(np.linspace(-1, 1, 7)))\n",
    "\n",
    "    for c in connected_agents:\n",
    "        G.add_node(f'agent{unique_id}_soc_belief_{c}', value=rng.choice(np.linspace(-1, 1, 7)))\n",
    "\n",
    "\n",
    "    focal_node = f'agent{unique_id}_belief_0'\n",
    "\n",
    "    for i in range(1, n_nodes):\n",
    "        G.add_edge(focal_node, f'agent{unique_id}_belief_{i}', weight=weight_int_pers)  \n",
    "        G.add_edge(f'agent{unique_id}_belief_{i}', focal_node, weight=weight_int_pers)\n",
    "        for j in range(1, n_nodes):\n",
    "            if i != j:\n",
    "                G.add_edge(f'agent{unique_id}_belief_{j}', f'agent{unique_id}_belief_{i}', weight=weight_int_pers)  \n",
    "                G.add_edge(f'agent{unique_id}_belief_{i}', f'agent{unique_id}_belief_{j}', weight=weight_int_pers) \n",
    "\n",
    "    for c in connected_agents:\n",
    "        G.add_edge(focal_node, f'agent{unique_id}_soc_belief_{c}', weight = weight_int_soc)\n",
    "        G.add_edge(f'agent{unique_id}_soc_belief_{c}', focal_node, weight = weight_int_soc)\n",
    "\n",
    "\n",
    "    return G"
   ]
  },
  {
   "cell_type": "code",
   "execution_count": null,
   "id": "fa4f1fbc-00fc-4fb3-8ee2-8b53f3392c69",
   "metadata": {},
   "outputs": [],
   "source": []
  },
  {
   "cell_type": "code",
   "execution_count": 1226,
   "id": "94ce4bba-064a-46ca-97bd-cfaf5b9a30d0",
   "metadata": {},
   "outputs": [
    {
     "data": {
      "image/png": "[encoded data removed]",
      "text/plain": [
       "<Figure size 432x288 with 1 Axes>"
      ]
     },
     "metadata": {},
     "output_type": "display_data"
    }
   ],
   "source": [
    "adj = nx.adjacency_matrix(create_belief_network(1, 5, conn, weight_int_pers = 0.4, weight_int_soc = 1.0)).toarray()"
   ]
  },
  {
   "cell_type": "code",
   "execution_count": null,
   "id": "9c2a699f-d20f-4d8d-915a-f17fe8aeecdb",
   "metadata": {},
   "outputs": [],
   "source": []
  },
  {
   "cell_type": "code",
   "execution_count": null,
   "id": "2d678127-8e30-4365-b1dc-0f00c8bcc3ef",
   "metadata": {},
   "outputs": [],
   "source": []
  },
  {
   "cell_type": "code",
   "execution_count": 195,
   "id": "0ab27b63-9bae-450a-96df-25608f9670a1",
   "metadata": {},
   "outputs": [],
   "source": [
    "sim = sim[sim.Step > 98].copy()\n"
   ]
  },
  {
   "cell_type": "code",
   "execution_count": 198,
   "id": "4d7520d0-8508-43cd-9995-03f8e055abb0",
   "metadata": {},
   "outputs": [],
   "source": [
    "sim['identifier'] = sim.apply(lambda x: f\"{x['betaIntPers']}-{x['betaIntSoc']}-{x['betaExt']}-{x['rep']}\", axis=1)\n",
    "\n",
    "# Step 2: Convert the identifier to a categorical type and assign codes\n",
    "sim['id'] = sim['identifier'].astype('category').cat.codes\n",
    "sim = sim.drop(columns = ['identifier'])\n",
    "sim = sim[['betaIntPers', 'betaIntSoc', 'betaExt', 'AgentID', 'Step', 'id', 'focalNodeStates', 'meanNodeStates', \"NodeStates\", \"rep\"]]#, \"Test\"]]\n",
    "#sim = sim.rename(columns = {'durchgang' : 'rep'})\n"
   ]
  },
  {
   "cell_type": "code",
   "execution_count": 199,
   "id": "31bf3361-61d7-40ce-a596-4650d8f3e1a4",
   "metadata": {},
   "outputs": [],
   "source": [
    "#sim = sim[sim.id == 0].copy()"
   ]
  },
  {
   "cell_type": "code",
   "execution_count": null,
   "id": "ff7e7852-85d1-4ba8-954b-10a1738784e1",
   "metadata": {},
   "outputs": [],
   "source": []
  },
  {
   "cell_type": "code",
   "execution_count": null,
   "id": "71c6329a-ef96-4432-8700-e0c20b69c8cd",
   "metadata": {},
   "outputs": [],
   "source": []
  },
  {
   "cell_type": "code",
   "execution_count": null,
   "id": "e39202f7-b332-4184-875d-19f89a0e4687",
   "metadata": {},
   "outputs": [],
   "source": []
  },
  {
   "cell_type": "code",
   "execution_count": 1252,
   "id": "fe0ea23e-724b-4e60-9204-8b1123653981",
   "metadata": {},
   "outputs": [],
   "source": [
    "import networkx as nx\n",
    "import matplotlib.pyplot as plt\n",
    "\n",
    "# Existing network data with a new subnetwork added\n",
    "network_data = list(sim.NodeStates)\n",
    "\n",
    "netsize = [len(i) for i in network_data]\n",
    "    \n",
    "\n",
    "# Create a directed graph\n",
    "G = nx.DiGraph()\n",
    "\n",
    "# Add nodes and internal edges\n",
    "for agent_nodes in network_data:\n",
    "    focal_node = agent_nodes[0][0]  # The first node is always the focal node\n",
    "    for node, value in agent_nodes:\n",
    "        G.add_node(node, value=value)\n",
    "        beliefs = [belief for belief, value in agent_nodes if 'soc_belief' not in belief]\n",
    "        for a in beliefs:\n",
    "            for b in beliefs:\n",
    "                if a != b:\n",
    "                    G.add_edge(a, b, weight=0.4)\n",
    "                    G.add_edge(b, a, weight=0.4)\n",
    "                    \n",
    "        if 'belief_0' not in node:\n",
    "            weight = 1.0 if 'soc_belief' in node else 0.4\n",
    "            G.add_edge(focal_node, node, weight=weight)\n",
    "            G.add_edge(node, focal_node, weight=weight)\n",
    "            \n",
    "            \n",
    "#for edge in G.edges(data=True):\n",
    "#    print(edge)\n",
    "            \n",
    "focal_nodes = [node for node in G if ('belief_0' in node) & ('soc_belief' not in node)]\n",
    "soc_beliefs = [node for node in G if 'soc_belief' in node]\n",
    "\n",
    "\n",
    "\n",
    "for soc_belief in soc_beliefs:\n",
    "    agent_index = soc_belief.split('_')[3]  # Extracting agent index from node name like 'agent5_soc_belief_0'\n",
    "    \n",
    "    target_focal_node = f'agent{agent_index}_belief_0'\n",
    "    if target_focal_node in focal_nodes:  # Check if the corresponding focal node exists\n",
    "        #print(target_focal_node, soc_belief)\n",
    "        G.add_edge(target_focal_node, soc_belief, weight=1.4)\n",
    "\n",
    "\n",
    "        \n",
    "adj = nx.adjacency_matrix(G).toarray()\n",
    "#for edge in G.edges(data=True):\n",
    "#    print(edge)\n",
    "\n",
    "# Plotting the graph\n",
    "#pos = nx.spring_layout(G)\n",
    "#nx.draw(G, pos, with_labels=True, node_color='lightblue', node_size=700, edge_color='gray', width=1, font_size=9)\n",
    "#edge_labels = {(u, v): d['weight'] for u, v, d in G.edges(data=True)}\n",
    "#nx.draw_networkx_edge_labels(G, pos, edge_labels=edge_labels)\n",
    "#plt.show()\n"
   ]
  },
  {
   "cell_type": "code",
   "execution_count": 1253,
   "id": "f641b0e6-597f-4a57-a930-340624449513",
   "metadata": {},
   "outputs": [],
   "source": [
    "#for edge in G.edges(data=True):\n",
    "#    print(edge)"
   ]
  },
  {
   "cell_type": "code",
   "execution_count": 1254,
   "id": "c7c4574a-4f30-4a76-825f-f1dcd9f8b7a8",
   "metadata": {},
   "outputs": [
    {
     "data": {
      "text/plain": [
       "9000"
      ]
     },
     "execution_count": 1254,
     "metadata": {},
     "output_type": "execute_result"
    }
   ],
   "source": [
    "len(adj[adj == .4])"
   ]
  },
  {
   "cell_type": "code",
   "execution_count": null,
   "id": "ed7ce79d-0198-4a4c-849d-65bb9eb6d844",
   "metadata": {},
   "outputs": [],
   "source": []
  },
  {
   "cell_type": "code",
   "execution_count": 1204,
   "id": "93ca20fc-9272-424d-9260-49210fa7e061",
   "metadata": {},
   "outputs": [],
   "source": [
    "count = 0\n",
    "overall = 0\n",
    "for i, net in enumerate(netsize):\n",
    "    if len(adj[count][adj[count] == 0.4]) > 2:\n",
    "        overall = overall +1\n",
    "    count = count + netsize[i]"
   ]
  },
  {
   "cell_type": "code",
   "execution_count": 1201,
   "id": "bba88812-664b-45eb-b128-8d9857314db3",
   "metadata": {},
   "outputs": [
    {
     "data": {
      "text/plain": [
       "array([0.4])"
      ]
     },
     "execution_count": 1201,
     "metadata": {},
     "output_type": "execute_result"
    }
   ],
   "source": [
    "adj[1][adj[1] != 0]"
   ]
  },
  {
   "cell_type": "code",
   "execution_count": 1208,
   "id": "418c1ce7-7c52-4cce-8dac-67716be1fb89",
   "metadata": {},
   "outputs": [
    {
     "data": {
      "text/plain": [
       "array([[0. , 0.4, 0.4, ..., 0. , 0. , 0. ],\n",
       "       [0.4, 0. , 0. , ..., 0. , 0. , 0. ],\n",
       "       [0.4, 0. , 0. , ..., 0. , 0. , 0. ],\n",
       "       [0.4, 0. , 0. , ..., 0. , 0. , 0. ],\n",
       "       [0.4, 0. , 0. , ..., 0. , 0. , 0. ]])"
      ]
     },
     "execution_count": 1208,
     "metadata": {},
     "output_type": "execute_result"
    }
   ],
   "source": [
    "\n",
    "adj[:5]"
   ]
  },
  {
   "cell_type": "code",
   "execution_count": null,
   "id": "ca7304c8-9d9b-4a0a-8e8b-cf1743535f50",
   "metadata": {},
   "outputs": [],
   "source": []
  },
  {
   "cell_type": "code",
   "execution_count": null,
   "id": "ec1242c7-507d-4277-ae50-9097f708b6f4",
   "metadata": {},
   "outputs": [],
   "source": [
    "fullNet = focal_network.copy()\n",
    "#color for visual \"debugging\", or observing the network in test runs; very useful when initializing\n",
    "#node_colors = {} \n",
    "#print(f'{soc_beliefs_networks[0][1]} nodes')\n",
    "\n",
    "for id, net in soc_beliefs_networks:\n",
    "\n",
    "\n",
    "    fullNet = nx.compose(fullNet, net)\n",
    "    #fullNet.add_edge(f'agent{id}_belief_0', f'agent{self.unique_id}_soc_belief_{id}', weight = self.weight_ext)\n",
    "    fullNet.add_edge(f'agent{self.unique_id}_belief_0', f'agent{id}_soc_belief_{self.unique_id}', weight = self.weight_ext)"
   ]
  },
  {
   "cell_type": "code",
   "execution_count": null,
   "id": "24bab18b-9c56-486a-821b-671e0529edff",
   "metadata": {},
   "outputs": [],
   "source": [
    "    def create_full_connected_network( focal_network, connected_agents):\n",
    "\n",
    "        #print(f'{self.unique_id}, was trying a fully connected network')\n",
    "        #print(f'and the network had {len(self.pers_belief_network.nodes())} nodes')\n",
    "\n",
    "        soc_beliefs_networks = [(connected_agent.unique_id, connected_agent.pers_belief_network) for connected_agent in self.model.schedule.agents if connected_agent.unique_id in connected_agents]\n",
    "\n",
    "        fullNet = focal_network.copy()\n",
    "        #color for visual \"debugging\", or observing the network in test runs; very useful when initializing\n",
    "        #node_colors = {} \n",
    "        #print(f'{soc_beliefs_networks[0][1]} nodes')\n",
    "\n",
    "        for id, net in soc_beliefs_networks:\n",
    "\n",
    "\n",
    "            fullNet = nx.compose(fullNet, net)\n",
    "            #fullNet.add_edge(f'agent{id}_belief_0', f'agent{self.unique_id}_soc_belief_{id}', weight = self.weight_ext)\n",
    "            fullNet.add_edge(f'agent{self.unique_id}_belief_0', f'agent{id}_soc_belief_{self.unique_id}', weight = self.weight_ext)\n",
    "\n",
    "\n",
    "            #further coloring of social beliefs and adjacent focal beliefs\n",
    "            #p_soc_belief = r'agent(\\d+)_soc_belief_((?!0)\\d+)'\n",
    "            #p_focal_belief = r'agent(\\d+)_soc_belief_0'\n",
    "\n",
    "\n",
    "            #coloring of all personal beliefs\n",
    "            #for n in net.nodes():\n",
    "            #    if re.match(p_focal_belief, n):\n",
    "            #        node_colors['focal_belief'] = 'red' \n",
    "            #    elif re.match(p_soc_belief, n):\n",
    "            #        node_colors['social_belief'] = 'orange'\n",
    "            #    else:\n",
    "            #        node_colors['pers_belief'] = 'lightblue'\n",
    "\n",
    "\n",
    "        #adj_fullNet = nx.adjacency_matrix(fullNet).toarray()\n",
    "\n",
    "        self.fullConnNet = fullNet"
   ]
  },
  {
   "cell_type": "code",
   "execution_count": 290,
   "id": "a1edaad3-d2c8-4867-9894-5722b28e7080",
   "metadata": {},
   "outputs": [],
   "source": []
  },
  {
   "cell_type": "code",
   "execution_count": null,
   "id": "99e7a397-c243-4b42-b8d4-5343917c2758",
   "metadata": {},
   "outputs": [],
   "source": []
  },
  {
   "cell_type": "code",
   "execution_count": 9,
   "id": "29bb3eb2-193d-49fc-a7f6-12d4cd73ea4c",
   "metadata": {},
   "outputs": [],
   "source": [
    "sim_list = []\n",
    "\n",
    "for _, group_df in sim.groupby('rep'):\n",
    "    sim_list.append(group_df)"
   ]
  },
  {
   "cell_type": "code",
   "execution_count": 10,
   "id": "a81ef293-759e-4dda-aafe-b5620c4b5b65",
   "metadata": {},
   "outputs": [],
   "source": [
    "def create_subsets(data_list):\n",
    "    subsets = []\n",
    "\n",
    "    for df in data_list:\n",
    "        unique_combinations = df[['betaIntPers', 'betaIntSoc', 'betaExt']].drop_duplicates()\n",
    "\n",
    "        tmp = {}\n",
    "\n",
    "        for _, row in unique_combinations.iterrows():\n",
    "            key = (row.betaIntPers, row.betaIntSoc, row.betaExt)\n",
    "            tmp[key] = df[\n",
    "                (df['betaIntPers'] == row.betaIntPers) &\n",
    "                (df['betaIntSoc'] == row.betaIntSoc) &\n",
    "                (df['betaExt'] == row.betaExt)\n",
    "            ]\n",
    "\n",
    "        subsets.append(tmp)\n",
    "        \n",
    "    return subsets\n",
    "\n"
   ]
  },
  {
   "cell_type": "code",
   "execution_count": 110,
   "id": "ee38ecfa-6386-4747-9437-5edc9d169fc5",
   "metadata": {},
   "outputs": [],
   "source": [
    "subset = create_subsets([sim_a])"
   ]
  },
  {
   "cell_type": "code",
   "execution_count": null,
   "id": "fb06a030-3d06-41ed-a4b1-4040989cbb04",
   "metadata": {},
   "outputs": [],
   "source": [
    "sim_list"
   ]
  },
  {
   "cell_type": "code",
   "execution_count": 203,
   "id": "bbb23586-1ebd-4504-95ec-c43bd08c42a7",
   "metadata": {},
   "outputs": [],
   "source": [
    "def create_results(data):\n",
    "\n",
    "\n",
    "    #convert extNet to numpy array\n",
    "    #extNet = np.array(extNet)\n",
    "\n",
    "    #convert extNet to networkx graph\n",
    "    #extNetGraph = nx.from_numpy_array(extNet)\n",
    "\n",
    "\n",
    "    # average results per run: betas\n",
    "    blockNetBetaIntPers = data.groupby(['rep', 'id'])['betaIntPers'].mean()\n",
    "    blockNetBetaIntSoc = data.groupby(['rep', 'id'])['betaIntSoc'].mean()\n",
    "    blockNetBetaExt = data.groupby(['rep', 'id'])['betaExt'].mean()\n",
    "\n",
    "    # average results per run: focal beliefs\n",
    "    blockNetFocalMeans = data.groupby(['rep', 'id'])['focalNodeStates'].mean()\n",
    "    #pre-step to create absolute values of focal beliefs\n",
    "    data['absFocalNodeStates'] = data['focalNodeStates'].abs()\n",
    "    blockNetFocalAbsMeans = data.groupby(['rep', 'id'])['absFocalNodeStates'].mean()\n",
    "\n",
    "    blockNetFocalVar = data.groupby(['rep', 'id'])['focalNodeStates'].var()\n",
    "\n",
    "    #average results per run: average of all personal beliefs\n",
    "    blockNetAveMeans = data.groupby(['rep', 'id'])['meanNodeStates'].mean()\n",
    "    #pre-step to create absolute values of average beliefs\n",
    "    data['absMeanNodeStates'] = data['meanNodeStates'].abs()\n",
    "    blockNetAveAbsMeans = data.groupby(['rep', 'id'])['absMeanNodeStates'].mean()\n",
    "\n",
    "    blockNetAveVar = data.groupby(['rep', 'id'])['meanNodeStates'].var()\n",
    "\n",
    "\n",
    "    df_05 = pd.DataFrame({\n",
    "        'focalVar': blockNetFocalVar[blockNetBetaIntPers == 0.5],\n",
    "        'betaIntSoc': blockNetBetaIntSoc[blockNetBetaIntPers == 0.5],\n",
    "        'betaExt': blockNetBetaExt[blockNetBetaIntPers == 0.5]\n",
    "    })\n",
    "    df_05['betaIntSoc'] = df_05['betaIntSoc'].astype('category')\n",
    "    df_05['betaExt'] = df_05['betaExt'].astype('category')\n",
    "\n",
    "    varFocalBetIntPers05 = smf.ols('focalVar ~ betaIntSoc * betaExt', data=df_05).fit()\n",
    "\n",
    "    df_2 = pd.DataFrame({\n",
    "    'focalVar': blockNetFocalVar[blockNetBetaIntPers == 2],\n",
    "    'betaIntSoc': blockNetBetaIntSoc[blockNetBetaIntPers == 2],\n",
    "    'betaExt': blockNetBetaExt[blockNetBetaIntPers == 2]\n",
    "    })\n",
    "    df_2['betaIntSoc'] = df_2['betaIntSoc'].astype('category')\n",
    "    df_2['betaExt'] = df_2['betaExt'].astype('category')\n",
    "\n",
    "    varFocalBetIntPers2 = smf.ols('focalVar ~ betaIntSoc * betaExt', data=df_2).fit()\n",
    "\n",
    "    return data, df_05, df_2 #blockNetBetaIntPers, blockNetFocalMeans, blockNetFocalAbsMeans, blockNetAveMeans, blockNetAveAbsMeans, blockNetAveVar\n",
    "\n",
    "\n"
   ]
  },
  {
   "cell_type": "code",
   "execution_count": null,
   "id": "f39556ce-a604-462e-a8e7-5bdcfa235336",
   "metadata": {},
   "outputs": [],
   "source": []
  },
  {
   "cell_type": "code",
   "execution_count": 13,
   "id": "2ac1e781-0f29-4f34-a497-0303d013df0f",
   "metadata": {},
   "outputs": [],
   "source": [
    "blockNetBetaIntPers = sim.groupby(['rep', 'id'])['betaIntPers'].mean()\n",
    "blockNetBetaIntSoc = sim.groupby(['rep', 'id'])['betaIntSoc'].mean()\n",
    "blockNetBetaExt = sim.groupby(['rep', 'id'])['betaExt'].mean()\n",
    "\n",
    "blockNetFocalVar = sim.groupby(['rep', 'id'])['focalNodeStates'].var()"
   ]
  },
  {
   "cell_type": "code",
   "execution_count": 14,
   "id": "ad46ff6d-8987-47fc-95c6-49f6b96a97a9",
   "metadata": {},
   "outputs": [
    {
     "data": {
      "text/plain": [
       "Series([], Name: focalNodeStates, dtype: float64)"
      ]
     },
     "execution_count": 14,
     "metadata": {},
     "output_type": "execute_result"
    }
   ],
   "source": [
    "blockNetFocalVar[blockNetFocalVar == 0]"
   ]
  },
  {
   "cell_type": "code",
   "execution_count": null,
   "id": "0fd5493c-3890-4d4c-80b3-c5343ebddfb6",
   "metadata": {},
   "outputs": [],
   "source": []
  },
  {
   "cell_type": "code",
   "execution_count": null,
   "id": "30017902-6875-467b-8d67-cc7915a4dc52",
   "metadata": {},
   "outputs": [],
   "source": []
  },
  {
   "cell_type": "code",
   "execution_count": null,
   "id": "a522c166-546b-4c31-9023-8fb7a0bdd51b",
   "metadata": {},
   "outputs": [],
   "source": []
  },
  {
   "cell_type": "code",
   "execution_count": 967,
   "id": "25e696ce-8e32-4087-afad-8ae0644a0b91",
   "metadata": {},
   "outputs": [],
   "source": [
    "sim = sim[sim.Step > 98].copy()"
   ]
  },
  {
   "cell_type": "code",
   "execution_count": 104,
   "id": "60758419-9a0b-4f04-8a65-25963ab06e19",
   "metadata": {},
   "outputs": [],
   "source": [
    "df_05 = pd.DataFrame({\n",
    "    'focalVar': blockNetFocalVar[blockNetBetaIntPers == 0.5],\n",
    "    'betaIntSoc': blockNetBetaIntSoc[blockNetBetaIntPers == 0.5].astype('category'),\n",
    "    'betaExt': blockNetBetaExt[blockNetBetaIntPers == 0.5].astype('category')\n",
    "})\n",
    "\n",
    "# Fitting the model\n",
    "model_05 = smf.ols('focalVar ~ betaIntSoc * betaExt', data=df_05).fit()"
   ]
  },
  {
   "cell_type": "code",
   "execution_count": 105,
   "id": "7659dc74-69fd-4c90-87b4-2ec00c58feb3",
   "metadata": {},
   "outputs": [],
   "source": [
    "df_2 = pd.DataFrame({\n",
    "    'focalVar': blockNetFocalVar[blockNetBetaIntPers == 2],\n",
    "    'betaIntSoc': blockNetBetaIntSoc[blockNetBetaIntPers == 2].astype('category'),\n",
    "    'betaExt': blockNetBetaExt[blockNetBetaIntPers == 2].astype('category')\n",
    "    })\n",
    "\n",
    "model_2 = smf.ols('focalVar ~ betaIntSoc * betaExt', data=df_2).fit()"
   ]
  },
  {
   "cell_type": "code",
   "execution_count": 940,
   "id": "eda6553c-d343-4451-9fd0-b8c2e65af1fc",
   "metadata": {},
   "outputs": [],
   "source": [
    "from itertools import product\n",
    "\n",
    "# Getting unique levels of each categorical variable\n",
    "betaIntSoc_levels = df_2['betaIntSoc'].cat.categories\n",
    "betaExt_levels = df_2['betaExt'].cat.categories\n",
    "\n",
    "# Create a DataFrame with all combinations\n",
    "prediction_df = pd.DataFrame(product(betaIntSoc_levels, betaExt_levels), columns=['betaIntSoc', 'betaExt'])\n",
    "\n",
    "# Generate predictions for each combination\n",
    "prediction_df['focalVar_pred'] = model.predict(prediction_df)"
   ]
  },
  {
   "cell_type": "code",
   "execution_count": 941,
   "id": "f2d47400-ffd4-4bf1-91ee-f28e834b1e23",
   "metadata": {},
   "outputs": [
    {
     "data": {
      "text/html": [
       "<div>\n",
       "<style scoped>\n",
       "    .dataframe tbody tr th:only-of-type {\n",
       "        vertical-align: middle;\n",
       "    }\n",
       "\n",
       "    .dataframe tbody tr th {\n",
       "        vertical-align: top;\n",
       "    }\n",
       "\n",
       "    .dataframe thead th {\n",
       "        text-align: right;\n",
       "    }\n",
       "</style>\n",
       "<table border=\"1\" class=\"dataframe\">\n",
       "  <thead>\n",
       "    <tr style=\"text-align: right;\">\n",
       "      <th></th>\n",
       "      <th>betaIntSoc</th>\n",
       "      <th>betaExt</th>\n",
       "      <th>focalVar_pred</th>\n",
       "    </tr>\n",
       "  </thead>\n",
       "  <tbody>\n",
       "    <tr>\n",
       "      <th>0</th>\n",
       "      <td>0.5</td>\n",
       "      <td>0.5</td>\n",
       "      <td>0.554204</td>\n",
       "    </tr>\n",
       "    <tr>\n",
       "      <th>1</th>\n",
       "      <td>0.5</td>\n",
       "      <td>2.0</td>\n",
       "      <td>0.598403</td>\n",
       "    </tr>\n",
       "    <tr>\n",
       "      <th>2</th>\n",
       "      <td>2.0</td>\n",
       "      <td>0.5</td>\n",
       "      <td>0.915747</td>\n",
       "    </tr>\n",
       "    <tr>\n",
       "      <th>3</th>\n",
       "      <td>2.0</td>\n",
       "      <td>2.0</td>\n",
       "      <td>0.589427</td>\n",
       "    </tr>\n",
       "  </tbody>\n",
       "</table>\n",
       "</div>"
      ],
      "text/plain": [
       "   betaIntSoc  betaExt  focalVar_pred\n",
       "0         0.5      0.5       0.554204\n",
       "1         0.5      2.0       0.598403\n",
       "2         2.0      0.5       0.915747\n",
       "3         2.0      2.0       0.589427"
      ]
     },
     "execution_count": 941,
     "metadata": {},
     "output_type": "execute_result"
    }
   ],
   "source": [
    "prediction_df"
   ]
  },
  {
   "cell_type": "code",
   "execution_count": 47,
   "id": "ecb81843-0b4a-415e-bb6a-685cc0477028",
   "metadata": {},
   "outputs": [],
   "source": [
    "s = 5"
   ]
  },
  {
   "cell_type": "code",
   "execution_count": 158,
   "id": "cdc70e45-e349-4158-a01c-b1508619ce1f",
   "metadata": {},
   "outputs": [],
   "source": [
    "sim_a = sim[sim.Step.between(99,100)].copy()"
   ]
  },
  {
   "cell_type": "code",
   "execution_count": 159,
   "id": "56b89550-684a-47f7-873e-dd7b61eb6f91",
   "metadata": {},
   "outputs": [
    {
     "data": {
      "text/html": [
       "<div>\n",
       "<style scoped>\n",
       "    .dataframe tbody tr th:only-of-type {\n",
       "        vertical-align: middle;\n",
       "    }\n",
       "\n",
       "    .dataframe tbody tr th {\n",
       "        vertical-align: top;\n",
       "    }\n",
       "\n",
       "    .dataframe thead th {\n",
       "        text-align: right;\n",
       "    }\n",
       "</style>\n",
       "<table border=\"1\" class=\"dataframe\">\n",
       "  <thead>\n",
       "    <tr style=\"text-align: right;\">\n",
       "      <th></th>\n",
       "      <th>betaIntPers</th>\n",
       "      <th>betaIntSoc</th>\n",
       "      <th>betaExt</th>\n",
       "      <th>AgentID</th>\n",
       "      <th>Step</th>\n",
       "      <th>id</th>\n",
       "      <th>focalNodeStates</th>\n",
       "      <th>meanNodeStates</th>\n",
       "      <th>NodeStates</th>\n",
       "      <th>rep</th>\n",
       "      <th>absFocalNodeStates</th>\n",
       "      <th>absMeanNodeStates</th>\n",
       "    </tr>\n",
       "  </thead>\n",
       "  <tbody>\n",
       "    <tr>\n",
       "      <th>9900</th>\n",
       "      <td>2.0</td>\n",
       "      <td>2.0</td>\n",
       "      <td>2.0</td>\n",
       "      <td>0</td>\n",
       "      <td>99</td>\n",
       "      <td>158</td>\n",
       "      <td>1.0</td>\n",
       "      <td>0.933333</td>\n",
       "      <td>(agent0_soc_belief_35, agent0_soc_belief_31, a...</td>\n",
       "      <td>8</td>\n",
       "      <td>1.0</td>\n",
       "      <td>0.933333</td>\n",
       "    </tr>\n",
       "    <tr>\n",
       "      <th>9901</th>\n",
       "      <td>2.0</td>\n",
       "      <td>2.0</td>\n",
       "      <td>2.0</td>\n",
       "      <td>1</td>\n",
       "      <td>99</td>\n",
       "      <td>158</td>\n",
       "      <td>1.0</td>\n",
       "      <td>0.900000</td>\n",
       "      <td>(agent1_soc_belief_46, agent1_belief_3, agent1...</td>\n",
       "      <td>8</td>\n",
       "      <td>1.0</td>\n",
       "      <td>0.900000</td>\n",
       "    </tr>\n",
       "    <tr>\n",
       "      <th>9902</th>\n",
       "      <td>2.0</td>\n",
       "      <td>2.0</td>\n",
       "      <td>2.0</td>\n",
       "      <td>2</td>\n",
       "      <td>99</td>\n",
       "      <td>158</td>\n",
       "      <td>1.0</td>\n",
       "      <td>0.966667</td>\n",
       "      <td>(agent2_soc_belief_12, agent2_soc_belief_5, ag...</td>\n",
       "      <td>8</td>\n",
       "      <td>1.0</td>\n",
       "      <td>0.966667</td>\n",
       "    </tr>\n",
       "    <tr>\n",
       "      <th>9903</th>\n",
       "      <td>2.0</td>\n",
       "      <td>2.0</td>\n",
       "      <td>2.0</td>\n",
       "      <td>3</td>\n",
       "      <td>99</td>\n",
       "      <td>158</td>\n",
       "      <td>1.0</td>\n",
       "      <td>0.933333</td>\n",
       "      <td>(agent3_soc_belief_1, agent3_soc_belief_34, ag...</td>\n",
       "      <td>8</td>\n",
       "      <td>1.0</td>\n",
       "      <td>0.933333</td>\n",
       "    </tr>\n",
       "    <tr>\n",
       "      <th>9904</th>\n",
       "      <td>2.0</td>\n",
       "      <td>2.0</td>\n",
       "      <td>2.0</td>\n",
       "      <td>4</td>\n",
       "      <td>99</td>\n",
       "      <td>158</td>\n",
       "      <td>1.0</td>\n",
       "      <td>0.933333</td>\n",
       "      <td>(agent4_soc_belief_35, agent4_belief_8, agent4...</td>\n",
       "      <td>8</td>\n",
       "      <td>1.0</td>\n",
       "      <td>0.933333</td>\n",
       "    </tr>\n",
       "    <tr>\n",
       "      <th>...</th>\n",
       "      <td>...</td>\n",
       "      <td>...</td>\n",
       "      <td>...</td>\n",
       "      <td>...</td>\n",
       "      <td>...</td>\n",
       "      <td>...</td>\n",
       "      <td>...</td>\n",
       "      <td>...</td>\n",
       "      <td>...</td>\n",
       "      <td>...</td>\n",
       "      <td>...</td>\n",
       "      <td>...</td>\n",
       "    </tr>\n",
       "    <tr>\n",
       "      <th>1599995</th>\n",
       "      <td>2.0</td>\n",
       "      <td>2.0</td>\n",
       "      <td>0.5</td>\n",
       "      <td>95</td>\n",
       "      <td>99</td>\n",
       "      <td>120</td>\n",
       "      <td>-1.0</td>\n",
       "      <td>-0.900000</td>\n",
       "      <td>(agent95_belief_1, agent95_soc_belief_84, agen...</td>\n",
       "      <td>0</td>\n",
       "      <td>1.0</td>\n",
       "      <td>0.900000</td>\n",
       "    </tr>\n",
       "    <tr>\n",
       "      <th>1599996</th>\n",
       "      <td>2.0</td>\n",
       "      <td>2.0</td>\n",
       "      <td>0.5</td>\n",
       "      <td>96</td>\n",
       "      <td>99</td>\n",
       "      <td>120</td>\n",
       "      <td>-1.0</td>\n",
       "      <td>-0.666667</td>\n",
       "      <td>(agent96_soc_belief_54, agent96_soc_belief_57,...</td>\n",
       "      <td>0</td>\n",
       "      <td>1.0</td>\n",
       "      <td>0.666667</td>\n",
       "    </tr>\n",
       "    <tr>\n",
       "      <th>1599997</th>\n",
       "      <td>2.0</td>\n",
       "      <td>2.0</td>\n",
       "      <td>0.5</td>\n",
       "      <td>97</td>\n",
       "      <td>99</td>\n",
       "      <td>120</td>\n",
       "      <td>1.0</td>\n",
       "      <td>0.833333</td>\n",
       "      <td>(agent97_soc_belief_13, agent97_soc_belief_96,...</td>\n",
       "      <td>0</td>\n",
       "      <td>1.0</td>\n",
       "      <td>0.833333</td>\n",
       "    </tr>\n",
       "    <tr>\n",
       "      <th>1599998</th>\n",
       "      <td>2.0</td>\n",
       "      <td>2.0</td>\n",
       "      <td>0.5</td>\n",
       "      <td>98</td>\n",
       "      <td>99</td>\n",
       "      <td>120</td>\n",
       "      <td>1.0</td>\n",
       "      <td>0.933333</td>\n",
       "      <td>(agent98_soc_belief_94, agent98_belief_6, agen...</td>\n",
       "      <td>0</td>\n",
       "      <td>1.0</td>\n",
       "      <td>0.933333</td>\n",
       "    </tr>\n",
       "    <tr>\n",
       "      <th>1599999</th>\n",
       "      <td>2.0</td>\n",
       "      <td>2.0</td>\n",
       "      <td>0.5</td>\n",
       "      <td>99</td>\n",
       "      <td>99</td>\n",
       "      <td>120</td>\n",
       "      <td>-1.0</td>\n",
       "      <td>-0.866667</td>\n",
       "      <td>(agent99_soc_belief_0, agent99_belief_6, agent...</td>\n",
       "      <td>0</td>\n",
       "      <td>1.0</td>\n",
       "      <td>0.866667</td>\n",
       "    </tr>\n",
       "  </tbody>\n",
       "</table>\n",
       "<p>16000 rows × 12 columns</p>\n",
       "</div>"
      ],
      "text/plain": [
       "         betaIntPers  betaIntSoc  betaExt  AgentID  Step   id  \\\n",
       "9900             2.0         2.0      2.0        0    99  158   \n",
       "9901             2.0         2.0      2.0        1    99  158   \n",
       "9902             2.0         2.0      2.0        2    99  158   \n",
       "9903             2.0         2.0      2.0        3    99  158   \n",
       "9904             2.0         2.0      2.0        4    99  158   \n",
       "...              ...         ...      ...      ...   ...  ...   \n",
       "1599995          2.0         2.0      0.5       95    99  120   \n",
       "1599996          2.0         2.0      0.5       96    99  120   \n",
       "1599997          2.0         2.0      0.5       97    99  120   \n",
       "1599998          2.0         2.0      0.5       98    99  120   \n",
       "1599999          2.0         2.0      0.5       99    99  120   \n",
       "\n",
       "         focalNodeStates  meanNodeStates  \\\n",
       "9900                 1.0        0.933333   \n",
       "9901                 1.0        0.900000   \n",
       "9902                 1.0        0.966667   \n",
       "9903                 1.0        0.933333   \n",
       "9904                 1.0        0.933333   \n",
       "...                  ...             ...   \n",
       "1599995             -1.0       -0.900000   \n",
       "1599996             -1.0       -0.666667   \n",
       "1599997              1.0        0.833333   \n",
       "1599998              1.0        0.933333   \n",
       "1599999             -1.0       -0.866667   \n",
       "\n",
       "                                                NodeStates  rep  \\\n",
       "9900     (agent0_soc_belief_35, agent0_soc_belief_31, a...    8   \n",
       "9901     (agent1_soc_belief_46, agent1_belief_3, agent1...    8   \n",
       "9902     (agent2_soc_belief_12, agent2_soc_belief_5, ag...    8   \n",
       "9903     (agent3_soc_belief_1, agent3_soc_belief_34, ag...    8   \n",
       "9904     (agent4_soc_belief_35, agent4_belief_8, agent4...    8   \n",
       "...                                                    ...  ...   \n",
       "1599995  (agent95_belief_1, agent95_soc_belief_84, agen...    0   \n",
       "1599996  (agent96_soc_belief_54, agent96_soc_belief_57,...    0   \n",
       "1599997  (agent97_soc_belief_13, agent97_soc_belief_96,...    0   \n",
       "1599998  (agent98_soc_belief_94, agent98_belief_6, agen...    0   \n",
       "1599999  (agent99_soc_belief_0, agent99_belief_6, agent...    0   \n",
       "\n",
       "         absFocalNodeStates  absMeanNodeStates  \n",
       "9900                    1.0           0.933333  \n",
       "9901                    1.0           0.900000  \n",
       "9902                    1.0           0.966667  \n",
       "9903                    1.0           0.933333  \n",
       "9904                    1.0           0.933333  \n",
       "...                     ...                ...  \n",
       "1599995                 1.0           0.900000  \n",
       "1599996                 1.0           0.666667  \n",
       "1599997                 1.0           0.833333  \n",
       "1599998                 1.0           0.933333  \n",
       "1599999                 1.0           0.866667  \n",
       "\n",
       "[16000 rows x 12 columns]"
      ]
     },
     "execution_count": 159,
     "metadata": {},
     "output_type": "execute_result"
    }
   ],
   "source": [
    "sim_a"
   ]
  },
  {
   "cell_type": "code",
   "execution_count": 48,
   "id": "3e3c5c3e-8492-41b0-b226-7463b490b929",
   "metadata": {},
   "outputs": [],
   "source": [
    "sim_df = sim_list[s][sim_list[s].Step].copy()"
   ]
  },
  {
   "cell_type": "code",
   "execution_count": 201,
   "id": "b8a69cbd-0f3e-40d7-a6c8-bcc2e8ca7441",
   "metadata": {},
   "outputs": [],
   "source": [
    "sim_a = sim[sim.Step.between(98,100)].copy()"
   ]
  },
  {
   "cell_type": "code",
   "execution_count": 204,
   "id": "f99fe1a2-40ba-40e7-9296-cfd7ae79e7aa",
   "metadata": {},
   "outputs": [
    {
     "data": {
      "image/png": "[encoded data removed]",
      "text/plain": [
       "<Figure size 432x288 with 1 Axes>"
      ]
     },
     "metadata": {
      "needs_background": "light"
     },
     "output_type": "display_data"
    }
   ],
   "source": [
    "sns.pointplot(x='betaIntSoc', y='focalVar', hue='betaExt', data=create_results(sim_a)[1], errorbar=('ci', 95))\n",
    "plt.yticks([0.25, 0.5, 0.75, 1])\n",
    "plt.title('Interaction Plot')\n",
    "plt.xlabel('betaIntSoc')\n",
    "plt.ylabel('Variance of Focal Node States')\n",
    "\n",
    "plt.show()"
   ]
  },
  {
   "cell_type": "code",
   "execution_count": 205,
   "id": "addb36bb-a1b7-4022-b6cf-527e548cd252",
   "metadata": {},
   "outputs": [
    {
     "data": {
      "image/png": "[encoded data removed]",
      "text/plain": [
       "<Figure size 432x288 with 1 Axes>"
      ]
     },
     "metadata": {
      "needs_background": "light"
     },
     "output_type": "display_data"
    }
   ],
   "source": [
    "sns.pointplot(x='betaIntSoc', y='focalVar', hue='betaExt', data=create_results(sim_a)[2], errorbar=('ci', 95))\n",
    "plt.yticks([0.25, 0.5, 0.75, 1])\n",
    "plt.title('Interaction Plot')\n",
    "plt.xlabel('betaIntSoc')\n",
    "plt.ylabel('Variance of Focal Node States')\n",
    "\n",
    "plt.show()"
   ]
  },
  {
   "cell_type": "code",
   "execution_count": 111,
   "id": "5c3b5f94-92ed-4a09-8096-6787fb6e2725",
   "metadata": {},
   "outputs": [
    {
     "data": {
      "text/plain": [
       "0.585739673372544"
      ]
     },
     "execution_count": 111,
     "metadata": {},
     "output_type": "execute_result"
    }
   ],
   "source": [
    "subset[0][(.5, .5, 2)]['focalNodeStates'].var()"
   ]
  },
  {
   "cell_type": "code",
   "execution_count": 112,
   "id": "16a97e2a-fc51-4be3-9154-2bd73230d6cf",
   "metadata": {},
   "outputs": [
    {
     "data": {
      "image/png": "[encoded data removed]",
      "text/plain": [
       "<Figure size 720x432 with 1 Axes>"
      ]
     },
     "metadata": {
      "needs_background": "light"
     },
     "output_type": "display_data"
    }
   ],
   "source": [
    "check = subset[0][(.5, .5, 2)]['focalNodeStates'].value_counts().sort_index()\n",
    "\n",
    "plt.figure(figsize=(10, 6))\n",
    "plt.plot(np.array(check.index), np.array(check.values), marker='o')  # Line plot\n",
    "plt.title('Value Count Distribution')\n",
    "plt.xlabel('Category')\n",
    "plt.ylabel('Counts')\n",
    "plt.grid(True)\n",
    "plt.show()"
   ]
  },
  {
   "cell_type": "code",
   "execution_count": null,
   "id": "a1dc9f9d-6c53-4db8-a464-de0b7d52c6a1",
   "metadata": {},
   "outputs": [],
   "source": []
  },
  {
   "cell_type": "code",
   "execution_count": null,
   "id": "728c1648-324e-4727-8451-382f29b9646d",
   "metadata": {},
   "outputs": [],
   "source": []
  },
  {
   "cell_type": "code",
   "execution_count": null,
   "id": "0f02cb7b-65cd-4d50-932a-afe60876bc50",
   "metadata": {},
   "outputs": [],
   "source": []
  },
  {
   "cell_type": "code",
   "execution_count": null,
   "id": "59cc8905-cd5e-4244-bcf1-9267de5162d2",
   "metadata": {},
   "outputs": [],
   "source": []
  },
  {
   "cell_type": "code",
   "execution_count": 750,
   "id": "e32037b1-4859-4b27-af92-062ada6ee3fa",
   "metadata": {},
   "outputs": [],
   "source": [
    "df_2 = pd.DataFrame({\n",
    "    'focalVar': blockNetFocalVar[blockNetBetaIntPers == 2],\n",
    "    'betaIntSoc': blockNetBetaIntSoc[blockNetBetaIntPers == 2],\n",
    "    'betaExt': blockNetBetaExt[blockNetBetaIntPers == 2]\n",
    "    })"
   ]
  },
  {
   "cell_type": "code",
   "execution_count": null,
   "id": "75ab387c-2760-47e2-b16b-953a21877ffc",
   "metadata": {},
   "outputs": [],
   "source": []
  },
  {
   "cell_type": "code",
   "execution_count": 551,
   "id": "edb943c3-9412-442d-984e-8bf8cff32d89",
   "metadata": {},
   "outputs": [
    {
     "data": {
      "text/html": [
       "<div>\n",
       "<style scoped>\n",
       "    .dataframe tbody tr th:only-of-type {\n",
       "        vertical-align: middle;\n",
       "    }\n",
       "\n",
       "    .dataframe tbody tr th {\n",
       "        vertical-align: top;\n",
       "    }\n",
       "\n",
       "    .dataframe thead th {\n",
       "        text-align: right;\n",
       "    }\n",
       "</style>\n",
       "<table border=\"1\" class=\"dataframe\">\n",
       "  <thead>\n",
       "    <tr style=\"text-align: right;\">\n",
       "      <th></th>\n",
       "      <th>betaIntPers</th>\n",
       "      <th>betaIntSoc</th>\n",
       "      <th>betaExt</th>\n",
       "      <th>AgentID</th>\n",
       "      <th>Step</th>\n",
       "      <th>id</th>\n",
       "      <th>focalNodeStates</th>\n",
       "      <th>meanNodeStates</th>\n",
       "      <th>NodeStates</th>\n",
       "      <th>rep</th>\n",
       "    </tr>\n",
       "  </thead>\n",
       "  <tbody>\n",
       "    <tr>\n",
       "      <th>767200</th>\n",
       "      <td>2.0</td>\n",
       "      <td>2.0</td>\n",
       "      <td>2.0</td>\n",
       "      <td>0</td>\n",
       "      <td>71</td>\n",
       "      <td>140</td>\n",
       "      <td>-1.0</td>\n",
       "      <td>0.100000</td>\n",
       "      <td>[0.6666666666666665, 0.0, -0.6666666666666667,...</td>\n",
       "      <td>0</td>\n",
       "    </tr>\n",
       "    <tr>\n",
       "      <th>767201</th>\n",
       "      <td>2.0</td>\n",
       "      <td>2.0</td>\n",
       "      <td>2.0</td>\n",
       "      <td>1</td>\n",
       "      <td>71</td>\n",
       "      <td>140</td>\n",
       "      <td>-1.0</td>\n",
       "      <td>-0.400000</td>\n",
       "      <td>[-0.33333333333333337, -0.33333333333333337, -...</td>\n",
       "      <td>0</td>\n",
       "    </tr>\n",
       "    <tr>\n",
       "      <th>767202</th>\n",
       "      <td>2.0</td>\n",
       "      <td>2.0</td>\n",
       "      <td>2.0</td>\n",
       "      <td>2</td>\n",
       "      <td>71</td>\n",
       "      <td>140</td>\n",
       "      <td>-1.0</td>\n",
       "      <td>-0.233333</td>\n",
       "      <td>[-1.0, -1.0, -0.33333333333333337, -0.66666666...</td>\n",
       "      <td>0</td>\n",
       "    </tr>\n",
       "    <tr>\n",
       "      <th>767203</th>\n",
       "      <td>2.0</td>\n",
       "      <td>2.0</td>\n",
       "      <td>2.0</td>\n",
       "      <td>3</td>\n",
       "      <td>71</td>\n",
       "      <td>140</td>\n",
       "      <td>-1.0</td>\n",
       "      <td>-0.366667</td>\n",
       "      <td>[0.0, -1.0, 0.0, -1.0, -0.33333333333333337, -...</td>\n",
       "      <td>0</td>\n",
       "    </tr>\n",
       "    <tr>\n",
       "      <th>767204</th>\n",
       "      <td>2.0</td>\n",
       "      <td>2.0</td>\n",
       "      <td>2.0</td>\n",
       "      <td>4</td>\n",
       "      <td>71</td>\n",
       "      <td>140</td>\n",
       "      <td>-1.0</td>\n",
       "      <td>-0.233333</td>\n",
       "      <td>[1.0, 1.0, -1.0, -1.0, -0.33333333333333337, -...</td>\n",
       "      <td>0</td>\n",
       "    </tr>\n",
       "    <tr>\n",
       "      <th>...</th>\n",
       "      <td>...</td>\n",
       "      <td>...</td>\n",
       "      <td>...</td>\n",
       "      <td>...</td>\n",
       "      <td>...</td>\n",
       "      <td>...</td>\n",
       "      <td>...</td>\n",
       "      <td>...</td>\n",
       "      <td>...</td>\n",
       "      <td>...</td>\n",
       "    </tr>\n",
       "    <tr>\n",
       "      <th>770095</th>\n",
       "      <td>2.0</td>\n",
       "      <td>2.0</td>\n",
       "      <td>2.0</td>\n",
       "      <td>95</td>\n",
       "      <td>99</td>\n",
       "      <td>140</td>\n",
       "      <td>-1.0</td>\n",
       "      <td>0.100000</td>\n",
       "      <td>[0.0, 0.33333333333333326, -0.3333333333333333...</td>\n",
       "      <td>0</td>\n",
       "    </tr>\n",
       "    <tr>\n",
       "      <th>770096</th>\n",
       "      <td>2.0</td>\n",
       "      <td>2.0</td>\n",
       "      <td>2.0</td>\n",
       "      <td>96</td>\n",
       "      <td>99</td>\n",
       "      <td>140</td>\n",
       "      <td>-1.0</td>\n",
       "      <td>-0.400000</td>\n",
       "      <td>[-1.0, -1.0, 0.0, -1.0, -0.6666666666666667, -...</td>\n",
       "      <td>0</td>\n",
       "    </tr>\n",
       "    <tr>\n",
       "      <th>770097</th>\n",
       "      <td>2.0</td>\n",
       "      <td>2.0</td>\n",
       "      <td>2.0</td>\n",
       "      <td>97</td>\n",
       "      <td>99</td>\n",
       "      <td>140</td>\n",
       "      <td>-1.0</td>\n",
       "      <td>-0.100000</td>\n",
       "      <td>[1.0, -1.0, 0.33333333333333326, -0.3333333333...</td>\n",
       "      <td>0</td>\n",
       "    </tr>\n",
       "    <tr>\n",
       "      <th>770098</th>\n",
       "      <td>2.0</td>\n",
       "      <td>2.0</td>\n",
       "      <td>2.0</td>\n",
       "      <td>98</td>\n",
       "      <td>99</td>\n",
       "      <td>140</td>\n",
       "      <td>-1.0</td>\n",
       "      <td>0.033333</td>\n",
       "      <td>[0.0, -0.33333333333333337, -0.333333333333333...</td>\n",
       "      <td>0</td>\n",
       "    </tr>\n",
       "    <tr>\n",
       "      <th>770099</th>\n",
       "      <td>2.0</td>\n",
       "      <td>2.0</td>\n",
       "      <td>2.0</td>\n",
       "      <td>99</td>\n",
       "      <td>99</td>\n",
       "      <td>140</td>\n",
       "      <td>-1.0</td>\n",
       "      <td>-0.433333</td>\n",
       "      <td>[0.0, -1.0, -1.0, -1.0, -1.0, -1.0, -0.6666666...</td>\n",
       "      <td>0</td>\n",
       "    </tr>\n",
       "  </tbody>\n",
       "</table>\n",
       "<p>2900 rows × 10 columns</p>\n",
       "</div>"
      ],
      "text/plain": [
       "        betaIntPers  betaIntSoc  betaExt  AgentID  Step   id  focalNodeStates   \n",
       "767200          2.0         2.0      2.0        0    71  140             -1.0  \\\n",
       "767201          2.0         2.0      2.0        1    71  140             -1.0   \n",
       "767202          2.0         2.0      2.0        2    71  140             -1.0   \n",
       "767203          2.0         2.0      2.0        3    71  140             -1.0   \n",
       "767204          2.0         2.0      2.0        4    71  140             -1.0   \n",
       "...             ...         ...      ...      ...   ...  ...              ...   \n",
       "770095          2.0         2.0      2.0       95    99  140             -1.0   \n",
       "770096          2.0         2.0      2.0       96    99  140             -1.0   \n",
       "770097          2.0         2.0      2.0       97    99  140             -1.0   \n",
       "770098          2.0         2.0      2.0       98    99  140             -1.0   \n",
       "770099          2.0         2.0      2.0       99    99  140             -1.0   \n",
       "\n",
       "        meanNodeStates                                         NodeStates  rep  \n",
       "767200        0.100000  [0.6666666666666665, 0.0, -0.6666666666666667,...    0  \n",
       "767201       -0.400000  [-0.33333333333333337, -0.33333333333333337, -...    0  \n",
       "767202       -0.233333  [-1.0, -1.0, -0.33333333333333337, -0.66666666...    0  \n",
       "767203       -0.366667  [0.0, -1.0, 0.0, -1.0, -0.33333333333333337, -...    0  \n",
       "767204       -0.233333  [1.0, 1.0, -1.0, -1.0, -0.33333333333333337, -...    0  \n",
       "...                ...                                                ...  ...  \n",
       "770095        0.100000  [0.0, 0.33333333333333326, -0.3333333333333333...    0  \n",
       "770096       -0.400000  [-1.0, -1.0, 0.0, -1.0, -0.6666666666666667, -...    0  \n",
       "770097       -0.100000  [1.0, -1.0, 0.33333333333333326, -0.3333333333...    0  \n",
       "770098        0.033333  [0.0, -0.33333333333333337, -0.333333333333333...    0  \n",
       "770099       -0.433333  [0.0, -1.0, -1.0, -1.0, -1.0, -1.0, -0.6666666...    0  \n",
       "\n",
       "[2900 rows x 10 columns]"
      ]
     },
     "execution_count": 551,
     "metadata": {},
     "output_type": "execute_result"
    }
   ],
   "source": [
    "sim[(sim.rep == 0) & (sim.id == 140)]#.NodeStates[13500]#.focalNodeStates"
   ]
  },
  {
   "cell_type": "code",
   "execution_count": null,
   "id": "8b93acb4-ccae-4ceb-bcc9-99598229be83",
   "metadata": {},
   "outputs": [],
   "source": []
  },
  {
   "cell_type": "code",
   "execution_count": 609,
   "id": "81614e33-c0cb-47f6-b94d-b4f083f78853",
   "metadata": {},
   "outputs": [
    {
     "data": {
      "text/plain": [
       "rep  id\n",
       "0    0     0.490558\n",
       "     20    0.591840\n",
       "     40    0.801679\n",
       "     60    0.920399\n",
       "1    1     0.523569\n",
       "             ...   \n",
       "18   70    0.091942\n",
       "19   11    0.527626\n",
       "     31    0.571529\n",
       "     51    0.504247\n",
       "     71    0.001468\n",
       "Name: focalVar, Length: 80, dtype: float64"
      ]
     },
     "execution_count": 609,
     "metadata": {},
     "output_type": "execute_result"
    }
   ],
   "source": [
    "df_05.focalVar"
   ]
  },
  {
   "cell_type": "code",
   "execution_count": 808,
   "id": "f80c9f74-58e8-4fa9-a7ab-7761556a01a2",
   "metadata": {},
   "outputs": [
    {
     "data": {
      "text/html": [
       "<table class=\"simpletable\">\n",
       "<caption>OLS Regression Results</caption>\n",
       "<tr>\n",
       "  <th>Dep. Variable:</th>        <td>focalVar</td>     <th>  R-squared:         </th> <td>   0.508</td>\n",
       "</tr>\n",
       "<tr>\n",
       "  <th>Model:</th>                   <td>OLS</td>       <th>  Adj. R-squared:    </th> <td>   0.488</td>\n",
       "</tr>\n",
       "<tr>\n",
       "  <th>Method:</th>             <td>Least Squares</td>  <th>  F-statistic:       </th> <td>   26.12</td>\n",
       "</tr>\n",
       "<tr>\n",
       "  <th>Date:</th>             <td>Wed, 24 Apr 2024</td> <th>  Prob (F-statistic):</th> <td>1.03e-11</td>\n",
       "</tr>\n",
       "<tr>\n",
       "  <th>Time:</th>                 <td>11:22:23</td>     <th>  Log-Likelihood:    </th> <td>  31.393</td>\n",
       "</tr>\n",
       "<tr>\n",
       "  <th>No. Observations:</th>      <td>    80</td>      <th>  AIC:               </th> <td>  -54.79</td>\n",
       "</tr>\n",
       "<tr>\n",
       "  <th>Df Residuals:</th>          <td>    76</td>      <th>  BIC:               </th> <td>  -45.26</td>\n",
       "</tr>\n",
       "<tr>\n",
       "  <th>Df Model:</th>              <td>     3</td>      <th>                     </th>     <td> </td>   \n",
       "</tr>\n",
       "<tr>\n",
       "  <th>Covariance Type:</th>      <td>nonrobust</td>    <th>                     </th>     <td> </td>   \n",
       "</tr>\n",
       "</table>\n",
       "<table class=\"simpletable\">\n",
       "<tr>\n",
       "                  <td></td>                    <th>coef</th>     <th>std err</th>      <th>t</th>      <th>P>|t|</th>  <th>[0.025</th>    <th>0.975]</th>  \n",
       "</tr>\n",
       "<tr>\n",
       "  <th>Intercept</th>                        <td>    0.5059</td> <td>    0.037</td> <td>   13.493</td> <td> 0.000</td> <td>    0.431</td> <td>    0.581</td>\n",
       "</tr>\n",
       "<tr>\n",
       "  <th>betaIntSoc[T.2.0]</th>                <td>    0.4168</td> <td>    0.053</td> <td>    7.861</td> <td> 0.000</td> <td>    0.311</td> <td>    0.522</td>\n",
       "</tr>\n",
       "<tr>\n",
       "  <th>betaExt[T.2.0]</th>                   <td>    0.0739</td> <td>    0.053</td> <td>    1.394</td> <td> 0.167</td> <td>   -0.032</td> <td>    0.180</td>\n",
       "</tr>\n",
       "<tr>\n",
       "  <th>betaIntSoc[T.2.0]:betaExt[T.2.0]</th> <td>   -0.4495</td> <td>    0.075</td> <td>   -5.995</td> <td> 0.000</td> <td>   -0.599</td> <td>   -0.300</td>\n",
       "</tr>\n",
       "</table>\n",
       "<table class=\"simpletable\">\n",
       "<tr>\n",
       "  <th>Omnibus:</th>       <td> 8.634</td> <th>  Durbin-Watson:     </th> <td>   1.907</td>\n",
       "</tr>\n",
       "<tr>\n",
       "  <th>Prob(Omnibus):</th> <td> 0.013</td> <th>  Jarque-Bera (JB):  </th> <td>  16.531</td>\n",
       "</tr>\n",
       "<tr>\n",
       "  <th>Skew:</th>          <td> 0.235</td> <th>  Prob(JB):          </th> <td>0.000257</td>\n",
       "</tr>\n",
       "<tr>\n",
       "  <th>Kurtosis:</th>      <td> 5.177</td> <th>  Cond. No.          </th> <td>    6.85</td>\n",
       "</tr>\n",
       "</table><br/><br/>Notes:<br/>[1] Standard Errors assume that the covariance matrix of the errors is correctly specified."
      ],
      "text/plain": [
       "<class 'statsmodels.iolib.summary.Summary'>\n",
       "\"\"\"\n",
       "                            OLS Regression Results                            \n",
       "==============================================================================\n",
       "Dep. Variable:               focalVar   R-squared:                       0.508\n",
       "Model:                            OLS   Adj. R-squared:                  0.488\n",
       "Method:                 Least Squares   F-statistic:                     26.12\n",
       "Date:                Wed, 24 Apr 2024   Prob (F-statistic):           1.03e-11\n",
       "Time:                        11:22:23   Log-Likelihood:                 31.393\n",
       "No. Observations:                  80   AIC:                            -54.79\n",
       "Df Residuals:                      76   BIC:                            -45.26\n",
       "Df Model:                           3                                         \n",
       "Covariance Type:            nonrobust                                         \n",
       "====================================================================================================\n",
       "                                       coef    std err          t      P>|t|      [0.025      0.975]\n",
       "----------------------------------------------------------------------------------------------------\n",
       "Intercept                            0.5059      0.037     13.493      0.000       0.431       0.581\n",
       "betaIntSoc[T.2.0]                    0.4168      0.053      7.861      0.000       0.311       0.522\n",
       "betaExt[T.2.0]                       0.0739      0.053      1.394      0.167      -0.032       0.180\n",
       "betaIntSoc[T.2.0]:betaExt[T.2.0]    -0.4495      0.075     -5.995      0.000      -0.599      -0.300\n",
       "==============================================================================\n",
       "Omnibus:                        8.634   Durbin-Watson:                   1.907\n",
       "Prob(Omnibus):                  0.013   Jarque-Bera (JB):               16.531\n",
       "Skew:                           0.235   Prob(JB):                     0.000257\n",
       "Kurtosis:                       5.177   Cond. No.                         6.85\n",
       "==============================================================================\n",
       "\n",
       "Notes:\n",
       "[1] Standard Errors assume that the covariance matrix of the errors is correctly specified.\n",
       "\"\"\""
      ]
     },
     "execution_count": 808,
     "metadata": {},
     "output_type": "execute_result"
    }
   ],
   "source": [
    "smf.ols('focalVar ~ betaIntSoc * betaExt', data=df_05).fit().summary()"
   ]
  },
  {
   "cell_type": "code",
   "execution_count": 114,
   "id": "f070b35a-916a-4107-aaf0-2fec7d1cb9b1",
   "metadata": {},
   "outputs": [
    {
     "data": {
      "image/png": "[encoded data removed]",
      "text/plain": [
       "<Figure size 432x288 with 1 Axes>"
      ]
     },
     "metadata": {
      "needs_background": "light"
     },
     "output_type": "display_data"
    }
   ],
   "source": [
    "sns.pointplot(x='betaIntSoc', y='focalVar', hue='betaExt', data=create_results(sim_a)[1], errorbar=('ci', 95))\n",
    "plt.yticks([0.25, 0.5, 0.75, 1])\n",
    "plt.title('Interaction Plot')\n",
    "plt.xlabel('betaIntSoc')\n",
    "plt.ylabel('Variance of Focal Node States')\n",
    "\n",
    "plt.show()"
   ]
  },
  {
   "cell_type": "code",
   "execution_count": null,
   "id": "25fd9ca9-2185-4cff-8fcd-497ca74e3485",
   "metadata": {},
   "outputs": [],
   "source": [
    "check = subsets[8][(.5, 2, .5)]['focalNodeStates'].value_counts().sort_index()   \n",
    "\n",
    "\n",
    "plt.figure(figsize=(10, 6))\n",
    "plt.plot(np.array(check.index), np.array(check.values), marker='o')  # Line plot\n",
    "plt.title('Value Count Distribution')\n",
    "plt.xlabel('Category')\n",
    "plt.ylabel('Counts')\n",
    "plt.grid(True)\n",
    "plt.show()"
   ]
  },
  {
   "cell_type": "code",
   "execution_count": 492,
   "id": "0afc7941-dfba-4def-b134-02b52b6eb32a",
   "metadata": {},
   "outputs": [],
   "source": [
    "dad_sub = create_subsets([sim])"
   ]
  },
  {
   "cell_type": "code",
   "execution_count": null,
   "id": "f97bfba7-be50-4737-9078-c53b868dac9d",
   "metadata": {},
   "outputs": [],
   "source": []
  },
  {
   "cell_type": "code",
   "execution_count": 495,
   "id": "f5f50ab6-e699-4bad-8d14-f01093e5dbec",
   "metadata": {},
   "outputs": [
    {
     "data": {
      "image/png": "[encoded data removed]",
      "text/plain": [
       "<Figure size 720x432 with 1 Axes>"
      ]
     },
     "metadata": {
      "needs_background": "light"
     },
     "output_type": "display_data"
    }
   ],
   "source": [
    "check = dad_sub[0][(2, .5, .5)]['focalNodeStates'].value_counts().sort_index()   \n",
    "\n",
    "\n",
    "plt.figure(figsize=(10, 6))\n",
    "plt.plot(np.array(check.index), np.array(check.values), marker='o')  # Line plot\n",
    "plt.title('Value Count Distribution')\n",
    "plt.xlabel('Category')\n",
    "plt.ylabel('Counts')\n",
    "plt.grid(True)\n",
    "plt.show()"
   ]
  },
  {
   "cell_type": "code",
   "execution_count": null,
   "id": "94a14b10-4132-41a8-995e-079038269edd",
   "metadata": {},
   "outputs": [],
   "source": []
  },
  {
   "cell_type": "code",
   "execution_count": null,
   "id": "564a6ab1-1da5-4c66-842c-9c8440eb1080",
   "metadata": {},
   "outputs": [],
   "source": []
  },
  {
   "cell_type": "code",
   "execution_count": null,
   "id": "459b74e0-a77c-4347-8891-b105f2bd494a",
   "metadata": {},
   "outputs": [],
   "source": []
  },
  {
   "cell_type": "code",
   "execution_count": 720,
   "id": "dd5e1174-1d32-464f-9e4f-af13ad0cea0d",
   "metadata": {},
   "outputs": [
    {
     "data": {
      "image/png": "[encoded data removed]",
      "text/plain": [
       "<Figure size 432x288 with 1 Axes>"
      ]
     },
     "metadata": {
      "needs_background": "light"
     },
     "output_type": "display_data"
    }
   ],
   "source": [
    "da = sim_list[s][sim_list[s].Step > 40].copy()\n",
    "sns.pointplot(x='betaIntSoc', y='focalVar', hue='betaExt', data=create_results(sim)[1], errorbar=('ci', 95))\n",
    "plt.yticks([0.25, 0.5, 0.75, 1])\n",
    "plt.title('Interaction Plot')\n",
    "plt.xlabel('betaIntSoc')\n",
    "plt.ylabel('Variance of Focal Node States')\n",
    "#plt.savefig('data/betaIntPers2.pdf')\n",
    "plt.show()"
   ]
  },
  {
   "cell_type": "code",
   "execution_count": 115,
   "id": "be3bfb1f-4359-42d5-9bae-266e4e1f3e85",
   "metadata": {},
   "outputs": [
    {
     "data": {
      "image/png": "[encoded data removed]",
      "text/plain": [
       "<Figure size 432x288 with 1 Axes>"
      ]
     },
     "metadata": {
      "needs_background": "light"
     },
     "output_type": "display_data"
    }
   ],
   "source": [
    "da = sim_list[s][sim_list[s].Step > 40].copy()\n",
    "sns.pointplot(x='betaIntSoc', y='focalVar', hue='betaExt', data=create_results(sim_a)[2], errorbar=('ci', 95))\n",
    "plt.yticks([0.25, 0.5, 0.75, 1])\n",
    "plt.title('Interaction Plot')\n",
    "plt.xlabel('betaIntSoc')\n",
    "plt.ylabel('Variance of Focal Node States')\n",
    "#plt.savefig('data/betaIntPers2.pdf')\n",
    "plt.show()"
   ]
  },
  {
   "cell_type": "code",
   "execution_count": 448,
   "id": "b4d2c07b-b2e3-4e83-8167-97f7d37179df",
   "metadata": {},
   "outputs": [
    {
     "data": {
      "text/html": [
       "<div>\n",
       "<style scoped>\n",
       "    .dataframe tbody tr th:only-of-type {\n",
       "        vertical-align: middle;\n",
       "    }\n",
       "\n",
       "    .dataframe tbody tr th {\n",
       "        vertical-align: top;\n",
       "    }\n",
       "\n",
       "    .dataframe thead th {\n",
       "        text-align: right;\n",
       "    }\n",
       "</style>\n",
       "<table border=\"1\" class=\"dataframe\">\n",
       "  <thead>\n",
       "    <tr style=\"text-align: right;\">\n",
       "      <th></th>\n",
       "      <th>betaIntPers</th>\n",
       "      <th>betaIntSoc</th>\n",
       "      <th>betaExt</th>\n",
       "      <th>AgentID</th>\n",
       "      <th>Step</th>\n",
       "      <th>id</th>\n",
       "      <th>focalNodeStates</th>\n",
       "      <th>meanNodeStates</th>\n",
       "      <th>NodeStates</th>\n",
       "      <th>rep</th>\n",
       "    </tr>\n",
       "  </thead>\n",
       "  <tbody>\n",
       "    <tr>\n",
       "      <th>0</th>\n",
       "      <td>0.5</td>\n",
       "      <td>2.0</td>\n",
       "      <td>2.0</td>\n",
       "      <td>0</td>\n",
       "      <td>0</td>\n",
       "      <td>78</td>\n",
       "      <td>1.000000</td>\n",
       "      <td>5.666667e-01</td>\n",
       "      <td>[1.0, 1.0, 0.33333333333333326, 1.0, -0.333333...</td>\n",
       "      <td>8</td>\n",
       "    </tr>\n",
       "    <tr>\n",
       "      <th>1</th>\n",
       "      <td>0.5</td>\n",
       "      <td>2.0</td>\n",
       "      <td>2.0</td>\n",
       "      <td>1</td>\n",
       "      <td>0</td>\n",
       "      <td>78</td>\n",
       "      <td>1.000000</td>\n",
       "      <td>5.666667e-01</td>\n",
       "      <td>[1.0, 1.0, 0.33333333333333326, 1.0, -0.333333...</td>\n",
       "      <td>8</td>\n",
       "    </tr>\n",
       "    <tr>\n",
       "      <th>2</th>\n",
       "      <td>0.5</td>\n",
       "      <td>2.0</td>\n",
       "      <td>2.0</td>\n",
       "      <td>2</td>\n",
       "      <td>0</td>\n",
       "      <td>78</td>\n",
       "      <td>1.000000</td>\n",
       "      <td>5.666667e-01</td>\n",
       "      <td>[1.0, 1.0, 0.33333333333333326, 1.0, -0.333333...</td>\n",
       "      <td>8</td>\n",
       "    </tr>\n",
       "    <tr>\n",
       "      <th>3</th>\n",
       "      <td>0.5</td>\n",
       "      <td>2.0</td>\n",
       "      <td>2.0</td>\n",
       "      <td>3</td>\n",
       "      <td>0</td>\n",
       "      <td>78</td>\n",
       "      <td>1.000000</td>\n",
       "      <td>5.666667e-01</td>\n",
       "      <td>[1.0, 1.0, 0.33333333333333326, 1.0, -0.333333...</td>\n",
       "      <td>8</td>\n",
       "    </tr>\n",
       "    <tr>\n",
       "      <th>4</th>\n",
       "      <td>0.5</td>\n",
       "      <td>2.0</td>\n",
       "      <td>2.0</td>\n",
       "      <td>4</td>\n",
       "      <td>0</td>\n",
       "      <td>78</td>\n",
       "      <td>1.000000</td>\n",
       "      <td>5.666667e-01</td>\n",
       "      <td>[1.0, 1.0, 0.33333333333333326, 1.0, -0.333333...</td>\n",
       "      <td>8</td>\n",
       "    </tr>\n",
       "    <tr>\n",
       "      <th>...</th>\n",
       "      <td>...</td>\n",
       "      <td>...</td>\n",
       "      <td>...</td>\n",
       "      <td>...</td>\n",
       "      <td>...</td>\n",
       "      <td>...</td>\n",
       "      <td>...</td>\n",
       "      <td>...</td>\n",
       "      <td>...</td>\n",
       "      <td>...</td>\n",
       "    </tr>\n",
       "    <tr>\n",
       "      <th>394995</th>\n",
       "      <td>2.0</td>\n",
       "      <td>0.5</td>\n",
       "      <td>2.0</td>\n",
       "      <td>95</td>\n",
       "      <td>49</td>\n",
       "      <td>118</td>\n",
       "      <td>-1.000000</td>\n",
       "      <td>-5.000000e-01</td>\n",
       "      <td>[0.33333333333333326, 1.0, -0.6666666666666667...</td>\n",
       "      <td>8</td>\n",
       "    </tr>\n",
       "    <tr>\n",
       "      <th>394996</th>\n",
       "      <td>2.0</td>\n",
       "      <td>0.5</td>\n",
       "      <td>2.0</td>\n",
       "      <td>96</td>\n",
       "      <td>49</td>\n",
       "      <td>118</td>\n",
       "      <td>1.000000</td>\n",
       "      <td>1.333333e-01</td>\n",
       "      <td>[1.0, 0.0, -0.6666666666666667, -0.66666666666...</td>\n",
       "      <td>8</td>\n",
       "    </tr>\n",
       "    <tr>\n",
       "      <th>394997</th>\n",
       "      <td>2.0</td>\n",
       "      <td>0.5</td>\n",
       "      <td>2.0</td>\n",
       "      <td>97</td>\n",
       "      <td>49</td>\n",
       "      <td>118</td>\n",
       "      <td>-1.000000</td>\n",
       "      <td>-3.666667e-01</td>\n",
       "      <td>[0.0, 0.6666666666666665, -0.33333333333333337...</td>\n",
       "      <td>8</td>\n",
       "    </tr>\n",
       "    <tr>\n",
       "      <th>394998</th>\n",
       "      <td>2.0</td>\n",
       "      <td>0.5</td>\n",
       "      <td>2.0</td>\n",
       "      <td>98</td>\n",
       "      <td>49</td>\n",
       "      <td>118</td>\n",
       "      <td>0.666667</td>\n",
       "      <td>-2.666667e-01</td>\n",
       "      <td>[0.0, -0.33333333333333337, 0.0, -0.6666666666...</td>\n",
       "      <td>8</td>\n",
       "    </tr>\n",
       "    <tr>\n",
       "      <th>394999</th>\n",
       "      <td>2.0</td>\n",
       "      <td>0.5</td>\n",
       "      <td>2.0</td>\n",
       "      <td>99</td>\n",
       "      <td>49</td>\n",
       "      <td>118</td>\n",
       "      <td>-0.666667</td>\n",
       "      <td>-7.771561e-17</td>\n",
       "      <td>[-1.0, -0.33333333333333337, -0.66666666666666...</td>\n",
       "      <td>8</td>\n",
       "    </tr>\n",
       "  </tbody>\n",
       "</table>\n",
       "<p>40000 rows × 10 columns</p>\n",
       "</div>"
      ],
      "text/plain": [
       "        betaIntPers  betaIntSoc  betaExt  AgentID  Step   id  focalNodeStates   \n",
       "0               0.5         2.0      2.0        0     0   78         1.000000  \\\n",
       "1               0.5         2.0      2.0        1     0   78         1.000000   \n",
       "2               0.5         2.0      2.0        2     0   78         1.000000   \n",
       "3               0.5         2.0      2.0        3     0   78         1.000000   \n",
       "4               0.5         2.0      2.0        4     0   78         1.000000   \n",
       "...             ...         ...      ...      ...   ...  ...              ...   \n",
       "394995          2.0         0.5      2.0       95    49  118        -1.000000   \n",
       "394996          2.0         0.5      2.0       96    49  118         1.000000   \n",
       "394997          2.0         0.5      2.0       97    49  118        -1.000000   \n",
       "394998          2.0         0.5      2.0       98    49  118         0.666667   \n",
       "394999          2.0         0.5      2.0       99    49  118        -0.666667   \n",
       "\n",
       "        meanNodeStates                                         NodeStates  rep  \n",
       "0         5.666667e-01  [1.0, 1.0, 0.33333333333333326, 1.0, -0.333333...    8  \n",
       "1         5.666667e-01  [1.0, 1.0, 0.33333333333333326, 1.0, -0.333333...    8  \n",
       "2         5.666667e-01  [1.0, 1.0, 0.33333333333333326, 1.0, -0.333333...    8  \n",
       "3         5.666667e-01  [1.0, 1.0, 0.33333333333333326, 1.0, -0.333333...    8  \n",
       "4         5.666667e-01  [1.0, 1.0, 0.33333333333333326, 1.0, -0.333333...    8  \n",
       "...                ...                                                ...  ...  \n",
       "394995   -5.000000e-01  [0.33333333333333326, 1.0, -0.6666666666666667...    8  \n",
       "394996    1.333333e-01  [1.0, 0.0, -0.6666666666666667, -0.66666666666...    8  \n",
       "394997   -3.666667e-01  [0.0, 0.6666666666666665, -0.33333333333333337...    8  \n",
       "394998   -2.666667e-01  [0.0, -0.33333333333333337, 0.0, -0.6666666666...    8  \n",
       "394999   -7.771561e-17  [-1.0, -0.33333333333333337, -0.66666666666666...    8  \n",
       "\n",
       "[40000 rows x 10 columns]"
      ]
     },
     "execution_count": 448,
     "metadata": {},
     "output_type": "execute_result"
    }
   ],
   "source": [
    "sim_list[s]"
   ]
  },
  {
   "cell_type": "code",
   "execution_count": null,
   "id": "20493978-679e-45db-8540-961b790e2106",
   "metadata": {},
   "outputs": [],
   "source": []
  },
  {
   "cell_type": "code",
   "execution_count": null,
   "id": "1a3e2217-3310-4954-a0fe-1914a6589aef",
   "metadata": {},
   "outputs": [],
   "source": []
  },
  {
   "cell_type": "code",
   "execution_count": null,
   "id": "79416f9b-8c20-4010-987b-35af18dd32df",
   "metadata": {},
   "outputs": [],
   "source": []
  },
  {
   "cell_type": "code",
   "execution_count": null,
   "id": "588fea9f-3bea-48d9-9ea7-6d0f4236bbf6",
   "metadata": {},
   "outputs": [],
   "source": []
  },
  {
   "cell_type": "code",
   "execution_count": null,
   "id": "fb5b098b-1556-4ab5-a03a-d473b7b7b046",
   "metadata": {},
   "outputs": [],
   "source": []
  },
  {
   "cell_type": "code",
   "execution_count": 116,
   "id": "361f0cf8-43eb-4986-818f-02b66a55ee44",
   "metadata": {},
   "outputs": [],
   "source": [
    "sim_a.to_csv('data/mesa_fully_conn_top_100.csv')"
   ]
  },
  {
   "cell_type": "code",
   "execution_count": null,
   "id": "26091d37-ba31-4261-9b82-edd4f14803a6",
   "metadata": {},
   "outputs": [],
   "source": []
  },
  {
   "cell_type": "code",
   "execution_count": 1017,
   "id": "d65327ba-ed27-4b22-9c19-dd59e56c2f22",
   "metadata": {},
   "outputs": [
    {
     "ename": "TypeError",
     "evalue": "list indices must be integers or slices, not tuple",
     "output_type": "error",
     "traceback": [
      "\u001b[0;31m---------------------------------------------------------------------------\u001b[0m",
      "\u001b[0;31mTypeError\u001b[0m                                 Traceback (most recent call last)",
      "\u001b[0;32m/tmp/ipykernel_33453/428709851.py\u001b[0m in \u001b[0;36m<module>\u001b[0;34m\u001b[0m\n\u001b[0;32m----> 1\u001b[0;31m \u001b[0msubsets\u001b[0m\u001b[0;34m[\u001b[0m\u001b[0;34m(\u001b[0m\u001b[0;36m2\u001b[0m\u001b[0;34m,\u001b[0m \u001b[0;36m2\u001b[0m\u001b[0;34m,\u001b[0m \u001b[0;36m2\u001b[0m\u001b[0;34m)\u001b[0m\u001b[0;34m]\u001b[0m\u001b[0;34m[\u001b[0m\u001b[0;34m'focalNodeStates'\u001b[0m\u001b[0;34m]\u001b[0m\u001b[0;34m.\u001b[0m\u001b[0mvalue_counts\u001b[0m\u001b[0;34m(\u001b[0m\u001b[0;34m)\u001b[0m\u001b[0;34m\u001b[0m\u001b[0;34m\u001b[0m\u001b[0m\n\u001b[0m",
      "\u001b[0;31mTypeError\u001b[0m: list indices must be integers or slices, not tuple"
     ]
    }
   ],
   "source": [
    "subsets[(2, 2, 2)]['focalNodeStates'].value_counts()"
   ]
  },
  {
   "cell_type": "code",
   "execution_count": null,
   "id": "b778a1b2-86b7-4887-877a-4d887a23a783",
   "metadata": {},
   "outputs": [],
   "source": []
  },
  {
   "cell_type": "code",
   "execution_count": null,
   "id": "ac7b7cd5-8f47-48d0-b18d-ef54667624b7",
   "metadata": {},
   "outputs": [],
   "source": []
  },
  {
   "cell_type": "code",
   "execution_count": null,
   "id": "46bc5a25-df14-43a3-b801-5e14eaab574f",
   "metadata": {},
   "outputs": [],
   "source": []
  },
  {
   "cell_type": "code",
   "execution_count": 276,
   "id": "bdf03bea-5936-41b0-8dbd-80a43a4e9a71",
   "metadata": {},
   "outputs": [
    {
     "data": {
      "image/png": "[encoded data removed]",
      "text/plain": [
       "<Figure size 432x288 with 1 Axes>"
      ]
     },
     "metadata": {},
     "output_type": "display_data"
    }
   ],
   "source": [
    "nx.draw(G, with_labels=True, node_color='lightblue', edge_color='gray')\n",
    "plt.show()"
   ]
  },
  {
   "cell_type": "code",
   "execution_count": 13,
   "id": "684346f4-209c-414c-a479-f116cd990b68",
   "metadata": {},
   "outputs": [
    {
     "data": {
      "text/plain": [
       "focalNodeStates\n",
       "-1.000000    64440\n",
       " 1.000000    19514\n",
       "-0.666667     8623\n",
       " 0.666667     8563\n",
       "-0.333333     6477\n",
       " 0.333333     6344\n",
       " 0.000000     6039\n",
       "Name: count, dtype: int64"
      ]
     },
     "execution_count": 13,
     "metadata": {},
     "output_type": "execute_result"
    }
   ],
   "source": [
    "sim_results.reset_index().focalNodeStates.value_counts()"
   ]
  },
  {
   "cell_type": "code",
   "execution_count": null,
   "id": "7e090d1f-2a2a-4ee0-bc69-0754f130d62d",
   "metadata": {},
   "outputs": [],
   "source": []
  },
  {
   "cell_type": "code",
   "execution_count": 252,
   "id": "6f66f658-f67f-4569-9ebf-eee67a2e31e6",
   "metadata": {},
   "outputs": [],
   "source": [
    "adj_mat = []\n",
    "for i in range(len(sim_results.reset_index().Test[8])):\n",
    "    adj_mat.append(list(sim_results.reset_index().Test[8][i][0]))"
   ]
  },
  {
   "cell_type": "code",
   "execution_count": null,
   "id": "8135c8b2-da19-49f6-9a49-8197f0fdd96f",
   "metadata": {},
   "outputs": [],
   "source": []
  },
  {
   "cell_type": "code",
   "execution_count": 59,
   "id": "acd7d38e-f63b-43c9-9574-eddd01a5f226",
   "metadata": {},
   "outputs": [],
   "source": [
    "sim = sim_results.reset_index()"
   ]
  },
  {
   "cell_type": "code",
   "execution_count": 99,
   "id": "e98e6735-e7f9-4fbc-9ba3-ec0aedc1b48d",
   "metadata": {},
   "outputs": [],
   "source": []
  },
  {
   "cell_type": "code",
   "execution_count": 100,
   "id": "8db5a63a-5d02-4104-83c0-0cfa413a3c34",
   "metadata": {},
   "outputs": [
    {
     "data": {
      "text/html": [
       "<div>\n",
       "<style scoped>\n",
       "    .dataframe tbody tr th:only-of-type {\n",
       "        vertical-align: middle;\n",
       "    }\n",
       "\n",
       "    .dataframe tbody tr th {\n",
       "        vertical-align: top;\n",
       "    }\n",
       "\n",
       "    .dataframe thead th {\n",
       "        text-align: right;\n",
       "    }\n",
       "</style>\n",
       "<table border=\"1\" class=\"dataframe\">\n",
       "  <thead>\n",
       "    <tr style=\"text-align: right;\">\n",
       "      <th></th>\n",
       "      <th>Step</th>\n",
       "      <th>AgentID</th>\n",
       "      <th>betaIntPers</th>\n",
       "      <th>betaIntSoc</th>\n",
       "      <th>betaExt</th>\n",
       "      <th>durchgang</th>\n",
       "      <th>focalNodeStates</th>\n",
       "      <th>meanNodeStates</th>\n",
       "      <th>NodeStates</th>\n",
       "    </tr>\n",
       "  </thead>\n",
       "  <tbody>\n",
       "    <tr>\n",
       "      <th>0</th>\n",
       "      <td>0</td>\n",
       "      <td>0</td>\n",
       "      <td>0.5</td>\n",
       "      <td>0.5</td>\n",
       "      <td>0.5</td>\n",
       "      <td>0</td>\n",
       "      <td>0.666667</td>\n",
       "      <td>-6.661338e-17</td>\n",
       "      <td>[0.6666666666666665, -1.0, -1.0, -1.0, 0.0, 0....</td>\n",
       "    </tr>\n",
       "    <tr>\n",
       "      <th>1</th>\n",
       "      <td>0</td>\n",
       "      <td>1</td>\n",
       "      <td>0.5</td>\n",
       "      <td>0.5</td>\n",
       "      <td>0.5</td>\n",
       "      <td>0</td>\n",
       "      <td>-0.333333</td>\n",
       "      <td>1.333333e-01</td>\n",
       "      <td>[-0.33333333333333337, 1.0, -0.333333333333333...</td>\n",
       "    </tr>\n",
       "    <tr>\n",
       "      <th>2</th>\n",
       "      <td>0</td>\n",
       "      <td>2</td>\n",
       "      <td>0.5</td>\n",
       "      <td>0.5</td>\n",
       "      <td>0.5</td>\n",
       "      <td>0</td>\n",
       "      <td>-0.333333</td>\n",
       "      <td>2.000000e-01</td>\n",
       "      <td>[-0.33333333333333337, 0.0, 0.3333333333333332...</td>\n",
       "    </tr>\n",
       "    <tr>\n",
       "      <th>3</th>\n",
       "      <td>0</td>\n",
       "      <td>3</td>\n",
       "      <td>0.5</td>\n",
       "      <td>0.5</td>\n",
       "      <td>0.5</td>\n",
       "      <td>0</td>\n",
       "      <td>0.000000</td>\n",
       "      <td>-1.000000e-01</td>\n",
       "      <td>[0.0, -1.0, -0.6666666666666667, 0.0, 0.0, 0.6...</td>\n",
       "    </tr>\n",
       "    <tr>\n",
       "      <th>4</th>\n",
       "      <td>0</td>\n",
       "      <td>4</td>\n",
       "      <td>0.5</td>\n",
       "      <td>0.5</td>\n",
       "      <td>0.5</td>\n",
       "      <td>0</td>\n",
       "      <td>0.666667</td>\n",
       "      <td>-1.333333e-01</td>\n",
       "      <td>[0.6666666666666665, -0.33333333333333337, -0....</td>\n",
       "    </tr>\n",
       "    <tr>\n",
       "      <th>...</th>\n",
       "      <td>...</td>\n",
       "      <td>...</td>\n",
       "      <td>...</td>\n",
       "      <td>...</td>\n",
       "      <td>...</td>\n",
       "      <td>...</td>\n",
       "      <td>...</td>\n",
       "      <td>...</td>\n",
       "      <td>...</td>\n",
       "    </tr>\n",
       "    <tr>\n",
       "      <th>7995</th>\n",
       "      <td>9</td>\n",
       "      <td>95</td>\n",
       "      <td>2.0</td>\n",
       "      <td>0.5</td>\n",
       "      <td>2.0</td>\n",
       "      <td>0</td>\n",
       "      <td>-0.666667</td>\n",
       "      <td>-2.666667e-01</td>\n",
       "      <td>[0.6666666666666665, -0.6666666666666667, -0.3...</td>\n",
       "    </tr>\n",
       "    <tr>\n",
       "      <th>7996</th>\n",
       "      <td>9</td>\n",
       "      <td>96</td>\n",
       "      <td>2.0</td>\n",
       "      <td>0.5</td>\n",
       "      <td>2.0</td>\n",
       "      <td>0</td>\n",
       "      <td>-0.333333</td>\n",
       "      <td>2.000000e-01</td>\n",
       "      <td>[-0.33333333333333337, 0.33333333333333326, 1....</td>\n",
       "    </tr>\n",
       "    <tr>\n",
       "      <th>7997</th>\n",
       "      <td>9</td>\n",
       "      <td>97</td>\n",
       "      <td>2.0</td>\n",
       "      <td>0.5</td>\n",
       "      <td>2.0</td>\n",
       "      <td>0</td>\n",
       "      <td>-0.666667</td>\n",
       "      <td>-2.666667e-01</td>\n",
       "      <td>[1.0, 1.0, -0.33333333333333337, -1.0, -1.0, -...</td>\n",
       "    </tr>\n",
       "    <tr>\n",
       "      <th>7998</th>\n",
       "      <td>9</td>\n",
       "      <td>98</td>\n",
       "      <td>2.0</td>\n",
       "      <td>0.5</td>\n",
       "      <td>2.0</td>\n",
       "      <td>0</td>\n",
       "      <td>-1.000000</td>\n",
       "      <td>-1.333333e-01</td>\n",
       "      <td>[0.0, 0.0, -0.6666666666666667, 0.0, 1.0, 0.33...</td>\n",
       "    </tr>\n",
       "    <tr>\n",
       "      <th>7999</th>\n",
       "      <td>9</td>\n",
       "      <td>99</td>\n",
       "      <td>2.0</td>\n",
       "      <td>0.5</td>\n",
       "      <td>2.0</td>\n",
       "      <td>0</td>\n",
       "      <td>-1.000000</td>\n",
       "      <td>-5.000000e-01</td>\n",
       "      <td>[0.0, 0.0, -1.0, -0.33333333333333337, -0.3333...</td>\n",
       "    </tr>\n",
       "  </tbody>\n",
       "</table>\n",
       "<p>8000 rows × 9 columns</p>\n",
       "</div>"
      ],
      "text/plain": [
       "      Step  AgentID  betaIntPers  betaIntSoc  betaExt  durchgang   \n",
       "0        0        0          0.5         0.5      0.5          0  \\\n",
       "1        0        1          0.5         0.5      0.5          0   \n",
       "2        0        2          0.5         0.5      0.5          0   \n",
       "3        0        3          0.5         0.5      0.5          0   \n",
       "4        0        4          0.5         0.5      0.5          0   \n",
       "...    ...      ...          ...         ...      ...        ...   \n",
       "7995     9       95          2.0         0.5      2.0          0   \n",
       "7996     9       96          2.0         0.5      2.0          0   \n",
       "7997     9       97          2.0         0.5      2.0          0   \n",
       "7998     9       98          2.0         0.5      2.0          0   \n",
       "7999     9       99          2.0         0.5      2.0          0   \n",
       "\n",
       "      focalNodeStates  meanNodeStates   \n",
       "0            0.666667   -6.661338e-17  \\\n",
       "1           -0.333333    1.333333e-01   \n",
       "2           -0.333333    2.000000e-01   \n",
       "3            0.000000   -1.000000e-01   \n",
       "4            0.666667   -1.333333e-01   \n",
       "...               ...             ...   \n",
       "7995        -0.666667   -2.666667e-01   \n",
       "7996        -0.333333    2.000000e-01   \n",
       "7997        -0.666667   -2.666667e-01   \n",
       "7998        -1.000000   -1.333333e-01   \n",
       "7999        -1.000000   -5.000000e-01   \n",
       "\n",
       "                                             NodeStates  \n",
       "0     [0.6666666666666665, -1.0, -1.0, -1.0, 0.0, 0....  \n",
       "1     [-0.33333333333333337, 1.0, -0.333333333333333...  \n",
       "2     [-0.33333333333333337, 0.0, 0.3333333333333332...  \n",
       "3     [0.0, -1.0, -0.6666666666666667, 0.0, 0.0, 0.6...  \n",
       "4     [0.6666666666666665, -0.33333333333333337, -0....  \n",
       "...                                                 ...  \n",
       "7995  [0.6666666666666665, -0.6666666666666667, -0.3...  \n",
       "7996  [-0.33333333333333337, 0.33333333333333326, 1....  \n",
       "7997  [1.0, 1.0, -0.33333333333333337, -1.0, -1.0, -...  \n",
       "7998  [0.0, 0.0, -0.6666666666666667, 0.0, 1.0, 0.33...  \n",
       "7999  [0.0, 0.0, -1.0, -0.33333333333333337, -0.3333...  \n",
       "\n",
       "[8000 rows x 9 columns]"
      ]
     },
     "execution_count": 100,
     "metadata": {},
     "output_type": "execute_result"
    }
   ],
   "source": [
    "sim"
   ]
  },
  {
   "cell_type": "code",
   "execution_count": 113,
   "id": "5f6846ed-5a64-4365-8437-f28a1689d7d2",
   "metadata": {},
   "outputs": [],
   "source": [
    "sim = listed_sim_results[1].reset_index()\n",
    "sim['identifier'] = sim.apply(lambda x: f\"{x['betaIntPers']}-{x['betaIntSoc']}-{x['betaExt']}-{x['Step']}\", axis=1)\n",
    "\n",
    "# Step 2: Convert the identifier to a categorical type and assign codes\n",
    "sim['id'] = sim['identifier'].astype('category').cat.codes\n",
    "sim = sim.drop(columns = ['identifier'])\n",
    "sim = sim[['betaIntPers', 'betaIntSoc', 'betaExt', 'AgentID', 'Step', 'id', 'focalNodeStates', 'meanNodeStates']]#, \"NodeStates\", \"Test\"]]"
   ]
  },
  {
   "cell_type": "code",
   "execution_count": 114,
   "id": "eb9ae53d-c28b-4983-82d0-ef1054f7fbe0",
   "metadata": {},
   "outputs": [
    {
     "data": {
      "image/png": "[encoded data removed]",
      "text/plain": [
       "<Figure size 720x432 with 1 Axes>"
      ]
     },
     "metadata": {
      "needs_background": "light"
     },
     "output_type": "display_data"
    }
   ],
   "source": [
    "unique_combinations = sim[['betaIntPers', 'betaIntSoc', 'betaExt']].drop_duplicates()\n",
    "\n",
    "subsets = {}\n",
    "\n",
    "for _, row in unique_combinations.iterrows():\n",
    "    key = (row.betaIntPers, row.betaIntSoc, row.betaExt)\n",
    "    subsets[key] = sim[\n",
    "        (sim['betaIntPers'] == row.betaIntPers) &\n",
    "        (sim['betaIntSoc'] == row.betaIntSoc) &\n",
    "        (sim['betaExt'] == row.betaExt)\n",
    "    ]\n",
    "\n",
    "check = subsets[(2, 2, 2)]['focalNodeStates'].value_counts().sort_index()   \n",
    "\n",
    "\n",
    "plt.figure(figsize=(10, 6))\n",
    "plt.plot(np.array(check.index), np.array(check.values), marker='o')  # Line plot\n",
    "plt.title('Value Count Distribution')\n",
    "plt.xlabel('Category')\n",
    "plt.ylabel('Counts')\n",
    "plt.grid(True)\n",
    "plt.show()"
   ]
  },
  {
   "cell_type": "code",
   "execution_count": 110,
   "id": "fea36b68-2159-4f40-beda-785014cfa7c1",
   "metadata": {},
   "outputs": [
    {
     "data": {
      "text/plain": [
       "focalNodeStates\n",
       "-1.000000    678\n",
       " 1.000000     81\n",
       "-0.666667     71\n",
       "-0.333333     54\n",
       " 0.666667     51\n",
       " 0.333333     36\n",
       " 0.000000     29\n",
       "Name: count, dtype: int64"
      ]
     },
     "execution_count": 110,
     "metadata": {},
     "output_type": "execute_result"
    }
   ],
   "source": [
    "subsets[(2, 2, 2)]['focalNodeStates'].value_counts()"
   ]
  },
  {
   "cell_type": "code",
   "execution_count": 65,
   "id": "887c3a76-3f4a-4325-b2b3-45d6f0a44048",
   "metadata": {},
   "outputs": [],
   "source": [
    "sim['identifier'] = sim.apply(lambda x: f\"{x['betaIntPers']}-{x['betaIntSoc']}-{x['betaExt']}-{x['Step']}\", axis=1)\n",
    "\n",
    "# Step 2: Convert the identifier to a categorical type and assign codes\n",
    "sim['id'] = sim['identifier'].astype('category').cat.codes\n",
    "sim = sim.drop(columns = ['identifier'])\n",
    "sim = sim[['betaIntPers', 'betaIntSoc', 'betaExt', 'AgentID', 'Step', 'id', 'focalNodeStates', 'meanNodeStates']]#, \"NodeStates\", \"Test\"]]"
   ]
  },
  {
   "cell_type": "code",
   "execution_count": null,
   "id": "02351ffd-51ce-4df9-acb4-56771a604256",
   "metadata": {},
   "outputs": [],
   "source": []
  },
  {
   "cell_type": "code",
   "execution_count": null,
   "id": "46e91e3b-422d-42ab-a4d2-2496b9fe547f",
   "metadata": {},
   "outputs": [],
   "source": [
    "sim05 = sim[sim['betaIntPers'] == 0.5]\n",
    "sim2 = sim[sim['betaIntPers'] == 2]\n"
   ]
  },
  {
   "cell_type": "code",
   "execution_count": 46,
   "id": "1bb06884-45ee-4b24-8a7f-ecfcf3799c53",
   "metadata": {},
   "outputs": [],
   "source": [
    "unique_combinations = sim[['betaIntPers', 'betaIntSoc', 'betaExt']].drop_duplicates()\n",
    "\n",
    "subsets = {}\n",
    "\n",
    "for _, row in unique_combinations.iterrows():\n",
    "    key = (row.betaIntPers, row.betaIntSoc, row.betaExt)\n",
    "    subsets[key] = sim[\n",
    "        (sim['betaIntPers'] == row.betaIntPers) &\n",
    "        (sim['betaIntSoc'] == row.betaIntSoc) &\n",
    "        (sim['betaExt'] == row.betaExt)\n",
    "    ]\n",
    "\n",
    "subsets[(0.5, 2.0, 2.0)]"
   ]
  },
  {
   "cell_type": "code",
   "execution_count": 48,
   "id": "cbc44c7a-9bf3-4359-b930-1baaf99831ba",
   "metadata": {},
   "outputs": [
    {
     "data": {
      "text/html": [
       "<div>\n",
       "<style scoped>\n",
       "    .dataframe tbody tr th:only-of-type {\n",
       "        vertical-align: middle;\n",
       "    }\n",
       "\n",
       "    .dataframe tbody tr th {\n",
       "        vertical-align: top;\n",
       "    }\n",
       "\n",
       "    .dataframe thead th {\n",
       "        text-align: right;\n",
       "    }\n",
       "</style>\n",
       "<table border=\"1\" class=\"dataframe\">\n",
       "  <thead>\n",
       "    <tr style=\"text-align: right;\">\n",
       "      <th></th>\n",
       "      <th>betaIntPers</th>\n",
       "      <th>betaIntSoc</th>\n",
       "      <th>betaExt</th>\n",
       "      <th>AgentID</th>\n",
       "      <th>Step</th>\n",
       "      <th>id</th>\n",
       "      <th>focalNodeStates</th>\n",
       "      <th>meanNodeStates</th>\n",
       "      <th>NodeStates</th>\n",
       "      <th>Test</th>\n",
       "    </tr>\n",
       "  </thead>\n",
       "  <tbody>\n",
       "    <tr>\n",
       "      <th>20000</th>\n",
       "      <td>0.5</td>\n",
       "      <td>2.0</td>\n",
       "      <td>2.0</td>\n",
       "      <td>0</td>\n",
       "      <td>0</td>\n",
       "      <td>150</td>\n",
       "      <td>-1.000000</td>\n",
       "      <td>-0.266667</td>\n",
       "      <td>[-1.0, -1.0, 0.0, 0.6666666666666665, -1.0, -0...</td>\n",
       "      <td>[]</td>\n",
       "    </tr>\n",
       "    <tr>\n",
       "      <th>20001</th>\n",
       "      <td>0.5</td>\n",
       "      <td>2.0</td>\n",
       "      <td>2.0</td>\n",
       "      <td>1</td>\n",
       "      <td>0</td>\n",
       "      <td>150</td>\n",
       "      <td>0.666667</td>\n",
       "      <td>-0.066667</td>\n",
       "      <td>[0.6666666666666665, -0.6666666666666667, -0.6...</td>\n",
       "      <td>[]</td>\n",
       "    </tr>\n",
       "    <tr>\n",
       "      <th>20002</th>\n",
       "      <td>0.5</td>\n",
       "      <td>2.0</td>\n",
       "      <td>2.0</td>\n",
       "      <td>2</td>\n",
       "      <td>0</td>\n",
       "      <td>150</td>\n",
       "      <td>0.000000</td>\n",
       "      <td>0.300000</td>\n",
       "      <td>[0.0, 1.0, 0.6666666666666665, 0.0, 0.33333333...</td>\n",
       "      <td>[]</td>\n",
       "    </tr>\n",
       "    <tr>\n",
       "      <th>20003</th>\n",
       "      <td>0.5</td>\n",
       "      <td>2.0</td>\n",
       "      <td>2.0</td>\n",
       "      <td>3</td>\n",
       "      <td>0</td>\n",
       "      <td>150</td>\n",
       "      <td>0.000000</td>\n",
       "      <td>0.066667</td>\n",
       "      <td>[0.0, -1.0, 1.0, -0.33333333333333337, -0.6666...</td>\n",
       "      <td>[]</td>\n",
       "    </tr>\n",
       "    <tr>\n",
       "      <th>20004</th>\n",
       "      <td>0.5</td>\n",
       "      <td>2.0</td>\n",
       "      <td>2.0</td>\n",
       "      <td>4</td>\n",
       "      <td>0</td>\n",
       "      <td>150</td>\n",
       "      <td>0.666667</td>\n",
       "      <td>-0.033333</td>\n",
       "      <td>[0.6666666666666665, -0.6666666666666667, 0.33...</td>\n",
       "      <td>[]</td>\n",
       "    </tr>\n",
       "    <tr>\n",
       "      <th>...</th>\n",
       "      <td>...</td>\n",
       "      <td>...</td>\n",
       "      <td>...</td>\n",
       "      <td>...</td>\n",
       "      <td>...</td>\n",
       "      <td>...</td>\n",
       "      <td>...</td>\n",
       "      <td>...</td>\n",
       "      <td>...</td>\n",
       "      <td>...</td>\n",
       "    </tr>\n",
       "    <tr>\n",
       "      <th>24995</th>\n",
       "      <td>0.5</td>\n",
       "      <td>2.0</td>\n",
       "      <td>2.0</td>\n",
       "      <td>95</td>\n",
       "      <td>49</td>\n",
       "      <td>194</td>\n",
       "      <td>0.000000</td>\n",
       "      <td>-0.066667</td>\n",
       "      <td>[0.6666666666666665, 0.0, -0.6666666666666667,...</td>\n",
       "      <td>[]</td>\n",
       "    </tr>\n",
       "    <tr>\n",
       "      <th>24996</th>\n",
       "      <td>0.5</td>\n",
       "      <td>2.0</td>\n",
       "      <td>2.0</td>\n",
       "      <td>96</td>\n",
       "      <td>49</td>\n",
       "      <td>194</td>\n",
       "      <td>-0.333333</td>\n",
       "      <td>-0.233333</td>\n",
       "      <td>[-0.33333333333333337, 0.0, -0.333333333333333...</td>\n",
       "      <td>[]</td>\n",
       "    </tr>\n",
       "    <tr>\n",
       "      <th>24997</th>\n",
       "      <td>0.5</td>\n",
       "      <td>2.0</td>\n",
       "      <td>2.0</td>\n",
       "      <td>97</td>\n",
       "      <td>49</td>\n",
       "      <td>194</td>\n",
       "      <td>-0.666667</td>\n",
       "      <td>-0.266667</td>\n",
       "      <td>[-1.0, 0.33333333333333326, 0.6666666666666665...</td>\n",
       "      <td>[]</td>\n",
       "    </tr>\n",
       "    <tr>\n",
       "      <th>24998</th>\n",
       "      <td>0.5</td>\n",
       "      <td>2.0</td>\n",
       "      <td>2.0</td>\n",
       "      <td>98</td>\n",
       "      <td>49</td>\n",
       "      <td>194</td>\n",
       "      <td>-0.333333</td>\n",
       "      <td>-0.300000</td>\n",
       "      <td>[0.6666666666666665, 0.33333333333333326, 0.0,...</td>\n",
       "      <td>[]</td>\n",
       "    </tr>\n",
       "    <tr>\n",
       "      <th>24999</th>\n",
       "      <td>0.5</td>\n",
       "      <td>2.0</td>\n",
       "      <td>2.0</td>\n",
       "      <td>99</td>\n",
       "      <td>49</td>\n",
       "      <td>194</td>\n",
       "      <td>0.000000</td>\n",
       "      <td>0.066667</td>\n",
       "      <td>[-0.6666666666666667, 0.0, 1.0, -0.33333333333...</td>\n",
       "      <td>[]</td>\n",
       "    </tr>\n",
       "  </tbody>\n",
       "</table>\n",
       "<p>5000 rows × 10 columns</p>\n",
       "</div>"
      ],
      "text/plain": [
       "       betaIntPers  betaIntSoc  betaExt  AgentID  Step   id  focalNodeStates   \n",
       "20000          0.5         2.0      2.0        0     0  150        -1.000000  \\\n",
       "20001          0.5         2.0      2.0        1     0  150         0.666667   \n",
       "20002          0.5         2.0      2.0        2     0  150         0.000000   \n",
       "20003          0.5         2.0      2.0        3     0  150         0.000000   \n",
       "20004          0.5         2.0      2.0        4     0  150         0.666667   \n",
       "...            ...         ...      ...      ...   ...  ...              ...   \n",
       "24995          0.5         2.0      2.0       95    49  194         0.000000   \n",
       "24996          0.5         2.0      2.0       96    49  194        -0.333333   \n",
       "24997          0.5         2.0      2.0       97    49  194        -0.666667   \n",
       "24998          0.5         2.0      2.0       98    49  194        -0.333333   \n",
       "24999          0.5         2.0      2.0       99    49  194         0.000000   \n",
       "\n",
       "       meanNodeStates                                         NodeStates Test  \n",
       "20000       -0.266667  [-1.0, -1.0, 0.0, 0.6666666666666665, -1.0, -0...   []  \n",
       "20001       -0.066667  [0.6666666666666665, -0.6666666666666667, -0.6...   []  \n",
       "20002        0.300000  [0.0, 1.0, 0.6666666666666665, 0.0, 0.33333333...   []  \n",
       "20003        0.066667  [0.0, -1.0, 1.0, -0.33333333333333337, -0.6666...   []  \n",
       "20004       -0.033333  [0.6666666666666665, -0.6666666666666667, 0.33...   []  \n",
       "...               ...                                                ...  ...  \n",
       "24995       -0.066667  [0.6666666666666665, 0.0, -0.6666666666666667,...   []  \n",
       "24996       -0.233333  [-0.33333333333333337, 0.0, -0.333333333333333...   []  \n",
       "24997       -0.266667  [-1.0, 0.33333333333333326, 0.6666666666666665...   []  \n",
       "24998       -0.300000  [0.6666666666666665, 0.33333333333333326, 0.0,...   []  \n",
       "24999        0.066667  [-0.6666666666666667, 0.0, 1.0, -0.33333333333...   []  \n",
       "\n",
       "[5000 rows x 10 columns]"
      ]
     },
     "execution_count": 48,
     "metadata": {},
     "output_type": "execute_result"
    }
   ],
   "source": []
  },
  {
   "cell_type": "code",
   "execution_count": null,
   "id": "5e6a493c-e645-4937-b490-02d16d2f3ad4",
   "metadata": {},
   "outputs": [],
   "source": []
  },
  {
   "cell_type": "code",
   "execution_count": 217,
   "id": "c6c62b76-2232-4cbc-a151-65596c1996de",
   "metadata": {},
   "outputs": [],
   "source": [
    "a2 = sim[sim[\"AgentID\"] == 2]"
   ]
  },
  {
   "cell_type": "code",
   "execution_count": null,
   "id": "e45cb6c8-321b-4b32-a831-b1ddf70b8e71",
   "metadata": {},
   "outputs": [],
   "source": [
    "a2.Test[2]"
   ]
  },
  {
   "cell_type": "code",
   "execution_count": 221,
   "id": "9c11f3fc-a825-4707-ae15-1a5742680930",
   "metadata": {},
   "outputs": [
    {
     "data": {
      "text/plain": [
       "focalNodeStates\n",
       " 0.666667    10\n",
       "-0.333333     8\n",
       " 1.000000     6\n",
       " 0.000000     5\n",
       "-1.000000     4\n",
       "-0.666667     4\n",
       " 0.333333     3\n",
       "Name: count, dtype: int64"
      ]
     },
     "execution_count": 221,
     "metadata": {},
     "output_type": "execute_result"
    }
   ],
   "source": [
    "a2.focalNodeStates.value_counts()"
   ]
  },
  {
   "cell_type": "code",
   "execution_count": null,
   "id": "571cfc29-ebd9-4959-950e-6c76b815ac7c",
   "metadata": {},
   "outputs": [],
   "source": []
  },
  {
   "cell_type": "code",
   "execution_count": 167,
   "id": "dab4ce3c-a529-46f8-86d1-311dbb830e4e",
   "metadata": {},
   "outputs": [],
   "source": [
    "values = []\n",
    "a = a2.Test[2][0][1]\n",
    "for i in range(10000):#len(a2.Test[2])):\n",
    "    \n",
    "    probUnstPerValue = []\n",
    "    for v in np.linspace(-1, 1, 7):\n",
    "        probUnstPerValue.append(1/(1+ np.exp((-np.sum(a2.Test[2][8][0] * v * a2.Test[2][8][3]) + np.sum(a2.Test[2][8][0] * a * a2.Test[2][8][3])))))\n",
    "    probPerValue = [k / sum(probUnstPerValue) for k in probUnstPerValue]\n",
    "    \n",
    "    a = np.random.choice(np.linspace(-1, 1, 7), 1,  p=probPerValue)[0]\n",
    "    values.append(a)"
   ]
  },
  {
   "cell_type": "code",
   "execution_count": null,
   "id": "bd764d78-14f5-4887-9971-8a9c595f0b2f",
   "metadata": {},
   "outputs": [],
   "source": [
    "values"
   ]
  },
  {
   "cell_type": "code",
   "execution_count": 169,
   "id": "af0048ca-aeba-45c9-a40c-eaeb2643bab0",
   "metadata": {},
   "outputs": [
    {
     "data": {
      "text/plain": [
       " 1.000000    2033\n",
       " 0.666667    1815\n",
       " 0.333333    1615\n",
       " 0.000000    1386\n",
       "-0.333333    1235\n",
       "-0.666667    1040\n",
       "-1.000000     876\n",
       "Name: count, dtype: int64"
      ]
     },
     "execution_count": 169,
     "metadata": {},
     "output_type": "execute_result"
    }
   ],
   "source": [
    "pd.Series(values).value_counts()"
   ]
  },
  {
   "cell_type": "code",
   "execution_count": 224,
   "id": "d53fc1ef-1c60-47f5-9421-ea45938f1894",
   "metadata": {},
   "outputs": [
    {
     "data": {
      "text/plain": [
       "[0.5,\n",
       " 0.5525826312265957,\n",
       " 0.6040148856494987,\n",
       " 0.6532449007182832,\n",
       " 0.6994004409005217,\n",
       " 0.7418402904888364,\n",
       " 0.7801716022593173]"
      ]
     },
     "execution_count": 224,
     "metadata": {},
     "output_type": "execute_result"
    }
   ],
   "source": [
    "probUnstPerValue"
   ]
  },
  {
   "cell_type": "code",
   "execution_count": 225,
   "id": "058f00f2-801c-450c-b313-6a73f2560b23",
   "metadata": {},
   "outputs": [],
   "source": [
    "probPerValue = [k / sum(probUnstPerValue) for k in probUnstPerValue]"
   ]
  },
  {
   "cell_type": "code",
   "execution_count": 226,
   "id": "fbc0f7cf-c42c-48c8-8d97-699e106ffc06",
   "metadata": {},
   "outputs": [
    {
     "data": {
      "text/plain": [
       "[0.1103447118842382,\n",
       " 0.12194914246986588,\n",
       " 0.13329969706157002,\n",
       " 0.1441642407192135,\n",
       " 0.15435028028575445,\n",
       " 0.16371630623622044,\n",
       " 0.17217562134313766]"
      ]
     },
     "execution_count": 226,
     "metadata": {},
     "output_type": "execute_result"
    }
   ],
   "source": [
    "probPerValue"
   ]
  },
  {
   "cell_type": "code",
   "execution_count": 252,
   "id": "7f96a7ef-812a-44d2-9a76-7f9ef4f683d2",
   "metadata": {},
   "outputs": [
    {
     "data": {
      "text/plain": [
       "-0.6666666666666667"
      ]
     },
     "execution_count": 252,
     "metadata": {},
     "output_type": "execute_result"
    }
   ],
   "source": [
    "np.random.choice(np.linspace(-1, 1, 7), 1,  p=probPerValue)[0]"
   ]
  },
  {
   "cell_type": "code",
   "execution_count": 242,
   "id": "a423972d-ea25-4b44-b4bb-ffff3f8720b9",
   "metadata": {},
   "outputs": [],
   "source": [
    "observe = [a2.Test[2][i][1] for i in range(len(a2.Test[2]))]\n",
    "    "
   ]
  },
  {
   "cell_type": "code",
   "execution_count": 341,
   "id": "6b8b7e8d-9482-413d-a152-bf9acc252234",
   "metadata": {},
   "outputs": [
    {
     "data": {
      "text/html": [
       "<div>\n",
       "<style scoped>\n",
       "    .dataframe tbody tr th:only-of-type {\n",
       "        vertical-align: middle;\n",
       "    }\n",
       "\n",
       "    .dataframe tbody tr th {\n",
       "        vertical-align: top;\n",
       "    }\n",
       "\n",
       "    .dataframe thead th {\n",
       "        text-align: right;\n",
       "    }\n",
       "</style>\n",
       "<table border=\"1\" class=\"dataframe\">\n",
       "  <thead>\n",
       "    <tr style=\"text-align: right;\">\n",
       "      <th></th>\n",
       "      <th>betaIntPers</th>\n",
       "      <th>betaIntSoc</th>\n",
       "      <th>betaExt</th>\n",
       "      <th>AgentID</th>\n",
       "      <th>Step</th>\n",
       "      <th>id</th>\n",
       "      <th>focalNodeStates</th>\n",
       "      <th>meanNodeStates</th>\n",
       "    </tr>\n",
       "  </thead>\n",
       "  <tbody>\n",
       "    <tr>\n",
       "      <th>0</th>\n",
       "      <td>2.0</td>\n",
       "      <td>2.0</td>\n",
       "      <td>0.5</td>\n",
       "      <td>0</td>\n",
       "      <td>0</td>\n",
       "      <td>600</td>\n",
       "      <td>1.000000</td>\n",
       "      <td>-0.300000</td>\n",
       "    </tr>\n",
       "    <tr>\n",
       "      <th>1</th>\n",
       "      <td>2.0</td>\n",
       "      <td>2.0</td>\n",
       "      <td>0.5</td>\n",
       "      <td>1</td>\n",
       "      <td>0</td>\n",
       "      <td>600</td>\n",
       "      <td>0.333333</td>\n",
       "      <td>-0.100000</td>\n",
       "    </tr>\n",
       "    <tr>\n",
       "      <th>2</th>\n",
       "      <td>2.0</td>\n",
       "      <td>2.0</td>\n",
       "      <td>0.5</td>\n",
       "      <td>2</td>\n",
       "      <td>0</td>\n",
       "      <td>600</td>\n",
       "      <td>-0.333333</td>\n",
       "      <td>0.533333</td>\n",
       "    </tr>\n",
       "    <tr>\n",
       "      <th>3</th>\n",
       "      <td>2.0</td>\n",
       "      <td>2.0</td>\n",
       "      <td>0.5</td>\n",
       "      <td>3</td>\n",
       "      <td>0</td>\n",
       "      <td>600</td>\n",
       "      <td>-0.666667</td>\n",
       "      <td>-0.400000</td>\n",
       "    </tr>\n",
       "    <tr>\n",
       "      <th>4</th>\n",
       "      <td>2.0</td>\n",
       "      <td>2.0</td>\n",
       "      <td>0.5</td>\n",
       "      <td>4</td>\n",
       "      <td>0</td>\n",
       "      <td>600</td>\n",
       "      <td>-0.333333</td>\n",
       "      <td>0.400000</td>\n",
       "    </tr>\n",
       "    <tr>\n",
       "      <th>...</th>\n",
       "      <td>...</td>\n",
       "      <td>...</td>\n",
       "      <td>...</td>\n",
       "      <td>...</td>\n",
       "      <td>...</td>\n",
       "      <td>...</td>\n",
       "      <td>...</td>\n",
       "      <td>...</td>\n",
       "    </tr>\n",
       "    <tr>\n",
       "      <th>79995</th>\n",
       "      <td>2.0</td>\n",
       "      <td>0.5</td>\n",
       "      <td>0.5</td>\n",
       "      <td>95</td>\n",
       "      <td>99</td>\n",
       "      <td>499</td>\n",
       "      <td>1.000000</td>\n",
       "      <td>0.500000</td>\n",
       "    </tr>\n",
       "    <tr>\n",
       "      <th>79996</th>\n",
       "      <td>2.0</td>\n",
       "      <td>0.5</td>\n",
       "      <td>0.5</td>\n",
       "      <td>96</td>\n",
       "      <td>99</td>\n",
       "      <td>499</td>\n",
       "      <td>0.000000</td>\n",
       "      <td>0.033333</td>\n",
       "    </tr>\n",
       "    <tr>\n",
       "      <th>79997</th>\n",
       "      <td>2.0</td>\n",
       "      <td>0.5</td>\n",
       "      <td>0.5</td>\n",
       "      <td>97</td>\n",
       "      <td>99</td>\n",
       "      <td>499</td>\n",
       "      <td>0.000000</td>\n",
       "      <td>-0.100000</td>\n",
       "    </tr>\n",
       "    <tr>\n",
       "      <th>79998</th>\n",
       "      <td>2.0</td>\n",
       "      <td>0.5</td>\n",
       "      <td>0.5</td>\n",
       "      <td>98</td>\n",
       "      <td>99</td>\n",
       "      <td>499</td>\n",
       "      <td>0.000000</td>\n",
       "      <td>-0.100000</td>\n",
       "    </tr>\n",
       "    <tr>\n",
       "      <th>79999</th>\n",
       "      <td>2.0</td>\n",
       "      <td>0.5</td>\n",
       "      <td>0.5</td>\n",
       "      <td>99</td>\n",
       "      <td>99</td>\n",
       "      <td>499</td>\n",
       "      <td>-1.000000</td>\n",
       "      <td>-0.300000</td>\n",
       "    </tr>\n",
       "  </tbody>\n",
       "</table>\n",
       "<p>80000 rows × 8 columns</p>\n",
       "</div>"
      ],
      "text/plain": [
       "       betaIntPers  betaIntSoc  betaExt  AgentID  Step   id  focalNodeStates   \n",
       "0              2.0         2.0      0.5        0     0  600         1.000000  \\\n",
       "1              2.0         2.0      0.5        1     0  600         0.333333   \n",
       "2              2.0         2.0      0.5        2     0  600        -0.333333   \n",
       "3              2.0         2.0      0.5        3     0  600        -0.666667   \n",
       "4              2.0         2.0      0.5        4     0  600        -0.333333   \n",
       "...            ...         ...      ...      ...   ...  ...              ...   \n",
       "79995          2.0         0.5      0.5       95    99  499         1.000000   \n",
       "79996          2.0         0.5      0.5       96    99  499         0.000000   \n",
       "79997          2.0         0.5      0.5       97    99  499         0.000000   \n",
       "79998          2.0         0.5      0.5       98    99  499         0.000000   \n",
       "79999          2.0         0.5      0.5       99    99  499        -1.000000   \n",
       "\n",
       "       meanNodeStates  \n",
       "0           -0.300000  \n",
       "1           -0.100000  \n",
       "2            0.533333  \n",
       "3           -0.400000  \n",
       "4            0.400000  \n",
       "...               ...  \n",
       "79995        0.500000  \n",
       "79996        0.033333  \n",
       "79997       -0.100000  \n",
       "79998       -0.100000  \n",
       "79999       -0.300000  \n",
       "\n",
       "[80000 rows x 8 columns]"
      ]
     },
     "execution_count": 341,
     "metadata": {},
     "output_type": "execute_result"
    }
   ],
   "source": [
    "sim"
   ]
  },
  {
   "cell_type": "code",
   "execution_count": null,
   "id": "1827435c-70a6-4a92-918b-f727eaf7681f",
   "metadata": {},
   "outputs": [],
   "source": []
  },
  {
   "cell_type": "code",
   "execution_count": 66,
   "id": "80238e2c-633c-48e3-b484-6477b6e2addf",
   "metadata": {},
   "outputs": [],
   "source": [
    "sim.to_csv('data/mesa_polarized_100steps.csv')"
   ]
  },
  {
   "cell_type": "code",
   "execution_count": null,
   "id": "3f284b87-c96b-4747-b702-06b854025b51",
   "metadata": {},
   "outputs": [],
   "source": []
  },
  {
   "cell_type": "code",
   "execution_count": null,
   "id": "fb61e6e9-6866-4cbb-ae50-ee2bf9496624",
   "metadata": {},
   "outputs": [],
   "source": []
  }
 ],
 "metadata": {
  "kernelspec": {
   "display_name": "Python 3 (ipykernel)",
   "language": "python",
   "name": "python3"
  },
  "language_info": {
   "codemirror_mode": {
    "name": "ipython",
    "version": 3
   },
   "file_extension": ".py",
   "mimetype": "text/x-python",
   "name": "python",
   "nbconvert_exporter": "python",
   "pygments_lexer": "ipython3",
   "version": "3.8.11"
  }
 },
 "nbformat": 4,
 "nbformat_minor": 5
}
